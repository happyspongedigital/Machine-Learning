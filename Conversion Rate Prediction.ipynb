{
 "cells": [
  {
   "cell_type": "markdown",
   "metadata": {},
   "source": [
    "# Predictive Model for Conversion Rate Prediction\n",
    "* Business Objective\n",
    "* Data Collection and Understanding\n",
    "* Exploratory Data Analysis\n",
    "* Data Preparation\n",
    "* Predictive Modeling\n",
    "* Testing and Evaluation\n",
    "* Deployment"
   ]
  },
  {
   "cell_type": "markdown",
   "metadata": {},
   "source": [
    "## 1. Business Objective: \n",
    "* The goal of this challenge is to build a model that (1) predicts conversion rate and, (2) based on the model, Come up with recommendations for the product team and the marketing team to improve conversion rate."
   ]
  },
  {
   "cell_type": "markdown",
   "metadata": {},
   "source": [
    "## 2. Data Collection and Understanding"
   ]
  },
  {
   "cell_type": "code",
   "execution_count": 1,
   "metadata": {},
   "outputs": [],
   "source": [
    "# Read in the dataset\n",
    "import pandas as pd\n",
    "import numpy as np\n",
    "import pandas_profiling\n",
    "data = pd.read_csv('conversion_data.csv')"
   ]
  },
  {
   "cell_type": "code",
   "execution_count": 2,
   "metadata": {},
   "outputs": [
    {
     "data": {
      "text/html": [
       "<meta charset=\"UTF-8\">\n",
       "\n",
       "<style>\n",
       "\n",
       "        .variablerow {\n",
       "            border: 1px solid #e1e1e8;\n",
       "            border-top: hidden;\n",
       "            padding-top: 2em;\n",
       "            padding-bottom: 2em;\n",
       "            padding-left: 1em;\n",
       "            padding-right: 1em;\n",
       "        }\n",
       "\n",
       "        .headerrow {\n",
       "            border: 1px solid #e1e1e8;\n",
       "            background-color: #f5f5f5;\n",
       "            padding: 2em;\n",
       "        }\n",
       "        .namecol {\n",
       "            margin-top: -1em;\n",
       "            overflow-x: auto;\n",
       "        }\n",
       "\n",
       "        .dl-horizontal dt {\n",
       "            text-align: left;\n",
       "            padding-right: 1em;\n",
       "            white-space: normal;\n",
       "        }\n",
       "\n",
       "        .dl-horizontal dd {\n",
       "            margin-left: 0;\n",
       "        }\n",
       "\n",
       "        .ignore {\n",
       "            opacity: 0.4;\n",
       "        }\n",
       "\n",
       "        .container.pandas-profiling {\n",
       "            max-width:975px;\n",
       "        }\n",
       "\n",
       "        .col-md-12 {\n",
       "            padding-left: 2em;\n",
       "        }\n",
       "\n",
       "        .indent {\n",
       "            margin-left: 1em;\n",
       "        }\n",
       "\n",
       "        .center-img {\n",
       "            margin-left: auto !important;\n",
       "            margin-right: auto !important;\n",
       "            display: block;\n",
       "        }\n",
       "\n",
       "        /* Table example_values */\n",
       "            table.example_values {\n",
       "                border: 0;\n",
       "            }\n",
       "\n",
       "            .example_values th {\n",
       "                border: 0;\n",
       "                padding: 0 ;\n",
       "                color: #555;\n",
       "                font-weight: 600;\n",
       "            }\n",
       "\n",
       "            .example_values tr, .example_values td{\n",
       "                border: 0;\n",
       "                padding: 0;\n",
       "                color: #555;\n",
       "            }\n",
       "\n",
       "        /* STATS */\n",
       "            table.stats {\n",
       "                border: 0;\n",
       "            }\n",
       "\n",
       "            .stats th {\n",
       "                border: 0;\n",
       "                padding: 0 2em 0 0;\n",
       "                color: #555;\n",
       "                font-weight: 600;\n",
       "            }\n",
       "\n",
       "            .stats tr {\n",
       "                border: 0;\n",
       "            }\n",
       "\n",
       "            .stats td{\n",
       "                color: #555;\n",
       "                padding: 1px;\n",
       "                border: 0;\n",
       "            }\n",
       "\n",
       "\n",
       "        /* Sample table */\n",
       "            table.sample {\n",
       "                border: 0;\n",
       "                margin-bottom: 2em;\n",
       "                margin-left:1em;\n",
       "            }\n",
       "            .sample tr {\n",
       "                border:0;\n",
       "            }\n",
       "            .sample td, .sample th{\n",
       "                padding: 0.5em;\n",
       "                white-space: nowrap;\n",
       "                border: none;\n",
       "\n",
       "            }\n",
       "\n",
       "            .sample thead {\n",
       "                border-top: 0;\n",
       "                border-bottom: 2px solid #ddd;\n",
       "            }\n",
       "\n",
       "            .sample td {\n",
       "                width:100%;\n",
       "            }\n",
       "\n",
       "\n",
       "        /* There is no good solution available to make the divs equal height and then center ... */\n",
       "            .histogram {\n",
       "                margin-top: 3em;\n",
       "            }\n",
       "        /* Freq table */\n",
       "\n",
       "            table.freq {\n",
       "                margin-bottom: 2em;\n",
       "                border: 0;\n",
       "            }\n",
       "            table.freq th, table.freq tr, table.freq td {\n",
       "                border: 0;\n",
       "                padding: 0;\n",
       "            }\n",
       "\n",
       "            .freq thead {\n",
       "                font-weight: 600;\n",
       "                white-space: nowrap;\n",
       "                overflow: hidden;\n",
       "                text-overflow: ellipsis;\n",
       "\n",
       "            }\n",
       "\n",
       "            td.fillremaining{\n",
       "                width:auto;\n",
       "                max-width: none;\n",
       "            }\n",
       "\n",
       "            td.number, th.number {\n",
       "                text-align:right ;\n",
       "            }\n",
       "\n",
       "        /* Freq mini */\n",
       "            .freq.mini td{\n",
       "                width: 50%;\n",
       "                padding: 1px;\n",
       "                font-size: 12px;\n",
       "\n",
       "            }\n",
       "            table.freq.mini {\n",
       "                 width:100%;\n",
       "            }\n",
       "            .freq.mini th {\n",
       "                overflow: hidden;\n",
       "                text-overflow: ellipsis;\n",
       "                white-space: nowrap;\n",
       "                max-width: 5em;\n",
       "                font-weight: 400;\n",
       "                text-align:right;\n",
       "                padding-right: 0.5em;\n",
       "            }\n",
       "\n",
       "            .missing {\n",
       "                color: #a94442;\n",
       "            }\n",
       "            .alert, .alert > th, .alert > td {\n",
       "                color: #a94442;\n",
       "            }\n",
       "\n",
       "\n",
       "        /* Bars in tables */\n",
       "            .freq .bar{\n",
       "                float: left;\n",
       "                width: 0;\n",
       "                height: 100%;\n",
       "                line-height: 20px;\n",
       "                color: #fff;\n",
       "                text-align: center;\n",
       "                background-color: #337ab7;\n",
       "                border-radius: 3px;\n",
       "                margin-right: 4px;\n",
       "            }\n",
       "            .other .bar {\n",
       "                background-color: #999;\n",
       "            }\n",
       "            .missing .bar{\n",
       "                background-color: #a94442;\n",
       "            }\n",
       "            .tooltip-inner {\n",
       "                width: 100%;\n",
       "                white-space: nowrap;\n",
       "                text-align:left;\n",
       "            }\n",
       "\n",
       "            .extrapadding{\n",
       "                padding: 2em;\n",
       "            }\n",
       "\n",
       "            .pp-anchor{\n",
       "\n",
       "            }\n",
       "\n",
       "</style>\n",
       "\n",
       "<div class=\"container pandas-profiling\">\n",
       "    <div class=\"row headerrow highlight\">\n",
       "        <h1>Overview</h1>\n",
       "    </div>\n",
       "    <div class=\"row variablerow\">\n",
       "    <div class=\"col-md-6 namecol\">\n",
       "        <p class=\"h4\">Dataset info</p>\n",
       "        <table class=\"stats\" style=\"margin-left: 1em;\">\n",
       "            <tbody>\n",
       "            <tr>\n",
       "                <th>Number of variables</th>\n",
       "                <td>6 </td>\n",
       "            </tr>\n",
       "            <tr>\n",
       "                <th>Number of observations</th>\n",
       "                <td>316200 </td>\n",
       "            </tr>\n",
       "            <tr>\n",
       "                <th>Total Missing (%)</th>\n",
       "                <td>0.0% </td>\n",
       "            </tr>\n",
       "            <tr>\n",
       "                <th>Total size in memory</th>\n",
       "                <td>14.5 MiB </td>\n",
       "            </tr>\n",
       "            <tr>\n",
       "                <th>Average record size in memory</th>\n",
       "                <td>48.0 B </td>\n",
       "            </tr>\n",
       "            </tbody>\n",
       "        </table>\n",
       "    </div>\n",
       "    <div class=\"col-md-6 namecol\">\n",
       "        <p class=\"h4\">Variables types</p>\n",
       "        <table class=\"stats\" style=\"margin-left: 1em;\">\n",
       "            <tbody>\n",
       "            <tr>\n",
       "                <th>Numeric</th>\n",
       "                <td>2 </td>\n",
       "            </tr>\n",
       "            <tr>\n",
       "                <th>Categorical</th>\n",
       "                <td>2 </td>\n",
       "            </tr>\n",
       "            <tr>\n",
       "                <th>Boolean</th>\n",
       "                <td>2 </td>\n",
       "            </tr>\n",
       "            <tr>\n",
       "                <th>Date</th>\n",
       "                <td>0 </td>\n",
       "            </tr>\n",
       "            <tr>\n",
       "                <th>Text (Unique)</th>\n",
       "                <td>0 </td>\n",
       "            </tr>\n",
       "            <tr>\n",
       "                <th>Rejected</th>\n",
       "                <td>0 </td>\n",
       "            </tr>\n",
       "            <tr>\n",
       "                <th>Unsupported</th>\n",
       "                <td>0 </td>\n",
       "            </tr>\n",
       "            </tbody>\n",
       "        </table>\n",
       "    </div>\n",
       "    <div class=\"col-md-12\" style=\"padding-left: 1em;\">\n",
       "        \n",
       "        <p class=\"h4\">Warnings</p>\n",
       "        <ul class=\"list-unstyled\"><li>Dataset has 299903 duplicate rows <span class=\"label label-warning\">Warning</span></li> </ul>\n",
       "    </div>\n",
       "</div>\n",
       "    <div class=\"row headerrow highlight\">\n",
       "        <h1>Variables</h1>\n",
       "    </div>\n",
       "    <div class=\"row variablerow\">\n",
       "    <div class=\"col-md-3 namecol\">\n",
       "        <p class=\"h4 pp-anchor\" id=\"pp_var_age\">age<br/>\n",
       "            <small>Numeric</small>\n",
       "        </p>\n",
       "    </div><div class=\"col-md-6\">\n",
       "    <div class=\"row\">\n",
       "        <div class=\"col-sm-6\">\n",
       "            <table class=\"stats \">\n",
       "                <tr>\n",
       "                    <th>Distinct count</th>\n",
       "                    <td>60</td>\n",
       "                </tr>\n",
       "                <tr>\n",
       "                    <th>Unique (%)</th>\n",
       "                    <td>0.0%</td>\n",
       "                </tr>\n",
       "                <tr class=\"ignore\">\n",
       "                    <th>Missing (%)</th>\n",
       "                    <td>0.0%</td>\n",
       "                </tr>\n",
       "                <tr class=\"ignore\">\n",
       "                    <th>Missing (n)</th>\n",
       "                    <td>0</td>\n",
       "                </tr>\n",
       "                <tr class=\"ignore\">\n",
       "                    <th>Infinite (%)</th>\n",
       "                    <td>0.0%</td>\n",
       "                </tr>\n",
       "                <tr class=\"ignore\">\n",
       "                    <th>Infinite (n)</th>\n",
       "                    <td>0</td>\n",
       "                </tr>\n",
       "            </table>\n",
       "\n",
       "        </div>\n",
       "        <div class=\"col-sm-6\">\n",
       "            <table class=\"stats \">\n",
       "\n",
       "                <tr>\n",
       "                    <th>Mean</th>\n",
       "                    <td>30.57</td>\n",
       "                </tr>\n",
       "                <tr>\n",
       "                    <th>Minimum</th>\n",
       "                    <td>17</td>\n",
       "                </tr>\n",
       "                <tr>\n",
       "                    <th>Maximum</th>\n",
       "                    <td>123</td>\n",
       "                </tr>\n",
       "                <tr class=\"ignore\">\n",
       "                    <th>Zeros (%)</th>\n",
       "                    <td>0.0%</td>\n",
       "                </tr>\n",
       "            </table>\n",
       "        </div>\n",
       "    </div>\n",
       "</div>\n",
       "<div class=\"col-md-3 collapse in\" id=\"minihistogram-6191566489448741110\">\n",
       "    <img src=\"data:image/png;base64,iVBORw0KGgoAAAANSUhEUgAAAMgAAABLCAYAAAA1fMjoAAAABHNCSVQICAgIfAhkiAAAAAlwSFlzAAAPYQAAD2EBqD%2BnaQAAADl0RVh0U29mdHdhcmUAbWF0cGxvdGxpYiB2ZXJzaW9uIDMuMC4zLCBodHRwOi8vbWF0cGxvdGxpYi5vcmcvnQurowAAARhJREFUeJzt3MEJAjEQQFEVS7IIe/JsTxZhT7EB%2BbiL66763j0wl88QCNmPMcYOeOqw9gCwZce1B3iH0%2BU2%2Bcz9el5gEn6NDQJBIBAEAmFzd5A59wlYig0CQSAQBAJBIBAEAkEgEAQCQSAQBAJBIBAEAkEgEAQCQSAQBAJBIBAEAkEgEAQCQSAQBAJBIBAEAkEgEAQCYXM/K36KH%2BF5hQ0CQSAQBAJBIBAEAkEgEAQCQSAQBAJBIBAEAkEgEAQC4W9f884x9QWw17/fzwaBIBAI%2BzHGWHsI2CobBIJAIAgEgkAgCASCQCAIBIJAIAgEgkAgCASCQCAIBIJAIAgEgkAgCASCQCAIBIJAIAgEgkAgCASCQCAIBMIDnqQS/O3aksQAAAAASUVORK5CYII%3D\">\n",
       "\n",
       "</div>\n",
       "<div class=\"col-md-12 text-right\">\n",
       "    <a role=\"button\" data-toggle=\"collapse\" data-target=\"#descriptives-6191566489448741110,#minihistogram-6191566489448741110\"\n",
       "       aria-expanded=\"false\" aria-controls=\"collapseExample\">\n",
       "        Toggle details\n",
       "    </a>\n",
       "</div>\n",
       "<div class=\"row collapse col-md-12\" id=\"descriptives-6191566489448741110\">\n",
       "    <ul class=\"nav nav-tabs\" role=\"tablist\">\n",
       "        <li role=\"presentation\" class=\"active\"><a href=\"#quantiles-6191566489448741110\"\n",
       "                                                  aria-controls=\"quantiles-6191566489448741110\" role=\"tab\"\n",
       "                                                  data-toggle=\"tab\">Statistics</a></li>\n",
       "        <li role=\"presentation\"><a href=\"#histogram-6191566489448741110\" aria-controls=\"histogram-6191566489448741110\"\n",
       "                                   role=\"tab\" data-toggle=\"tab\">Histogram</a></li>\n",
       "        <li role=\"presentation\"><a href=\"#common-6191566489448741110\" aria-controls=\"common-6191566489448741110\"\n",
       "                                   role=\"tab\" data-toggle=\"tab\">Common Values</a></li>\n",
       "        <li role=\"presentation\"><a href=\"#extreme-6191566489448741110\" aria-controls=\"extreme-6191566489448741110\"\n",
       "                                   role=\"tab\" data-toggle=\"tab\">Extreme Values</a></li>\n",
       "\n",
       "    </ul>\n",
       "\n",
       "    <div class=\"tab-content\">\n",
       "        <div role=\"tabpanel\" class=\"tab-pane active row\" id=\"quantiles-6191566489448741110\">\n",
       "            <div class=\"col-md-4 col-md-offset-1\">\n",
       "                <p class=\"h4\">Quantile statistics</p>\n",
       "                <table class=\"stats indent\">\n",
       "                    <tr>\n",
       "                        <th>Minimum</th>\n",
       "                        <td>17</td>\n",
       "                    </tr>\n",
       "                    <tr>\n",
       "                        <th>5-th percentile</th>\n",
       "                        <td>18</td>\n",
       "                    </tr>\n",
       "                    <tr>\n",
       "                        <th>Q1</th>\n",
       "                        <td>24</td>\n",
       "                    </tr>\n",
       "                    <tr>\n",
       "                        <th>Median</th>\n",
       "                        <td>30</td>\n",
       "                    </tr>\n",
       "                    <tr>\n",
       "                        <th>Q3</th>\n",
       "                        <td>36</td>\n",
       "                    </tr>\n",
       "                    <tr>\n",
       "                        <th>95-th percentile</th>\n",
       "                        <td>45</td>\n",
       "                    </tr>\n",
       "                    <tr>\n",
       "                        <th>Maximum</th>\n",
       "                        <td>123</td>\n",
       "                    </tr>\n",
       "                    <tr>\n",
       "                        <th>Range</th>\n",
       "                        <td>106</td>\n",
       "                    </tr>\n",
       "                    <tr>\n",
       "                        <th>Interquartile range</th>\n",
       "                        <td>12</td>\n",
       "                    </tr>\n",
       "                </table>\n",
       "            </div>\n",
       "            <div class=\"col-md-4 col-md-offset-2\">\n",
       "                <p class=\"h4\">Descriptive statistics</p>\n",
       "                <table class=\"stats indent\">\n",
       "                    <tr>\n",
       "                        <th>Standard deviation</th>\n",
       "                        <td>8.2718</td>\n",
       "                    </tr>\n",
       "                    <tr>\n",
       "                        <th>Coef of variation</th>\n",
       "                        <td>0.27059</td>\n",
       "                    </tr>\n",
       "                    <tr>\n",
       "                        <th>Kurtosis</th>\n",
       "                        <td>-0.032363</td>\n",
       "                    </tr>\n",
       "                    <tr>\n",
       "                        <th>Mean</th>\n",
       "                        <td>30.57</td>\n",
       "                    </tr>\n",
       "                    <tr>\n",
       "                        <th>MAD</th>\n",
       "                        <td>6.7358</td>\n",
       "                    </tr>\n",
       "                    <tr class=\"\">\n",
       "                        <th>Skewness</th>\n",
       "                        <td>0.51932</td>\n",
       "                    </tr>\n",
       "                    <tr>\n",
       "                        <th>Sum</th>\n",
       "                        <td>9666189</td>\n",
       "                    </tr>\n",
       "                    <tr>\n",
       "                        <th>Variance</th>\n",
       "                        <td>68.423</td>\n",
       "                    </tr>\n",
       "                    <tr>\n",
       "                        <th>Memory size</th>\n",
       "                        <td>2.4 MiB</td>\n",
       "                    </tr>\n",
       "                </table>\n",
       "            </div>\n",
       "        </div>\n",
       "        <div role=\"tabpanel\" class=\"tab-pane col-md-8 col-md-offset-2\" id=\"histogram-6191566489448741110\">\n",
       "            <img src=\"data:image/png;base64,iVBORw0KGgoAAAANSUhEUgAAAlgAAAGQCAYAAAByNR6YAAAABHNCSVQICAgIfAhkiAAAAAlwSFlzAAAPYQAAD2EBqD%2BnaQAAADl0RVh0U29mdHdhcmUAbWF0cGxvdGxpYiB2ZXJzaW9uIDMuMC4zLCBodHRwOi8vbWF0cGxvdGxpYi5vcmcvnQurowAAIABJREFUeJzt3XtY1HX%2B//%2BHMCgDiIwi1nbZpcuhg1kSKHnIXVHqo4n5QVza/LDZ7tYmJOE31HWx1dXwULRrZppZ5qZ8dkmLbS1L3V3XXDPE1uywiwueWw8gB4UBlMP8/ujD/HZC4%2BDLBuR%2Buy4vrnm93u/XPOc5by4fM%2B/3DF0cDodDAAAAMMbD3QUAAABcawhYAAAAhhGwAAAADCNgAQAAGEbAAgAAMIyABQAAYBgBCwAAwDACFgAAgGEELAAAAMMIWAAAAIYRsAAAAAwjYAEAABhGwAIAADCMgAUAAGAYAQsAAMAwAhYAAIBhBCwAAADDCFgAAACGEbAAAAAMI2ABAAAYRsACAAAwjIAFAABgGAELAADAMAIWAACAYQQsAAAAwwhYAAAAhhGwAAAADCNgAQAAGEbAAgAAMIyABQAAYBgBCwAAwDACFgAAgGEELAAAAMMIWAAAAIYRsAAAAAwjYAEAABhGwAIAADCMgAUAAGAYAQsAAMAwi7sL6CyKiyvcXYI8PLqoZ09flZba1dDgcHc5HRq9NIM%2BmkEfzaCP5rSnXvbu3d0t99su3sEqLS1VTEyMcnNzm8wVFRVp2LBheuutt1zG16xZo5EjR2rQoEFKTEzU4cOHnXNVVVWaM2eOoqKiFBERoVmzZslutzvnjxw5ooceekjh4eEaMWKEXnrpJZe1d%2B7cqdjYWA0aNEhjx47Vjh07DD9i9/Dw6KIuXbrIw6OLu0vp8OilGfTRDPpoBn00h162g4D18ccfKyEhQcePH28y19DQoLS0NJWVlbmM5%2BTkaP369Xr11VeVm5urAQMGKCUlRQ7HVyl54cKFOnXqlLZu3apt27bp1KlTyszMlCTV1tbqscce08CBA5Wbm6uXX35ZWVlZeu%2B99yRJR48e1fTp0/XEE09o3759mj59ulJTU3XmzJmr3AkAAHCtcGvAysnJUVpammbMmHHJ%2BRdffFHXXXedrr/%2BepfxN954Qw8%2B%2BKBCQ0PVrVs3Pfnkkzp58qRyc3NVXV2tzZs3KyUlRQEBAerVq5fS0tL01ltvqbq6Wnl5eSoqKlJKSoq6du2qW2%2B9VYmJicrKynLWFBkZqTFjxshisWjcuHEaPHiwsrOzr3o/AADAtcGtAWvEiBHavn27xo0b12Tuo48%2B0rvvvqt58%2BY1mSssLFRYWJjztpeXl/r166f8/HwdO3ZMtbW1LvPBwcGqqanR0aNHVVBQoP79%2B6tr167O%2BZCQEOXn519y7a/PAwAANMetF7n37t37kuMlJSX6xS9%2BoeXLl8vX17fJvN1ul9VqdRnz9vZWVVWVKisrJUk%2BPj7OucZt7Xb7Jfe1Wq2qqqpqdu2WKioqUnFxscuYxeKjoKCgFq9xNXh6erj8RNvRSzPooxn00Qz6aA69bIefInQ4HJo1a5YSExN12223XXIbq9Wqmpoal7Gamhr5%2Bvo6g1V1dbUznFVXV0uS/Pz85OPj47zd6D%2B3/aa1Wyo7O1srVqxwGUtOTlZKSkqL17ia/P2tzW%2BEFqGXZtBHM%2BijGfTRnM7cy3YXsE6dOqW9e/fqwIEDevHFFyVJlZWV%2BtWvfqWtW7dq9erVCg0NVUFBgUaNGiXpqwvXjx49qrCwMPXv319eXl4qLCzUHXfcIUk6dOiQ8zRiSUmJjh49qrq6OlksXz38wsJChYaGSpLCwsL0xRdfuNRUWFh42bB3KQkJCYqOjnYZs1h8VFZmv8we3w5PTw/5%2B1t1/ny16usb3FpLR0cvzaCPZtBHM%2BijOe2plzZby98gMandBazvfOc7%2Buyzz1zGoqOj9fjjjysuLk6SNGnSJL3wwgsaOXKk%2Bvfvr9/85jcKDAxUZGSkvLy8NHbsWGVmZur555%2BXJGVmZmr8%2BPHy9vZWVFSUbDabnnvuOaWmpurIkSNav36980L7CRMm6LXXXtOWLVt0zz33aNu2bdq7d6/S09Nb/BiCgoKanA4sLq5QXV37%2BIWtr29oN7V0dPTSDPpoBn00gz6a05l72e4CVkvEx8eroqJCycnJKi0t1cCBA7V69Wp5eXlJkubNm6elS5cqNjZWtbW1Gj16tJ566ilJksVi0dq1a7VgwQINHz5cPj4%2BSkxMdIa34OBgvfjii8rMzFR6erpuuOEGvfDCC%2Brfv7/bHi8AAOhYujgavzwKV1V7%2BCZ3i8VDNpuvysrsnfYVhSn00gz6aAZ9NIM%2BmtOeetmpv8kdAADgWkLAAgAAMIyABQAAYBgBCwAAwLAO%2BSlCdExjl%2B12dwmt8l7qcHeXAADooHgHCwAAwDACFgAAgGEELAAAAMMIWAAAAIYRsAAAAAwjYAEAABhGwAIAADCMgAUAAGAYAQsAAMAwAhYAAIBhBCwAAADDCFgAAACGEbAAAAAMI2ABAAAYRsACAAAwjIAFAABgGAELAADAMAIWAACAYQQsAAAAwwhYAAAAhhGwAAAADCNgAQAAGEbAAgAAMMzi7gJwZcYu2%2B3uEgAAwNfwDhYAAIBhBCwAAADDCFgAAACGEbAAAAAMI2ABAAAYRsACAAAwzO0Bq7S0VDExMcrNzXWObd26Vffff7/uvPNORUdHa8WKFWpoaHDO5%2BTkKCYmRoMGDVJcXJz279/vnKuvr9fSpUs1bNgwhYeHa9q0aSoqKnLOl5SUKCkpSZGRkYqKilJGRobq6uqc8wcOHNDkyZMVHh6u6Ohobdy48Sp3AAAAXGvcGrA%2B/vhjJSQk6Pjx486xzz//XLNmzVJqaqr27dunNWvW6K233tK6deskSbm5uVq4cKGWLFmivLw8TZgwQdOmTVN1dbUkadWqVdq9e7fefPNN7dq1S97e3po7d65z/dTUVPn4%2BGjXrl3atGmT9uzZ41z73LlzevTRRzVx4kTl5eUpIyNDixcv1qeffvqt9QQAAHR8bgtYOTk5SktL04wZM1zG//3vf%2BuBBx7QqFGj5OHhoeDgYMXExCgvL0%2BStHHjRt13332KiIiQl5eXpk6dKpvNpi1btjjnH3nkEV1//fXy8/NTenq6PvjgA504cULHjh3T3r17NXPmTFmtVvXt21dJSUnKysqSJG3btk0BAQGaMmWKLBaLhg4dqtjYWOc8AABAS7gtYI0YMULbt2/XuHHjXMbvvfdezZkzx3m7pqZGf/3rXzVgwABJUmFhocLCwlz2CQkJUX5%2BvioqKnT69GmX%2BcDAQPXo0UMHDx5UQUGBAgIC1KdPH%2Bd8cHCwTp48qfPnz6ugoOCyawMAALSU2/5UTu/evZvdprKyUk888YS8vb01depUSZLdbpfVanXZztvbW1VVVbLb7ZIkHx%2BfJvONc1/ft/F24/6XW7s1ioqKVFxc7DJmsfgoKCioVevAvSyWy7/%2B8PT0cPmJtqGPZtBHM%2BijOfSyHf8twsOHDyslJUW9evXS66%2B/Lj8/P0lfBaKamhqXbWtqamSz2ZzhqPF6rP%2Bc9/X1lcPhaDLXeNvX11dWq1UVFRWX3Lc1srOztWLFCpex5ORkpaSktGoduJfN1vzz7u9vbXYbNI8%2BmkEfzaCP5nTmXrbLgLVz5079v//3//SDH/xATz75pCyW/7/M0NBQFRQUuGxfWFiokSNHqkePHurTp4/LacTi4mKVl5crLCxMDQ0NKi8v19mzZxUYGChJOnTokK677jp1795dYWFh2r17d5O1Q0NDW1V/QkKCoqOjXcYsFh%2BVldlbtQ7c65ueL09PD/n7W3X%2BfLXq6xsuux2%2BGX00gz6aQR/NaU%2B9bMmL5auh3QWsTz75RMnJyZo/f77i4%2BObzMfHxys5OVljx45VRESEsrKyVFJSopiYGElSXFycVq1apYEDB8pms2nRokUaMmSIbrzxRklSRESEFi1apAULFqisrEwrV6503k9MTIyeffZZrVu3TlOmTNHHH3%2BszZs3a%2BXKla16DEFBQU1OBxYXV6iujl/YjqQlz1d9fQPPqwH00Qz6aAZ9NKcz97LdBayXXnpJdXV1ysjIUEZGhnM8IiJCr7zyioYOHap58%2BZp/vz5OnPmjEJCQrRmzRoFBARI%2BupUXF1dnaZMmSK73a6oqCgtW7bMuc7y5cu1YMECjR49Wh4eHpo4caKSkpIkSTabTWvXrlVGRoaWL1%2Bunj17au7cubrrrru%2B3SYAAIAOrYvD4XC4u4jOoLi4ovmN2mDsst3Nb4Q2eS91%2BGXnLBYP2Wy%2BKiuzd9pXZybQRzPooxn00Zz21Mvevbu75X477%2BX9AAAAVwkBCwAAwDACFgAAgGEELAAAAMMIWAAAAIYRsAAAAAwjYAEAABhGwAIAADCMgAUAAGAYAQsAAMAwAhYAAIBhBCwAAADDCFgAAACGEbAAAAAMI2ABAAAYRsACAAAwjIAFAABgGAELAADAMAIWAACAYQQsAAAAwwhYAAAAhhGwAAAADCNgAQAAGEbAAgAAMIyABQAAYBgBCwAAwDACFgAAgGEELAAAAMMIWAAAAIYRsAAAAAwjYAEAABhGwAIAADCMgAUAAGAYAQsAAMAwAhYAAIBhbg9YpaWliomJUW5urnPswIEDmjx5ssLDwxUdHa2NGze67JOTk6OYmBgNGjRIcXFx2r9/v3Ouvr5eS5cu1bBhwxQeHq5p06apqKjIOV9SUqKkpCRFRkYqKipKGRkZqqura/F9AwAANMetAevjjz9WQkKCjh8/7hw7d%2B6cHn30UU2cOFF5eXnKyMjQ4sWL9emnn0qScnNztXDhQi1ZskR5eXmaMGGCpk2bpurqaknSqlWrtHv3br355pvatWuXvL29NXfuXOf6qamp8vHx0a5du7Rp0ybt2bNH69ata9F9AwAAtITbAlZOTo7S0tI0Y8YMl/Ft27YpICBAU6ZMkcVi0dChQxUbG6usrCxJ0saNG3XfffcpIiJCXl5emjp1qmw2m7Zs2eKcf%2BSRR3T99dfLz89P6enp%2BuCDD3TixAkdO3ZMe/fu1cyZM2W1WtW3b18lJSU5127uvgEAAFrCbQFrxIgR2r59u8aNG%2BcyXlBQoLCwMJexkJAQ5efnS5IKCwsvO19RUaHTp0%2B7zAcGBqpHjx46ePCgCgoKFBAQoD59%2Bjjng4ODdfLkSZ0/f77Z%2BwYAAGgJi7vuuHfv3pcct9vtslqtLmPe3t6qqqpqdt5ut0uSfHx8msw3zn1938bbjft/0323VFFRkYqLi13GLBYfBQUFtWoduJfFcvnXH56eHi4/0Tb00Qz6aAZ9NIdeujFgXY7ValVFRYXLWE1NjXx9fZ3zNTU1TeZtNpszHDVej/X1/R0OR5O5xtu%2Bvr7N3ndLZWdna8WKFS5jycnJSklJadU6cC%2Bbrfnn3d/f2uw2aB59NIM%2BmkEfzenMvWx3ASssLEy7d%2B92GSssLFRoaKgkKTQ0VAUFBU3mR44cqR49eqhPnz4upxGLi4tVXl6usLAwNTQ0qLy8XGfPnlVgYKAk6dChQ7ruuuvUvXv3Zu%2B7pRISEhQdHe0yZrH4qKzM3qp14F7f9Hx5enrI39%2Bq8%2BerVV/f8C1WdW2hj2bQRzPoozntqZctebF8NbS7gBUTE6Nnn31W69at05QpU/Txxx9r8%2BbNWrlypSQpPj5eycnJGjt2rCIiIpSVlaWSkhLFxMRIkuLi4rRq1SoNHDhQNptNixYt0pAhQ3TjjTdKkiIiIrRo0SItWLBAZWVlWrlypeLj41t03y0VFBTU5HRgcXGF6ur4he1IWvJ81dc38LwaQB/NoI9m0EdzOnMv213AstlsWrt2rTIyMrR8%2BXL17NlTc%2BfO1V133SVJGjp0qObNm6f58%2BfrzJkzCgkJ0Zo1axQQECDpq1NxdXV1mjJliux2u6KiorRs2TLn%2BsuXL9eCBQs0evRoeXh4aOLEiUpKSmrRfQMAALREF4fD4XB3EZ1BcXFF8xu1wdhlu5vfCG3yXurwy85ZLB6y2XxVVmbvtK/OTKCPZtBHM%2BijOe2pl717d3fL/Xbey/sBAACuEgIWAACAYQQsAAAAwwhYAAAAhhGwAAAADCNgAQAAGEbAAgAAMIyABQAAYBgBCwAAwDACFgAAgGEELAAAAMMIWAAAAIYRsAAAAAwjYAEAABhGwAIAADCMgAUAAGAYAQsAAMAwAhYAAIBhBCwAAADDCFgAAACGEbAAAAAMI2ABAAAYRsACAAAwjIAFAABgGAELAADAsDYFrPr6etN1AAAAXDPaFLBGjhypZ555RoWFhabrAQAA6PDaFLAef/xx/f3vf9f48eM1efJk/f73v1dFRYXp2gAAADqkNgWsH/7wh/r973%2Bv999/X8OGDdOaNWs0YsQIPfnkk/rwww9N1wgAANChXNFF7v369dOMGTP0/vvvKzk5WX/%2B85/1k5/8RNHR0Xrttde4VgsAAHRKlivZ%2BcCBA/rDH/6gLVu26OLFi4qJiVFcXJzOnDmj559/Xp999pl%2B/etfm6oVAACgQ2hTwFq5cqXefvttHTt2TAMHDtSMGTM0fvx4%2Bfn5Obfx9PTUL3/5S2OFAgAAdBRtClgbNmzQhAkTFB8fr5CQkEtuExwcrLS0tCsqDgAAoCNqU8D64IMPVFlZqfLycufYli1bNHToUNlsNknSrbfeqltvvdVMlQAAAB1Imy5y/8c//qF7771X2dnZzrFnn31WsbGx%2Bte//mWsOAAAgI6oTQHrmWee0T333KMZM2Y4x/70pz9p5MiRWrJkiZHCvvjiC02ZMkWRkZEaMWKEnn76aV28eFGStHPnTsXGxmrQoEEaO3asduzY4bLvmjVrNHLkSA0aNEiJiYk6fPiwc66qqkpz5sxRVFSUIiIiNGvWLNntduf8kSNH9NBDDyk8PFwjRozQSy%2B9ZOTxAACAzqNNAeuLL77Qo48%2Bqq5duzrHPD099eijj%2BqTTz654qIaGhr0s5/9TPfee6/27t2rTZs26W9/%2B5vWrFmjo0ePavr06XriiSe0b98%2BTZ8%2BXampqTpz5owkKScnR%2BvXr9err76q3NxcDRgwQCkpKXI4HJKkhQsX6tSpU9q6dau2bdumU6dOKTMzU5JUW1urxx57TAMHDlRubq5efvllZWVl6b333rvixwQAADqPNgUsPz8/HT9%2BvMn46dOn5e3tfcVFnTt3TsXFxWpoaHAGIw8PD1mtVuXk5CgyMlJjxoyRxWLRuHHjNHjwYOfpyjfeeEMPPvigQkND1a1bNz355JM6efKkcnNzVV1drc2bNyslJUUBAQHq1auX0tLS9NZbb6m6ulp5eXkqKipSSkqKunbtqltvvVWJiYnKysq64scEAAA6jzZd5H7vvfdq/vz5%2BtWvfqXbb79dXbp00WeffaYFCxYoJibmiouy2WyaOnWqli5dqmeeeUb19fUaPXq0pk6dqunTpyssLMxl%2B5CQEOXn50uSCgsL9cgjjzjnvLy81K9fP%2BXn5ysgIEC1tbUu%2BwcHB6umpkZHjx5VQUGB%2Bvfv7/LOXEhIiF5%2B%2BeVW1V9UVKTi4mKXMYvFR0FBQa1aB%2B5lsVz%2B9Yenp4fLT7QNfTSDPppBH82hl20MWE8%2B%2BaROnDihH//4x%2BrSpYtzPCYmRrNmzbriohoaGuTt7a2nnnpK8fHxOnbsmB5//HEtX75cdrtdVqvVZXtvb29VVVVJ0jfOV1ZWSpJ8fHycc43b2u32S%2B5rtVqda7dUdna2VqxY4TKWnJyslJSUVq0D97LZfJvdxt/f2uw2aB59NIM%2BmkEfzenMvWxTwLJarVq9erWOHDmigwcPysvLS8HBwerXr5%2BRorZv366tW7fq/ffflySFhoYqOTlZGRkZuvPOO1VTU%2BOyfU1NjXx9fZ21XW6%2BMVhVV1c7t6%2Burpb01WlPHx8f5%2B1G/7ltSyUkJCg6OtplzGLxUVmZ/TJ7oD36pufL09ND/v5WnT9frfr6hm%2BxqmsLfTSDPppBH81pT71syYvlq%2BGK/lRO//791b9/f1O1OJ06dcr5icFGFotFXl5eCgsL0xdffOEyV1hYqNtuu03SV2GsoKBAo0aNkvTVhetHjx5VWFiY%2BvfvLy8vLxUWFuqOO%2B6QJB06dMh5GrGkpERHjx5VXV2dLBaLc%2B3Q0NBW1R8UFNTkdGBxcYXq6viF7Uha8nzV1zfwvBpAH82gj2bQR3M6cy/bdHL0yJEjevjhh3X77bfrlltuafLvSo0YMULFxcV66aWXVF9frxMnTmjVqlWKjY3VhAkTtHfvXm3ZskV1dXXasmWL9u7dq/vvv1%2BSNGnSJG3YsEH5%2Bfm6cOGCnnvuOQUGBioyMlJWq1Vjx45VZmamSktLVVpaqszMTI0fP17e3t6KioqSzWbTc889pwsXLig/P1/r169XfHz8FT8mAADQebTpHaz58%2Bfr5MmTSktLU/fu3U3XpJCQEK1evVrLli3TK6%2B8ou7du2vChAlKTk5W165d9eKLLyozM1Pp6em64YYb9MILLzjfSYuPj1dFRYWSk5NVWlqqgQMHavXq1fLy8pIkzZs3T0uXLlVsbKxqa2s1evRoPfXUU5K%2Bepds7dq1WrBggYYPHy4fHx8lJiYqLi7O%2BGMEAADXri6Oxu9BaIXbb79dv/3tbxUeHn41aromFRdXXJV1xy7bfVXWhfRe6vDLzlksHrLZfFVWZu%2B0b3%2BbQB/NoI9m0Edz2lMve/c2/0ZQS7TpFKHNZmv1hd8AAACdRZsCVmJion7961%2BrouLqvCsDAADQkbXpGqydO3fqk08%2BUVRUlHr16uXyxZyS9Oc//9lIcQAAAB1RmwJWVFSUoqKiTNcCAABwTWhTwHr88cdN1wEAAHDNaPMfCcrPz9ecOXP0wAMP6MyZM8rKylJubq7J2gAAADqkNgWszz//XJMnT9aXX36pzz//XBcvXtQ///lP/fjHP9aOHTtM1wgAANChtClgZWZm6sc//rHWr1/v/ALPp59%2BWj/60Y%2Ba/JFjAACAzqbN72BNnDixyfgPf/hDHT58%2BIqLAgAA6MjaFLC8vLxUWVnZZPzkyZOyWq1XXBQAAEBH1qaANWbMGD333HMqKytzjh06dEgZGRn6/ve/b6o2AACADqlNAWv27NmqqanRsGHDVF1drbi4OI0fP14Wi0WzZs0yXSMAAECH0qbvwfLz89Pvf/977dmzR//4xz/U0NCgsLAw3X333fLwaPM3PwAAAFwT2hSwGg0dOlRDhw41VQsAAMA1oU0BKzo6Wl26dLnsPH%2BLEAAAdGZtClj//d//7RKwamtrdezYMX3wwQdKTU01VhwAAEBH1KaANX369EuOb9iwQR9//LF%2B9KMfXVFRAAAAHZnRK9JHjRqlnTt3mlwSAACgwzEasPbu3atu3bqZXBIAAKDDadMpwq%2BfAnQ4HKqsrNTBgwc5PQgAADq9NgWs73znO00%2BRejl5aWHHnpIsbGxRgoDAADoqNoUsJYsWWK6DgAAgGtGmwJWXl5ei7cdPHhwW%2B4CAACgw2pTwJo6daocDofzX6PG04aNY126dNE///lPA2UCAAB0HG0KWC%2B88IIWL16s2bNn66677pKXl5cOHDig%2BfPn68EHH9SoUaNM1wkAANBhtOlrGpYuXap58%2BZpzJgx8vPzU7du3TRkyBAtWLBAa9eu1Q033OD8BwAA0Nm0KWAVFRXp%2BuuvbzLu5%2BensrKyKy4KAACgI2tTwBo0aJB%2B/etfq7Ky0jlWXl6uZ599VkOHDjVWHAAAQEfUpmuw5s6dq4ceekgjR45Uv379JElHjhxR79699frrr5usDwAAoMNpU8AKDg7Wli1btHnzZh06dEiS9OCDD%2Bq%2B%2B%2B6T1Wo1WiAAAEBH06aAJUn%2B/v6aPHmyvvzyS/Xt21fSV9/mDgAA0Nm16Rosh8OhzMxMDR48WOPHj9fp06c1e/ZszZkzR7W1taZrBAAA6FDaFLDWr1%2Bvt99%2BW/PmzVPXrl0lSWPGjNFf/vIXPf/880YLBAAA6GjaFLCys7P1y1/%2BUnFxcc5vbx83bpwyMjL07rvvGi0QAACgo2lTwPryyy91yy23NBm/6aabdPbs2SsuCgAAoCNrU8C64YYb9OmnnzYZ37lzp/OC9ytVXl6uWbNmKSoqSoMHD1ZSUpKKiookSQcOHNDkyZMVHh6u6Ohobdy40WXfnJwcxcTEaNCgQYqLi9P%2B/fudc/X19Vq6dKmGDRum8PBwTZs2zbmuJJWUlCgpKUmRkZGKiopSRkaG6urqjDwmAADQObQpYP3kJz/Rr371K7322mtyOBzas2ePnn32WT3zzDNKTEw0Utj06dNVVVWl7du3a8eOHfL09NRTTz2lc%2BfO6dFHH9XEiROVl5enjIwMLV682Bn4cnNztXDhQi1ZskR5eXmaMGGCpk2bpurqaknSqlWrtHv3br355pvatWuXvL29NXfuXOf9pqamysfHR7t27dKmTZu0Z88erVu3zshjAgAAnUObvqZh0qRJqqur06pVq1RTU6Nf/vKX6tWrl2bMmKEf/vCHV1zU559/rgMHDujDDz%2BUn5%2BfJGnhwoUqLi7Wtm3bFBAQoClTpkiShg4dqtjYWGVlZen222/Xxo0bdd999ykiIkKSNHXqVGVnZ2vLli2aNGmSNm7cqLS0NOef%2BklPT9eIESN04sQJNTQ0aO/evfrggw9ktVrVt29fJSUl6dlnn9VPf/rTK35cAACgc2hTwPrjH/%2Bo//qv/1JCQoJKS0vlcDjUq1cvY0V9%2BumnCgkJ0RtvvKHf/e53qq6u1t13363Zs2eroKBAYWFhLtuHhIRo06ZNkqTCwkJNmjSpyXx%2Bfr4qKip0%2BvRpl/0DAwPVo0cPHTx4UJIUEBCgPn36OOeDg4N18uRJnT9/Xv7%2B/i2qv6ioSMXFxS5jFouPgoKCWt4EuJ3Fcvk3eD09PVx%2Bom3ooxn00Qz6aA69bGPAevrppzVgwAD16NFDPXv2NF2Tzp07p4MHD%2Bq2225TTk6OampqNGvWLM2ePVuBgYFNvi3e29tbVVVVkiS73X7ZebvdLkny8fFpMt849/V9G29XVVW1OGBlZ2drxYoVLmPJyckOy/2jAAAYbUlEQVRKSUlp0f5oH2w232a38ffnLxeYQB/NoI9m0EdzOnMv2xSw%2BvXrp4MHDyo4ONh0PZLk/G6t9PR0devWTX5%2BfkpNTdUPfvADxcXFqaamxmX7mpoa%2Bfp%2B9Z%2Bh1Wq95LzNZnOGpcbrsb6%2Bv8PhaDLXeLtx/ZZISEhQdHS0y5jF4qOyMnuL14D7fdPz5enpIX9/q86fr1Z9fcO3WNW1hT6aQR/NoI/mtKdetuTF8tXQpoAVGhqqtLQ0vfLKK%2BrXr5%2B6devmMr948eIrKiokJEQNDQ2qra11rt3Q8NUTdMstt%2Bh///d/XbYvLCxUaGios7aCgoIm8yNHjlSPHj3Up08fFRYWOk8TFhcXq7y8XGFhYWpoaFB5ebnOnj2rwMBASdKhQ4d03XXXqXv37i2uPygoqMnpwOLiCtXV8QvbkbTk%2Baqvb%2BB5NYA%2BmkEfzaCP5nTmXrbp5Ojx48cVEREhX19fFRcX68svv3T5d6WGDRumvn376he/%2BIXsdrtKS0v1m9/8RmPGjNH48eN19uxZrVu3TrW1tfroo4%2B0efNm53VX8fHx2rx5sz766CPV1tZq3bp1KikpUUxMjCQpLi5Oq1at0okTJ1RZWalFixZpyJAhuvHGG9WvXz9FRERo0aJFqqys1IkTJ7Ry5UrFx8df8WMCAACdRxeHw%2BFoyYaLFy/WE0880eT6pavlzJkzzq9auHDhgqKjo5Weni5/f3999tlnysjI0L/%2B9S/17NlTSUlJiouLc%2B779ttva9WqVTpz5oxCQkI0d%2B5c3XHHHZKk2tpaPf/88/rjH/8ou92uqKgoLVy40HmR/tmzZ7VgwQLl5ubKw8NDEydOVFpamjw9Pa/o8RQXV1zR/pczdtnuq7IupPdSh192zmLxkM3mq7Iye6d9dWYCfTSDPppBH81pT73s3bvlZ6BManHAuuWWW/S3v/3N5dOCP/nJT7R48WI%2BHdcCBKyOh4B19dFHM%2BijGfTRnPbUS3cFrBafIrxUDvv73/%2BuCxcuGC0IAACgo%2Bu8X1ABAABwlRCwAAAADGtVwOrSpcvVqgMAAOCa0arvwXr66addvvOqtrZWzz77bJMv4bzS78ECAADoyFocsAYPHtzk7%2BuFh4errKxMZWVlxgsDAADoqFocsNavX3816wAAALhmcJE7AACAYQQsAAAAwwhYAAAAhhGwAAAADCNgAQAAGEbAAgAAMIyABQAAYBgBCwAAwDACFgAAgGEELAAAAMMIWAAAAIYRsAAAAAwjYAEAABhGwAIAADCMgAUAAGCYxd0FAO3V2GW73V1Cq7yXOtzdJQAA/g/vYAEAABhGwAIAADCMgAUAAGAYAQsAAMAwAhYAAIBhBCwAAADDCFgAAACGEbAAAAAMI2ABAAAYRsACAAAwjIAFAABgGAELAADAsHYfsOrr65WYmKif//znzrGdO3cqNjZWgwYN0tixY7Vjxw6XfdasWaORI0dq0KBBSkxM1OHDh51zVVVVmjNnjqKiohQREaFZs2bJbrc7548cOaKHHnpI4eHhGjFihF566aWr/yABAMA1pd0HrBUrVmjfvn3O20ePHtX06dP1xBNPaN%2B%2BfZo%2BfbpSU1N15swZSVJOTo7Wr1%2BvV199Vbm5uRowYIBSUlLkcDgkSQsXLtSpU6e0detWbdu2TadOnVJmZqYkqba2Vo899pgGDhyo3Nxcvfzyy8rKytJ777337T9wAADQYbXrgLVnzx5t27ZN99xzj3MsJydHkZGRGjNmjCwWi8aNG6fBgwcrOztbkvTGG2/owQcfVGhoqLp166Ynn3xSJ0%2BeVG5urqqrq7V582alpKQoICBAvXr1Ulpamt566y1VV1crLy9PRUVFSklJUdeuXXXrrbcqMTFRWVlZ7moBAADogCzuLuBySkpKlJ6erpUrV2rdunXO8cLCQoWFhblsGxISovz8fOf8I4884pzz8vJSv379lJ%2Bfr4CAANXW1rrsHxwcrJqaGh09elQFBQXq37%2B/unbt6rL2yy%2B/3Krai4qKVFxc7DJmsfgoKCioVesArWGxtOvXS5fk6enh8hNtQx/NoI/m0Mt2GrAaGho0c%2BZMPfzww7r55ptd5ux2u6xWq8uYt7e3qqqqmp2vrKyUJPn4%2BDjnGre12%2B2X3NdqtTrXbqns7GytWLHCZSw5OVkpKSmtWgdoDZvN190ltJm/v7X5jdAs%2BmgGfTSnM/eyXQas1atXq2vXrkpMTGwyZ7VaVVNT4zJWU1MjX1/fZucbg1V1dbVz%2B%2BrqakmSn5%2BffHx8nLcb/ee2LZWQkKDo6GiXMYvFR2Vl9svsAVy5jnh8eXp6yN/fqvPnq1Vf3%2BDucjos%2BmgGfTSnPfXSXS8%2B22XAevvtt1VUVKTIyEhJcgamP/3pT5oyZYq%2B%2BOILl%2B0LCwt12223SZJCQ0NVUFCgUaNGSfrqwvWjR48qLCxM/fv3l5eXlwoLC3XHHXdIkg4dOuQ8jVhSUqKjR4%2Bqrq5OFovFuXZoaGir6g8KCmpyOrC4uEJ1dfzC4urpyMdXfX1Dh66/vaCPZtBHczpzL9vlydH3339ff//737Vv3z7t27dP48eP1/jx47Vv3z5NmDBBe/fu1ZYtW1RXV6ctW7Zo7969uv/%2B%2ByVJkyZN0oYNG5Sfn68LFy7oueeeU2BgoCIjI2W1WjV27FhlZmaqtLRUpaWlyszM1Pjx4%2BXt7a2oqCjZbDY999xzunDhgvLz87V%2B/XrFx8e7uSMAAKAjaZfvYH2T4OBgvfjii8rMzFR6erpuuOEGvfDCC%2Brfv78kKT4%2BXhUVFUpOTlZpaakGDhyo1atXy8vLS5I0b948LV26VLGxsaqtrdXo0aP11FNPSZIsFovWrl2rBQsWaPjw4fLx8VFiYqLi4uLc9ngBAEDH08XR%2BAVRuKqKiyuuyrpjl%2B2%2BKuui43kvdbi7S2g1i8VDNpuvysrsnfY0ggn00Qz6aE576mXv3t3dcr/t8hQhAABAR0bAAgAAMIyABQAAYBgBCwAAwDACFgAAgGEELAAAAMMIWAAAAIYRsAAAAAwjYAEAABhGwAIAADCMgAUAAGAYAQsAAMAwAhYAAIBhBCwAAADDCFgAAACGEbAAAAAMI2ABAAAYRsACAAAwjIAFAABgGAELAADAMAIWAACAYQQsAAAAwwhYAAAAhhGwAAAADCNgAQAAGEbAAgAAMIyABQAAYBgBCwAAwDACFgAAgGEELAAAAMMIWAAAAIYRsAAAAAwjYAEAABhGwAIAADCMgAUAAGBYuw1Y%2Bfn5evjhhzVkyBANHz5cs2bNUmlpqSTpwIEDmjx5ssLDwxUdHa2NGze67JuTk6OYmBgNGjRIcXFx2r9/v3Ouvr5eS5cu1bBhwxQeHq5p06apqKjIOV9SUqKkpCRFRkYqKipKGRkZqqur%2B3YeNAAAuCa0y4BVU1Ojn/70pwoPD9ff/vY3vfPOOyovL9cvfvELnTt3To8%2B%2BqgmTpyovLw8ZWRkaPHixfr0008lSbm5uVq4cKGWLFmivLw8TZgwQdOmTVN1dbUkadWqVdq9e7fefPNN7dq1S97e3po7d67zvlNTU%2BXj46Ndu3Zp06ZN2rNnj9atW%2BeONgAAgA6qXQaskydP6uabb1ZycrK6du0qm82mhIQE5eXladu2bQoICNCUKVNksVg0dOhQxcbGKisrS5K0ceNG3XfffYqIiJCXl5emTp0qm82mLVu2OOcfeeQRXX/99fLz81N6ero%2B%2BOADnThxQseOHdPevXs1c%2BZMWa1W9e3bV0lJSc61AQAAWsLi7gIu5bvf/a5eeeUVl7GtW7dqwIABKigoUFhYmMtcSEiINm3aJEkqLCzUpEmTmszn5%2BeroqJCp0%2Bfdtk/MDBQPXr00MGDByVJAQEB6tOnj3M%2BODhYJ0%2Be1Pnz5%2BXv79%2Bi%2BouKilRcXOwyZrH4KCgoqEX7A21hsbTL10vfyNPTw%2BUn2oY%2BmkEfzaGX7TRg/SeHw6Fly5Zpx44d2rBhg15//XVZrVaXbby9vVVVVSVJstvtl5232%2B2SJB8fnybzjXNf37fxdlVVVYsDVnZ2tlasWOEylpycrJSUlBbtD7SFzebr7hLazN/f2vxGaBZ9NIM%2BmtOZe9muA1ZlZaXmzJmjL774Qhs2bNBNN90kq9WqiooKl%2B1qamrk6/vVfy5Wq1U1NTVN5m02mzMsNV6P9fX9HQ5Hk7nG243rt0RCQoKio6NdxiwWH5WV2Vu8BtBaHfH48vT0kL%2B/VefPV6u%2BvsHd5XRY9NEM%2BmhOe%2Bqlu158ttuAdfz4cT3yyCP6zne%2Bo02bNqlnz56SpLCwMO3evdtl28LCQoWGhkqSQkNDVVBQ0GR%2B5MiR6tGjh/r06aPCwkLnacLi4mKVl5crLCxMDQ0NKi8v19mzZxUYGChJOnTokK677jp17969xbUHBQU1OR1YXFyhujp%2BYXH1dOTjq76%2BoUPX317QRzPoozmduZft8uTouXPn9NBDD%2BnOO%2B/Uq6%2B%2B6gxXkhQTE6OzZ89q3bp1qq2t1UcffaTNmzc7r7uKj4/X5s2b9dFHH6m2tlbr1q1TSUmJYmJiJElxcXFatWqVTpw4ocrKSi1atEhDhgzRjTfeqH79%2BikiIkKLFi1SZWWlTpw4oZUrVyo%2BPt4tfQAAAB1Tu3wH66233tLJkyf13nvv6f3333eZ279/v9auXauMjAwtX75cPXv21Ny5c3XXXXdJkoYOHap58%2BZp/vz5OnPmjEJCQrRmzRoFBARI%2BupaqLq6Ok2ZMkV2u11RUVFatmyZc/3ly5drwYIFGj16tDw8PDRx4kQlJSV9ew8eAAB0eF0cDofD3UV0BsXFFc1v1AZjl%2B1ufiN0Cu%2BlDnd3Ca1msXjIZvNVWZm9055GMIE%2BmkEfzWlPvezdu%2BWX%2BJjULk8RAgAAdGQELAAAAMMIWAAAAIYRsAAAAAwjYAEAABhGwAIAADCMgAUAAGAYAQsAAMAwAhYAAIBhBCwAAADDCFgAAACGEbAAAAAMI2ABAAAYRsACAAAwjIAFAABgGAELAADAMAIWAACAYQQsAAAAwwhYAAAAhhGwAAAADCNgAQAAGEbAAgAAMMzi7gIAmDF22W53l9Bi76UOd3cJAHBV8Q4WAACAYQQsAAAAwwhYAAAAhhGwAAAADCNgAQAAGEbAAgAAMIyABQAAYBgBCwAAwDACFgAAgGEELAAAAMMIWAAAAIYRsC6hpKRESUlJioyMVFRUlDIyMlRXV%2BfusgAAQAdBwLqE1NRU%2Bfj4aNeuXdq0aZP27NmjdevWubssAADQQRCwvubYsWPau3evZs6cKavVqr59%2ByopKUlZWVnuLg0AAHQQBKyvKSgoUEBAgPr06eMcCw4O1smTJ3X%2B/Hk3VgYAADoKi7sLaG/sdrusVqvLWOPtqqoq%2Bfv7N7tGUVGRiouLXcYsFh8FBQWZKxTowMYu2%2B3uElple9rd7i7hG3l6erj8RNvQR3PoJQGrCR8fH1VXV7uMNd729fVt0RrZ2dlasWKFy9jjjz%2Bu6dOnmynyP%2BzL%2BK8Wb1tUVKTs7GwlJCQQ9q4QvTSDPppRVFSk3/72Ffp4heijOfSSU4RNhIaGqry8XGfPnnWOHTp0SNddd526d%2B/eojUSEhL01ltvufxLSEi4WiW3WHFxsVasWNHk3TW0Hr00gz6aQR/NoI/m0EvewWqiX79%2BioiI0KJFi7RgwQKVlZVp5cqVio%2BPb/EaQUFBnTaxAwAA3sG6pOXLl6uurk6jR4/WD37wA919991KSkpyd1kAAKCD4B2sSwgMDNTy5cvdXQYAAOigPOfPnz/f3UXg2%2BPr66shQ4a0%2BIJ9XB69NIM%2BmkEfzaCP5nT2XnZxOBwOdxcBAABwLeEaLAAAAMMIWAAAAIYRsAAAAAwjYAEAABhGwAIAADCMgAUAAGAYAQsAAMAwAhYAAIBhBKxrVH5%2Bvh5%2B%2BGENGTJEw4cP16xZs1RaWipJOnDggCZPnqzw8HBFR0dr48aNbq62/auvr1diYqJ%2B/vOfO8d27typ2NhYDRo0SGPHjtWOHTvcWGH7V15erlmzZikqKkqDBw9WUlKSioqKJHFMtsYXX3yhKVOmKDIyUiNGjNDTTz%2BtixcvSuKYbInS0lLFxMQoNzfXOdbc8ZeTk6OYmBgNGjRIcXFx2r9//7dddrt0qV5u3bpV999/v%2B68805FR0drxYoVamhocM53ql46cM2prq52DB8%2B3PH88887Lly44CgtLXU88sgjjp/97GeO8vJyx5AhQxwbNmxw1NbWOj788ENHeHi448CBA%2B4uu11btmyZ4%2Babb3bMnj3b4XA4HEeOHHEMHDjQsX37dkdtba3j3Xffddx%2B%2B%2B2O06dPu7nS9ut//ud/HMnJyY5z5845KioqHI8//rjj0Ucf5Zhshfr6esfw4cMdv/3tbx319fWOU6dOOe69917HihUrOCZbYN%2B%2BfY4xY8Y4wsLCHB999JHD4XA0e/x99NFHjvDwcMe%2BffscFy9edLz22muOqKgoR1VVlTsfittdqpefffaZ4/bbb3f85S9/cdTX1zsKCwsdo0aNcrz66qsOh6Pz9ZJ3sK5BJ0%2Be1M0336zk5GR17dpVNptNCQkJysvL07Zt2xQQEKApU6bIYrFo6NChio2NVVZWlrvLbrf27Nmjbdu26Z577nGO5eTkKDIyUmPGjJHFYtG4ceM0ePBgZWdnu7HS9uvzzz/XgQMHtGTJEvn7%2B8vPz08LFy5UWloax2QrnDt3TsXFxWpoaJDj//7KmYeHh6xWK8dkM3JycpSWlqYZM2a4jDd3/G3cuFH33XefIiIi5OXlpalTp8pms2nLli3ueBjtwuV6%2Be9//1sPPPCARo0aJQ8PDwUHBysmJkZ5eXmSOl8vCVjXoO9%2B97t65ZVX5Onp6RzbunWrBgwYoIKCAoWFhblsHxISovz8/G%2B7zA6hpKRE6enpeu6552S1Wp3jhYWF9LEVPv30U4WEhOiNN95QTEyMRowYoaVLl6p3794ck61gs9k0depULV26VAMHDtT3vvc99evXT1OnTuWYbMaIESO0fft2jRs3zmW8ueOPvjZ1uV7ee%2B%2B9mjNnjvN2TU2N/vrXv2rAgAGSOl8vCVjXOIfDod/85jfasWOH0tPTZbfbXYKCJHl7e6uqqspNFbZfDQ0Nmjlzph5%2B%2BGHdfPPNLnP0sXXOnTungwcP6ujRo8rJydEf/vAHnTlzRrNnz6aXrdDQ0CBvb2899dRT%2BuSTT/TOO%2B/o0KFDWr58OX1sRu/evWWxWJqMN9c3%2BtrU5Xr5nyorK5WcnCxvb29NnTpVUufrJQHrGlZZWamUlBRt3rxZGzZs0E033SSr1aqamhqX7WpqauTr6%2BumKtuv1atXq2vXrkpMTGwyRx9bp2vXrpKk9PR0%2Bfn5KTAwUKmpqdq5c6ccDge9bKHt27dr69atevDBB9W1a1eFhoYqOTlZv/vd7zgm26i5vtHX1jt8%2BLAeeOAB1dXV6fXXX5efn5%2BkztdLAtY16vjx45o0aZIqKyu1adMm3XTTTZKksLAwFRQUuGxbWFio0NBQd5TZrr399tvau3evIiMjFRkZqXfeeUfvvPOOIiMj6WMrhYSEqKGhQbW1tc6xxk8W3XLLLfSyhU6dOuX8xGAji8UiLy8vjsk2aq5voaGh9LUVdu7cqcmTJ%2Bvuu%2B/Wq6%2B%2Bqh49ejjnOl0v3XyRPa6C8vJyx/e//33Hz3/%2Bc0d9fb3LXGlpqSMyMtLx2muvOS5evOjYs2ePIzw83LFnzx43VdtxzJ492/kpwsLCQsfAgQMd7777rvMTWwMHDnQcPnzYzVW2TxcvXnTExMQ4pk%2Bf7qisrHSUlJQ4fvSjHzmSk5M5JluhoKDAcdtttzlWrVrlqKurcxw/ftwxfvx4x5IlSzgmW%2BE/P/nW3PHX%2BKnCPXv2OD/5NnjwYEdZWZk7H0K78Z%2B93L9/v2PAgAGOjRs3XnLbztbLLg7H/30UBdeM1157TUuWLJHValWXLl1c5vbv36/PPvtMGRkZ%2Bte//qWePXsqKSlJcXFxbqq242j8DqwlS5ZIknbt2qXMzEwdP35cN9xwg2bOnKnvfe977iyxXTtz5oyWLFmivLw8XbhwQdHR0UpPT5e/vz/HZCt8%2BOGHWrZsmQ4fPqzu3btrwoQJzk8Mc0y2zE033aTXX39dUVFRktTs8ff2229r1apVOnPmjEJCQjR37lzdcccd7iq/XfnPXj722GP661//2uQ6q4iICL3yyiuSOlcvCVgAAACGcQ0WAACAYQQsAAAAwwhYAAAAhhGwAAAADCNgAQAAGEbAAgAAMIyABQAAYBgBCwAAwDACFgAAgGEELAAAAMMIWAAAAIYRsAAAAAwjYAEAABhGwAIAADCMgAUAAGDY/weHeMCLc3v3VgAAAABJRU5ErkJggg%3D%3D\"/>\n",
       "        </div>\n",
       "        <div role=\"tabpanel\" class=\"tab-pane col-md-12\" id=\"common-6191566489448741110\">\n",
       "            \n",
       "<table class=\"freq table table-hover\">\n",
       "    <thead>\n",
       "    <tr>\n",
       "        <td class=\"fillremaining\">Value</td>\n",
       "        <td class=\"number\">Count</td>\n",
       "        <td class=\"number\">Frequency (%)</td>\n",
       "        <td style=\"min-width:200px\">&nbsp;</td>\n",
       "    </tr>\n",
       "    </thead>\n",
       "    <tr class=\"\">\n",
       "        <td class=\"fillremaining\">30</td>\n",
       "        <td class=\"number\">14346</td>\n",
       "        <td class=\"number\">4.5%</td>\n",
       "        <td>\n",
       "            <div class=\"bar\" style=\"width:8%\">&nbsp;</div>\n",
       "        </td>\n",
       "</tr><tr class=\"\">\n",
       "        <td class=\"fillremaining\">28</td>\n",
       "        <td class=\"number\">14341</td>\n",
       "        <td class=\"number\">4.5%</td>\n",
       "        <td>\n",
       "            <div class=\"bar\" style=\"width:8%\">&nbsp;</div>\n",
       "        </td>\n",
       "</tr><tr class=\"\">\n",
       "        <td class=\"fillremaining\">29</td>\n",
       "        <td class=\"number\">14158</td>\n",
       "        <td class=\"number\">4.5%</td>\n",
       "        <td>\n",
       "            <div class=\"bar\" style=\"width:8%\">&nbsp;</div>\n",
       "        </td>\n",
       "</tr><tr class=\"\">\n",
       "        <td class=\"fillremaining\">27</td>\n",
       "        <td class=\"number\">14084</td>\n",
       "        <td class=\"number\">4.5%</td>\n",
       "        <td>\n",
       "            <div class=\"bar\" style=\"width:8%\">&nbsp;</div>\n",
       "        </td>\n",
       "</tr><tr class=\"\">\n",
       "        <td class=\"fillremaining\">26</td>\n",
       "        <td class=\"number\">13931</td>\n",
       "        <td class=\"number\">4.4%</td>\n",
       "        <td>\n",
       "            <div class=\"bar\" style=\"width:8%\">&nbsp;</div>\n",
       "        </td>\n",
       "</tr><tr class=\"\">\n",
       "        <td class=\"fillremaining\">31</td>\n",
       "        <td class=\"number\">13692</td>\n",
       "        <td class=\"number\">4.3%</td>\n",
       "        <td>\n",
       "            <div class=\"bar\" style=\"width:8%\">&nbsp;</div>\n",
       "        </td>\n",
       "</tr><tr class=\"\">\n",
       "        <td class=\"fillremaining\">32</td>\n",
       "        <td class=\"number\">13507</td>\n",
       "        <td class=\"number\">4.3%</td>\n",
       "        <td>\n",
       "            <div class=\"bar\" style=\"width:8%\">&nbsp;</div>\n",
       "        </td>\n",
       "</tr><tr class=\"\">\n",
       "        <td class=\"fillremaining\">25</td>\n",
       "        <td class=\"number\">13460</td>\n",
       "        <td class=\"number\">4.3%</td>\n",
       "        <td>\n",
       "            <div class=\"bar\" style=\"width:8%\">&nbsp;</div>\n",
       "        </td>\n",
       "</tr><tr class=\"\">\n",
       "        <td class=\"fillremaining\">24</td>\n",
       "        <td class=\"number\">12960</td>\n",
       "        <td class=\"number\">4.1%</td>\n",
       "        <td>\n",
       "            <div class=\"bar\" style=\"width:8%\">&nbsp;</div>\n",
       "        </td>\n",
       "</tr><tr class=\"\">\n",
       "        <td class=\"fillremaining\">33</td>\n",
       "        <td class=\"number\">12631</td>\n",
       "        <td class=\"number\">4.0%</td>\n",
       "        <td>\n",
       "            <div class=\"bar\" style=\"width:7%\">&nbsp;</div>\n",
       "        </td>\n",
       "</tr><tr class=\"other\">\n",
       "        <td class=\"fillremaining\">Other values (50)</td>\n",
       "        <td class=\"number\">179090</td>\n",
       "        <td class=\"number\">56.6%</td>\n",
       "        <td>\n",
       "            <div class=\"bar\" style=\"width:100%\">&nbsp;</div>\n",
       "        </td>\n",
       "</tr>\n",
       "</table>\n",
       "        </div>\n",
       "        <div role=\"tabpanel\" class=\"tab-pane col-md-12\"  id=\"extreme-6191566489448741110\">\n",
       "            <p class=\"h4\">Minimum 5 values</p>\n",
       "            \n",
       "<table class=\"freq table table-hover\">\n",
       "    <thead>\n",
       "    <tr>\n",
       "        <td class=\"fillremaining\">Value</td>\n",
       "        <td class=\"number\">Count</td>\n",
       "        <td class=\"number\">Frequency (%)</td>\n",
       "        <td style=\"min-width:200px\">&nbsp;</td>\n",
       "    </tr>\n",
       "    </thead>\n",
       "    <tr class=\"\">\n",
       "        <td class=\"fillremaining\">17</td>\n",
       "        <td class=\"number\">7597</td>\n",
       "        <td class=\"number\">2.4%</td>\n",
       "        <td>\n",
       "            <div class=\"bar\" style=\"width:69%\">&nbsp;</div>\n",
       "        </td>\n",
       "</tr><tr class=\"\">\n",
       "        <td class=\"fillremaining\">18</td>\n",
       "        <td class=\"number\">8466</td>\n",
       "        <td class=\"number\">2.7%</td>\n",
       "        <td>\n",
       "            <div class=\"bar\" style=\"width:77%\">&nbsp;</div>\n",
       "        </td>\n",
       "</tr><tr class=\"\">\n",
       "        <td class=\"fillremaining\">19</td>\n",
       "        <td class=\"number\">9349</td>\n",
       "        <td class=\"number\">3.0%</td>\n",
       "        <td>\n",
       "            <div class=\"bar\" style=\"width:85%\">&nbsp;</div>\n",
       "        </td>\n",
       "</tr><tr class=\"\">\n",
       "        <td class=\"fillremaining\">20</td>\n",
       "        <td class=\"number\">10156</td>\n",
       "        <td class=\"number\">3.2%</td>\n",
       "        <td>\n",
       "            <div class=\"bar\" style=\"width:92%\">&nbsp;</div>\n",
       "        </td>\n",
       "</tr><tr class=\"\">\n",
       "        <td class=\"fillremaining\">21</td>\n",
       "        <td class=\"number\">10966</td>\n",
       "        <td class=\"number\">3.5%</td>\n",
       "        <td>\n",
       "            <div class=\"bar\" style=\"width:100%\">&nbsp;</div>\n",
       "        </td>\n",
       "</tr>\n",
       "</table>\n",
       "            <p class=\"h4\">Maximum 5 values</p>\n",
       "            \n",
       "<table class=\"freq table table-hover\">\n",
       "    <thead>\n",
       "    <tr>\n",
       "        <td class=\"fillremaining\">Value</td>\n",
       "        <td class=\"number\">Count</td>\n",
       "        <td class=\"number\">Frequency (%)</td>\n",
       "        <td style=\"min-width:200px\">&nbsp;</td>\n",
       "    </tr>\n",
       "    </thead>\n",
       "    <tr class=\"\">\n",
       "        <td class=\"fillremaining\">73</td>\n",
       "        <td class=\"number\">1</td>\n",
       "        <td class=\"number\">0.0%</td>\n",
       "        <td>\n",
       "            <div class=\"bar\" style=\"width:100%\">&nbsp;</div>\n",
       "        </td>\n",
       "</tr><tr class=\"\">\n",
       "        <td class=\"fillremaining\">77</td>\n",
       "        <td class=\"number\">1</td>\n",
       "        <td class=\"number\">0.0%</td>\n",
       "        <td>\n",
       "            <div class=\"bar\" style=\"width:100%\">&nbsp;</div>\n",
       "        </td>\n",
       "</tr><tr class=\"\">\n",
       "        <td class=\"fillremaining\">79</td>\n",
       "        <td class=\"number\">1</td>\n",
       "        <td class=\"number\">0.0%</td>\n",
       "        <td>\n",
       "            <div class=\"bar\" style=\"width:100%\">&nbsp;</div>\n",
       "        </td>\n",
       "</tr><tr class=\"\">\n",
       "        <td class=\"fillremaining\">111</td>\n",
       "        <td class=\"number\">1</td>\n",
       "        <td class=\"number\">0.0%</td>\n",
       "        <td>\n",
       "            <div class=\"bar\" style=\"width:100%\">&nbsp;</div>\n",
       "        </td>\n",
       "</tr><tr class=\"\">\n",
       "        <td class=\"fillremaining\">123</td>\n",
       "        <td class=\"number\">1</td>\n",
       "        <td class=\"number\">0.0%</td>\n",
       "        <td>\n",
       "            <div class=\"bar\" style=\"width:100%\">&nbsp;</div>\n",
       "        </td>\n",
       "</tr>\n",
       "</table>\n",
       "        </div>\n",
       "    </div>\n",
       "</div>\n",
       "</div><div class=\"row variablerow\">\n",
       "    <div class=\"col-md-3 namecol\">\n",
       "        <p class=\"h4 pp-anchor\" id=\"pp_var_converted\">converted<br/>\n",
       "            <small>Boolean</small>\n",
       "        </p>\n",
       "    </div><div class=\"col-md-6\">\n",
       "    <div class=\"row\">\n",
       "        <div class=\"col-sm-6\">\n",
       "            <table class=\"stats \">\n",
       "                <tr class=\"\">\n",
       "                    <th>Distinct count</th>\n",
       "                    <td>2</td>\n",
       "                </tr>\n",
       "                <tr>\n",
       "                    <th>Unique (%)</th>\n",
       "                    <td>0.0%</td>\n",
       "                </tr>\n",
       "                <tr class=\"ignore\">\n",
       "                    <th>Missing (%)</th>\n",
       "                    <td>0.0%</td>\n",
       "                </tr>\n",
       "                <tr class=\"ignore\">\n",
       "                    <th>Missing (n)</th>\n",
       "                    <td>0</td>\n",
       "                </tr>\n",
       "            </table>\n",
       "        </div>\n",
       "        <div class=\"col-sm-6\">\n",
       "            <table class=\"stats \">\n",
       "                <tr>\n",
       "                    <th>Mean</th>\n",
       "                    <td>0.032258</td>\n",
       "                </tr>\n",
       "            </table>\n",
       "        </div>\n",
       "    </div>\n",
       "</div>\n",
       "<div class=\"col-md-3 collapse in\" id=\"minifreqtable6340161149782792709\">\n",
       "    <table class=\"mini freq\">\n",
       "        <tr class=\"\">\n",
       "    <th>0</th>\n",
       "    <td>\n",
       "        <div class=\"bar\" style=\"width:100%\" data-toggle=\"tooltip\" data-placement=\"right\" data-html=\"true\"\n",
       "             data-delay=500 title=\"Percentage: 96.8%\">\n",
       "            306000\n",
       "        </div>\n",
       "        \n",
       "    </td>\n",
       "</tr><tr class=\"\">\n",
       "    <th>1</th>\n",
       "    <td>\n",
       "        <div class=\"bar\" style=\"width:4%\" data-toggle=\"tooltip\" data-placement=\"right\" data-html=\"true\"\n",
       "             data-delay=500 title=\"Percentage: 3.2%\">\n",
       "            &nbsp;\n",
       "        </div>\n",
       "        10200\n",
       "    </td>\n",
       "</tr>\n",
       "    </table>\n",
       "</div>\n",
       "<div class=\"col-md-12 text-right\">\n",
       "    <a role=\"button\" data-toggle=\"collapse\" data-target=\"#freqtable6340161149782792709, #minifreqtable6340161149782792709\"\n",
       "        aria-expanded=\"true\" aria-controls=\"collapseExample\">\n",
       "        Toggle details\n",
       "    </a>\n",
       "</div>\n",
       "<div class=\"col-md-12 extrapadding collapse\" id=\"freqtable6340161149782792709\">\n",
       "    \n",
       "<table class=\"freq table table-hover\">\n",
       "    <thead>\n",
       "    <tr>\n",
       "        <td class=\"fillremaining\">Value</td>\n",
       "        <td class=\"number\">Count</td>\n",
       "        <td class=\"number\">Frequency (%)</td>\n",
       "        <td style=\"min-width:200px\">&nbsp;</td>\n",
       "    </tr>\n",
       "    </thead>\n",
       "    <tr class=\"\">\n",
       "        <td class=\"fillremaining\">0</td>\n",
       "        <td class=\"number\">306000</td>\n",
       "        <td class=\"number\">96.8%</td>\n",
       "        <td>\n",
       "            <div class=\"bar\" style=\"width:100%\">&nbsp;</div>\n",
       "        </td>\n",
       "</tr><tr class=\"\">\n",
       "        <td class=\"fillremaining\">1</td>\n",
       "        <td class=\"number\">10200</td>\n",
       "        <td class=\"number\">3.2%</td>\n",
       "        <td>\n",
       "            <div class=\"bar\" style=\"width:4%\">&nbsp;</div>\n",
       "        </td>\n",
       "</tr>\n",
       "</table>\n",
       "</div>\n",
       "</div><div class=\"row variablerow\">\n",
       "    <div class=\"col-md-3 namecol\">\n",
       "        <p class=\"h4 pp-anchor\" id=\"pp_var_country\">country<br/>\n",
       "            <small>Categorical</small>\n",
       "        </p>\n",
       "    </div><div class=\"col-md-3\">\n",
       "    <table class=\"stats \">\n",
       "        <tr class=\"\">\n",
       "            <th>Distinct count</th>\n",
       "            <td>4</td>\n",
       "        </tr>\n",
       "        <tr>\n",
       "            <th>Unique (%)</th>\n",
       "            <td>0.0%</td>\n",
       "        </tr>\n",
       "        <tr class=\"ignore\">\n",
       "            <th>Missing (%)</th>\n",
       "            <td>0.0%</td>\n",
       "        </tr>\n",
       "        <tr class=\"ignore\">\n",
       "            <th>Missing (n)</th>\n",
       "            <td>0</td>\n",
       "        </tr>\n",
       "    </table>\n",
       "</div>\n",
       "<div class=\"col-md-6 collapse in\" id=\"minifreqtable3857459570232552242\">\n",
       "    <table class=\"mini freq\">\n",
       "        <tr class=\"\">\n",
       "    <th>US</th>\n",
       "    <td>\n",
       "        <div class=\"bar\" style=\"width:100%\" data-toggle=\"tooltip\" data-placement=\"right\" data-html=\"true\"\n",
       "             data-delay=500 title=\"Percentage: 56.3%\">\n",
       "            178092\n",
       "        </div>\n",
       "        \n",
       "    </td>\n",
       "</tr><tr class=\"\">\n",
       "    <th>China</th>\n",
       "    <td>\n",
       "        <div class=\"bar\" style=\"width:43%\" data-toggle=\"tooltip\" data-placement=\"right\" data-html=\"true\"\n",
       "             data-delay=500 title=\"Percentage: 24.2%\">\n",
       "            76602\n",
       "        </div>\n",
       "        \n",
       "    </td>\n",
       "</tr><tr class=\"\">\n",
       "    <th>UK</th>\n",
       "    <td>\n",
       "        <div class=\"bar\" style=\"width:27%\" data-toggle=\"tooltip\" data-placement=\"right\" data-html=\"true\"\n",
       "             data-delay=500 title=\"Percentage: 15.3%\">\n",
       "            48450\n",
       "        </div>\n",
       "        \n",
       "    </td>\n",
       "</tr>\n",
       "    </table>\n",
       "</div>\n",
       "<div class=\"col-md-12 text-right\">\n",
       "    <a role=\"button\" data-toggle=\"collapse\" data-target=\"#freqtable3857459570232552242, #minifreqtable3857459570232552242\"\n",
       "       aria-expanded=\"true\" aria-controls=\"collapseExample\">\n",
       "        Toggle details\n",
       "    </a>\n",
       "</div>\n",
       "<div class=\"col-md-12 extrapadding collapse\" id=\"freqtable3857459570232552242\">\n",
       "    \n",
       "<table class=\"freq table table-hover\">\n",
       "    <thead>\n",
       "    <tr>\n",
       "        <td class=\"fillremaining\">Value</td>\n",
       "        <td class=\"number\">Count</td>\n",
       "        <td class=\"number\">Frequency (%)</td>\n",
       "        <td style=\"min-width:200px\">&nbsp;</td>\n",
       "    </tr>\n",
       "    </thead>\n",
       "    <tr class=\"\">\n",
       "        <td class=\"fillremaining\">US</td>\n",
       "        <td class=\"number\">178092</td>\n",
       "        <td class=\"number\">56.3%</td>\n",
       "        <td>\n",
       "            <div class=\"bar\" style=\"width:100%\">&nbsp;</div>\n",
       "        </td>\n",
       "</tr><tr class=\"\">\n",
       "        <td class=\"fillremaining\">China</td>\n",
       "        <td class=\"number\">76602</td>\n",
       "        <td class=\"number\">24.2%</td>\n",
       "        <td>\n",
       "            <div class=\"bar\" style=\"width:43%\">&nbsp;</div>\n",
       "        </td>\n",
       "</tr><tr class=\"\">\n",
       "        <td class=\"fillremaining\">UK</td>\n",
       "        <td class=\"number\">48450</td>\n",
       "        <td class=\"number\">15.3%</td>\n",
       "        <td>\n",
       "            <div class=\"bar\" style=\"width:27%\">&nbsp;</div>\n",
       "        </td>\n",
       "</tr><tr class=\"\">\n",
       "        <td class=\"fillremaining\">Germany</td>\n",
       "        <td class=\"number\">13056</td>\n",
       "        <td class=\"number\">4.1%</td>\n",
       "        <td>\n",
       "            <div class=\"bar\" style=\"width:8%\">&nbsp;</div>\n",
       "        </td>\n",
       "</tr>\n",
       "</table>\n",
       "</div>\n",
       "</div><div class=\"row variablerow\">\n",
       "    <div class=\"col-md-3 namecol\">\n",
       "        <p class=\"h4 pp-anchor\" id=\"pp_var_new_user\">new_user<br/>\n",
       "            <small>Boolean</small>\n",
       "        </p>\n",
       "    </div><div class=\"col-md-6\">\n",
       "    <div class=\"row\">\n",
       "        <div class=\"col-sm-6\">\n",
       "            <table class=\"stats \">\n",
       "                <tr class=\"\">\n",
       "                    <th>Distinct count</th>\n",
       "                    <td>2</td>\n",
       "                </tr>\n",
       "                <tr>\n",
       "                    <th>Unique (%)</th>\n",
       "                    <td>0.0%</td>\n",
       "                </tr>\n",
       "                <tr class=\"ignore\">\n",
       "                    <th>Missing (%)</th>\n",
       "                    <td>0.0%</td>\n",
       "                </tr>\n",
       "                <tr class=\"ignore\">\n",
       "                    <th>Missing (n)</th>\n",
       "                    <td>0</td>\n",
       "                </tr>\n",
       "            </table>\n",
       "        </div>\n",
       "        <div class=\"col-sm-6\">\n",
       "            <table class=\"stats \">\n",
       "                <tr>\n",
       "                    <th>Mean</th>\n",
       "                    <td>0.68546</td>\n",
       "                </tr>\n",
       "            </table>\n",
       "        </div>\n",
       "    </div>\n",
       "</div>\n",
       "<div class=\"col-md-3 collapse in\" id=\"minifreqtable7078781854626325968\">\n",
       "    <table class=\"mini freq\">\n",
       "        <tr class=\"\">\n",
       "    <th>1</th>\n",
       "    <td>\n",
       "        <div class=\"bar\" style=\"width:100%\" data-toggle=\"tooltip\" data-placement=\"right\" data-html=\"true\"\n",
       "             data-delay=500 title=\"Percentage: 68.5%\">\n",
       "            216744\n",
       "        </div>\n",
       "        \n",
       "    </td>\n",
       "</tr><tr class=\"\">\n",
       "    <th>0</th>\n",
       "    <td>\n",
       "        <div class=\"bar\" style=\"width:46%\" data-toggle=\"tooltip\" data-placement=\"right\" data-html=\"true\"\n",
       "             data-delay=500 title=\"Percentage: 31.5%\">\n",
       "            99456\n",
       "        </div>\n",
       "        \n",
       "    </td>\n",
       "</tr>\n",
       "    </table>\n",
       "</div>\n",
       "<div class=\"col-md-12 text-right\">\n",
       "    <a role=\"button\" data-toggle=\"collapse\" data-target=\"#freqtable7078781854626325968, #minifreqtable7078781854626325968\"\n",
       "        aria-expanded=\"true\" aria-controls=\"collapseExample\">\n",
       "        Toggle details\n",
       "    </a>\n",
       "</div>\n",
       "<div class=\"col-md-12 extrapadding collapse\" id=\"freqtable7078781854626325968\">\n",
       "    \n",
       "<table class=\"freq table table-hover\">\n",
       "    <thead>\n",
       "    <tr>\n",
       "        <td class=\"fillremaining\">Value</td>\n",
       "        <td class=\"number\">Count</td>\n",
       "        <td class=\"number\">Frequency (%)</td>\n",
       "        <td style=\"min-width:200px\">&nbsp;</td>\n",
       "    </tr>\n",
       "    </thead>\n",
       "    <tr class=\"\">\n",
       "        <td class=\"fillremaining\">1</td>\n",
       "        <td class=\"number\">216744</td>\n",
       "        <td class=\"number\">68.5%</td>\n",
       "        <td>\n",
       "            <div class=\"bar\" style=\"width:100%\">&nbsp;</div>\n",
       "        </td>\n",
       "</tr><tr class=\"\">\n",
       "        <td class=\"fillremaining\">0</td>\n",
       "        <td class=\"number\">99456</td>\n",
       "        <td class=\"number\">31.5%</td>\n",
       "        <td>\n",
       "            <div class=\"bar\" style=\"width:46%\">&nbsp;</div>\n",
       "        </td>\n",
       "</tr>\n",
       "</table>\n",
       "</div>\n",
       "</div><div class=\"row variablerow\">\n",
       "    <div class=\"col-md-3 namecol\">\n",
       "        <p class=\"h4 pp-anchor\" id=\"pp_var_source\">source<br/>\n",
       "            <small>Categorical</small>\n",
       "        </p>\n",
       "    </div><div class=\"col-md-3\">\n",
       "    <table class=\"stats \">\n",
       "        <tr class=\"\">\n",
       "            <th>Distinct count</th>\n",
       "            <td>3</td>\n",
       "        </tr>\n",
       "        <tr>\n",
       "            <th>Unique (%)</th>\n",
       "            <td>0.0%</td>\n",
       "        </tr>\n",
       "        <tr class=\"ignore\">\n",
       "            <th>Missing (%)</th>\n",
       "            <td>0.0%</td>\n",
       "        </tr>\n",
       "        <tr class=\"ignore\">\n",
       "            <th>Missing (n)</th>\n",
       "            <td>0</td>\n",
       "        </tr>\n",
       "    </table>\n",
       "</div>\n",
       "<div class=\"col-md-6 collapse in\" id=\"minifreqtable8832768455944322455\">\n",
       "    <table class=\"mini freq\">\n",
       "        <tr class=\"\">\n",
       "    <th>Seo</th>\n",
       "    <td>\n",
       "        <div class=\"bar\" style=\"width:100%\" data-toggle=\"tooltip\" data-placement=\"right\" data-html=\"true\"\n",
       "             data-delay=500 title=\"Percentage: 49.0%\">\n",
       "            155040\n",
       "        </div>\n",
       "        \n",
       "    </td>\n",
       "</tr><tr class=\"\">\n",
       "    <th>Ads</th>\n",
       "    <td>\n",
       "        <div class=\"bar\" style=\"width:57%\" data-toggle=\"tooltip\" data-placement=\"right\" data-html=\"true\"\n",
       "             data-delay=500 title=\"Percentage: 28.1%\">\n",
       "            88740\n",
       "        </div>\n",
       "        \n",
       "    </td>\n",
       "</tr><tr class=\"\">\n",
       "    <th>Direct</th>\n",
       "    <td>\n",
       "        <div class=\"bar\" style=\"width:47%\" data-toggle=\"tooltip\" data-placement=\"right\" data-html=\"true\"\n",
       "             data-delay=500 title=\"Percentage: 22.9%\">\n",
       "            72420\n",
       "        </div>\n",
       "        \n",
       "    </td>\n",
       "</tr>\n",
       "    </table>\n",
       "</div>\n",
       "<div class=\"col-md-12 text-right\">\n",
       "    <a role=\"button\" data-toggle=\"collapse\" data-target=\"#freqtable8832768455944322455, #minifreqtable8832768455944322455\"\n",
       "       aria-expanded=\"true\" aria-controls=\"collapseExample\">\n",
       "        Toggle details\n",
       "    </a>\n",
       "</div>\n",
       "<div class=\"col-md-12 extrapadding collapse\" id=\"freqtable8832768455944322455\">\n",
       "    \n",
       "<table class=\"freq table table-hover\">\n",
       "    <thead>\n",
       "    <tr>\n",
       "        <td class=\"fillremaining\">Value</td>\n",
       "        <td class=\"number\">Count</td>\n",
       "        <td class=\"number\">Frequency (%)</td>\n",
       "        <td style=\"min-width:200px\">&nbsp;</td>\n",
       "    </tr>\n",
       "    </thead>\n",
       "    <tr class=\"\">\n",
       "        <td class=\"fillremaining\">Seo</td>\n",
       "        <td class=\"number\">155040</td>\n",
       "        <td class=\"number\">49.0%</td>\n",
       "        <td>\n",
       "            <div class=\"bar\" style=\"width:100%\">&nbsp;</div>\n",
       "        </td>\n",
       "</tr><tr class=\"\">\n",
       "        <td class=\"fillremaining\">Ads</td>\n",
       "        <td class=\"number\">88740</td>\n",
       "        <td class=\"number\">28.1%</td>\n",
       "        <td>\n",
       "            <div class=\"bar\" style=\"width:57%\">&nbsp;</div>\n",
       "        </td>\n",
       "</tr><tr class=\"\">\n",
       "        <td class=\"fillremaining\">Direct</td>\n",
       "        <td class=\"number\">72420</td>\n",
       "        <td class=\"number\">22.9%</td>\n",
       "        <td>\n",
       "            <div class=\"bar\" style=\"width:47%\">&nbsp;</div>\n",
       "        </td>\n",
       "</tr>\n",
       "</table>\n",
       "</div>\n",
       "</div><div class=\"row variablerow\">\n",
       "    <div class=\"col-md-3 namecol\">\n",
       "        <p class=\"h4 pp-anchor\" id=\"pp_var_total_pages_visited\">total_pages_visited<br/>\n",
       "            <small>Numeric</small>\n",
       "        </p>\n",
       "    </div><div class=\"col-md-6\">\n",
       "    <div class=\"row\">\n",
       "        <div class=\"col-sm-6\">\n",
       "            <table class=\"stats \">\n",
       "                <tr>\n",
       "                    <th>Distinct count</th>\n",
       "                    <td>29</td>\n",
       "                </tr>\n",
       "                <tr>\n",
       "                    <th>Unique (%)</th>\n",
       "                    <td>0.0%</td>\n",
       "                </tr>\n",
       "                <tr class=\"ignore\">\n",
       "                    <th>Missing (%)</th>\n",
       "                    <td>0.0%</td>\n",
       "                </tr>\n",
       "                <tr class=\"ignore\">\n",
       "                    <th>Missing (n)</th>\n",
       "                    <td>0</td>\n",
       "                </tr>\n",
       "                <tr class=\"ignore\">\n",
       "                    <th>Infinite (%)</th>\n",
       "                    <td>0.0%</td>\n",
       "                </tr>\n",
       "                <tr class=\"ignore\">\n",
       "                    <th>Infinite (n)</th>\n",
       "                    <td>0</td>\n",
       "                </tr>\n",
       "            </table>\n",
       "\n",
       "        </div>\n",
       "        <div class=\"col-sm-6\">\n",
       "            <table class=\"stats \">\n",
       "\n",
       "                <tr>\n",
       "                    <th>Mean</th>\n",
       "                    <td>4.873</td>\n",
       "                </tr>\n",
       "                <tr>\n",
       "                    <th>Minimum</th>\n",
       "                    <td>1</td>\n",
       "                </tr>\n",
       "                <tr>\n",
       "                    <th>Maximum</th>\n",
       "                    <td>29</td>\n",
       "                </tr>\n",
       "                <tr class=\"ignore\">\n",
       "                    <th>Zeros (%)</th>\n",
       "                    <td>0.0%</td>\n",
       "                </tr>\n",
       "            </table>\n",
       "        </div>\n",
       "    </div>\n",
       "</div>\n",
       "<div class=\"col-md-3 collapse in\" id=\"minihistogram-3216961303036416496\">\n",
       "    <img src=\"data:image/png;base64,iVBORw0KGgoAAAANSUhEUgAAAMgAAABLCAYAAAA1fMjoAAAABHNCSVQICAgIfAhkiAAAAAlwSFlzAAAPYQAAD2EBqD%2BnaQAAADl0RVh0U29mdHdhcmUAbWF0cGxvdGxpYiB2ZXJzaW9uIDMuMC4zLCBodHRwOi8vbWF0cGxvdGxpYi5vcmcvnQurowAAASJJREFUeJzt28EJwkAQQFEVS7IIe/JsTxZhT%2Btd5JMEQqK%2Bdw/M5TMs2T2OMcYB%2BOi09QCwZ%2BetB3h3uT1mf/O8X1eYBGwQSAKBIBAIAoEgEAgCgSAQCLv7D7KEfyesxQaBIBAIAoEgEAgCgSAQCAKBIBAIAoEgEAgCgSAQCAKBIBAIAoEgEAgCgSAQCAKB8BNv0pfwjp0pbBAIAoEgEAgCgSAQCAKBIBAIAoEgEAgCgSAQCAKB8LeXFZeYe8HR5cbvZ4NAEAgEgUBwBlmRR1nfTyA7sySquUQ43XGMMbYeAvbKGQSCQCAIBIJAIAgEgkAgCASCQCAIBIJAIAgEgkAgCASCQCAIBIJAIAgEgkAgCASCQCAIBIJAIAgEgkAgCATCC8W6GpnBgDjjAAAAAElFTkSuQmCC\">\n",
       "\n",
       "</div>\n",
       "<div class=\"col-md-12 text-right\">\n",
       "    <a role=\"button\" data-toggle=\"collapse\" data-target=\"#descriptives-3216961303036416496,#minihistogram-3216961303036416496\"\n",
       "       aria-expanded=\"false\" aria-controls=\"collapseExample\">\n",
       "        Toggle details\n",
       "    </a>\n",
       "</div>\n",
       "<div class=\"row collapse col-md-12\" id=\"descriptives-3216961303036416496\">\n",
       "    <ul class=\"nav nav-tabs\" role=\"tablist\">\n",
       "        <li role=\"presentation\" class=\"active\"><a href=\"#quantiles-3216961303036416496\"\n",
       "                                                  aria-controls=\"quantiles-3216961303036416496\" role=\"tab\"\n",
       "                                                  data-toggle=\"tab\">Statistics</a></li>\n",
       "        <li role=\"presentation\"><a href=\"#histogram-3216961303036416496\" aria-controls=\"histogram-3216961303036416496\"\n",
       "                                   role=\"tab\" data-toggle=\"tab\">Histogram</a></li>\n",
       "        <li role=\"presentation\"><a href=\"#common-3216961303036416496\" aria-controls=\"common-3216961303036416496\"\n",
       "                                   role=\"tab\" data-toggle=\"tab\">Common Values</a></li>\n",
       "        <li role=\"presentation\"><a href=\"#extreme-3216961303036416496\" aria-controls=\"extreme-3216961303036416496\"\n",
       "                                   role=\"tab\" data-toggle=\"tab\">Extreme Values</a></li>\n",
       "\n",
       "    </ul>\n",
       "\n",
       "    <div class=\"tab-content\">\n",
       "        <div role=\"tabpanel\" class=\"tab-pane active row\" id=\"quantiles-3216961303036416496\">\n",
       "            <div class=\"col-md-4 col-md-offset-1\">\n",
       "                <p class=\"h4\">Quantile statistics</p>\n",
       "                <table class=\"stats indent\">\n",
       "                    <tr>\n",
       "                        <th>Minimum</th>\n",
       "                        <td>1</td>\n",
       "                    </tr>\n",
       "                    <tr>\n",
       "                        <th>5-th percentile</th>\n",
       "                        <td>1</td>\n",
       "                    </tr>\n",
       "                    <tr>\n",
       "                        <th>Q1</th>\n",
       "                        <td>2</td>\n",
       "                    </tr>\n",
       "                    <tr>\n",
       "                        <th>Median</th>\n",
       "                        <td>4</td>\n",
       "                    </tr>\n",
       "                    <tr>\n",
       "                        <th>Q3</th>\n",
       "                        <td>7</td>\n",
       "                    </tr>\n",
       "                    <tr>\n",
       "                        <th>95-th percentile</th>\n",
       "                        <td>11</td>\n",
       "                    </tr>\n",
       "                    <tr>\n",
       "                        <th>Maximum</th>\n",
       "                        <td>29</td>\n",
       "                    </tr>\n",
       "                    <tr>\n",
       "                        <th>Range</th>\n",
       "                        <td>28</td>\n",
       "                    </tr>\n",
       "                    <tr>\n",
       "                        <th>Interquartile range</th>\n",
       "                        <td>5</td>\n",
       "                    </tr>\n",
       "                </table>\n",
       "            </div>\n",
       "            <div class=\"col-md-4 col-md-offset-2\">\n",
       "                <p class=\"h4\">Descriptive statistics</p>\n",
       "                <table class=\"stats indent\">\n",
       "                    <tr>\n",
       "                        <th>Standard deviation</th>\n",
       "                        <td>3.3411</td>\n",
       "                    </tr>\n",
       "                    <tr>\n",
       "                        <th>Coef of variation</th>\n",
       "                        <td>0.68564</td>\n",
       "                    </tr>\n",
       "                    <tr>\n",
       "                        <th>Kurtosis</th>\n",
       "                        <td>3.2085</td>\n",
       "                    </tr>\n",
       "                    <tr>\n",
       "                        <th>Mean</th>\n",
       "                        <td>4.873</td>\n",
       "                    </tr>\n",
       "                    <tr>\n",
       "                        <th>MAD</th>\n",
       "                        <td>2.541</td>\n",
       "                    </tr>\n",
       "                    <tr class=\"\">\n",
       "                        <th>Skewness</th>\n",
       "                        <td>1.4428</td>\n",
       "                    </tr>\n",
       "                    <tr>\n",
       "                        <th>Sum</th>\n",
       "                        <td>1540832</td>\n",
       "                    </tr>\n",
       "                    <tr>\n",
       "                        <th>Variance</th>\n",
       "                        <td>11.163</td>\n",
       "                    </tr>\n",
       "                    <tr>\n",
       "                        <th>Memory size</th>\n",
       "                        <td>2.4 MiB</td>\n",
       "                    </tr>\n",
       "                </table>\n",
       "            </div>\n",
       "        </div>\n",
       "        <div role=\"tabpanel\" class=\"tab-pane col-md-8 col-md-offset-2\" id=\"histogram-3216961303036416496\">\n",
       "            <img src=\"data:image/png;base64,iVBORw0KGgoAAAANSUhEUgAAAlgAAAGQCAYAAAByNR6YAAAABHNCSVQICAgIfAhkiAAAAAlwSFlzAAAPYQAAD2EBqD%2BnaQAAADl0RVh0U29mdHdhcmUAbWF0cGxvdGxpYiB2ZXJzaW9uIDMuMC4zLCBodHRwOi8vbWF0cGxvdGxpYi5vcmcvnQurowAAIABJREFUeJzt3Xt8VPWd//E3yQQySYAMhID1gQ8oSbAqLTGRyEVcAilFCMUQTDVF0RVaEolhBSwFhQbDRcAiZcGKRSpk1xQ026UbBbtrkSImASlWtqEJyqWNkpAL5Aq5zO8PNvPrEC7h8NWZwOv5ePDIY77fc8585pNv9J1zzkw6OZ1OpwAAAGCMj6cLAAAAuNEQsAAAAAwjYAEAABhGwAIAADCMgAUAAGAYAQsAAMAwAhYAAIBhBCwAAADDCFgAAACGEbAAAAAMI2ABAAAYRsACAAAwjIAFAABgGAELAADAMAIWAACAYQQsAAAAwwhYAAAAhhGwAAAADCNgAQAAGEbAAgAAMIyABQAAYBgBCwAAwDACFgAAgGEELAAAAMMIWAAAAIYRsAAAAAwjYAEAABhGwAIAADCMgAUAAGAYAQsAAMAwAhYAAIBhBCwAAADDCFgAAACGEbAAAAAMI2ABAAAYRsACAAAwjIAFAABgGAELAADAMAIWAACAYTZPF3CzKCurbjPm49NJPXoEqqKiVi0tTg9U1THRN2vomzX0zRr6Zg19s%2BZKfevVq6tnavLIs0LShQXRqVMn%2Bfh08nQpHQp9s4a%2BWUPfrKFv1tA3a7yxbwQsAAAAwwhYAAAAhhGwAAAADCNgAQAAGEbAAgAAMIyABQAAYBgBCwAAwDACFgAAgGEELAAAAMMIWAAAAIYRsAAAAAwjYAEAABhGwAIAADDM5ukCcH3Grdnr6RLa7Z304Z4uAQCArwVnsAAAAAwjYAEAABhGwAIAADCMgAUAAGAYAQsAAMAwAhYAAIBhBCwAAADDCFgAAACGEbAAAAAMI2ABAAAYRsACAAAwjIAFAABgGAELAADAMAIWAACAYQQsAAAAwzwesCoqKhQXF6e8vDzX2M6dO/X9739fd999t2JjY7Vu3Tq1tLS45nNychQXF6fBgwcrISFBBw8edM01NzdrxYoVGjZsmCIjIzVz5kyVlpa65svLy5WSkqLo6GjFxMQoMzNTTU1NrvlDhw5pypQpioyMVGxsrLZt2/YVdwAAANxoPBqwDhw4oKSkJJ04ccI19umnn2revHlKT0/X/v37tXHjRr399tvavHmzJCkvL09LlizR8uXLVVBQoIkTJ2rmzJmqr6%2BXJG3YsEF79%2B7VW2%2B9pT179sjf318LFy50HT89PV0BAQHas2ePtm/frn379rmOfebMGc2YMUOTJk1SQUGBMjMztWzZMn3yySdfW08AAEDH57GAlZOTozlz5mj27Nlu43//%2B9/1gx/8QKNGjZKPj48GDBiguLg4FRQUSJK2bdum8ePHKyoqSn5%2Bfpo2bZocDodyc3Nd89OnT9ctt9yioKAgLViwQB988IFOnjyp48ePKz8/X3PnzpXdblffvn2VkpKirKwsSdKuXbsUHBys5ORk2Ww2DR06VPHx8a55AACA9rB56olHjBih%2BPh42Ww2t5A1duxYjR071vW4oaFBf/jDHxQfHy9JKi4u1uTJk92OFRYWpsLCQlVXV%2BvLL79URESEay4kJETdu3fXkSNHJEnBwcHq3bu3a37AgAEqKSnR2bNnVVRU5LZv67G3b99%2BTa%2BttLRUZWVlbmM2W4BCQ0Pdxnx9fdy%2B3uhsNjOv82brmyn0zRr6Zg19s4a%2BWeONffNYwOrVq9dVt6mpqdHTTz8tf39/TZs2TZJUW1sru93utp2/v7/q6upUW1srSQoICGgz3zp38b6tj1v3v9yxr0V2drbWrVvnNpaamqq0tLRLbt%2Btm/2S4zcahyPQ6PFulr6ZRt%2BsoW/W0Ddr6Js13tQ3jwWsq/nss8%2BUlpamnj176o033lBQUJCkC4GooaHBbduGhgY5HA5XOGq9H%2Bsf5wMDA%2BV0OtvMtT4ODAyU3W5XdXX1Jfe9FklJSYqNjXUbs9kCVFlZ6zbm6%2Bujbt3sOnu2Xs3NLbrRXfz6rbrZ%2BmYKfbOGvllD36yhb9ZcqW%2Bmf7lvL68MWLt379a//Mu/6KGHHtIzzzwjm%2B3/lxkeHq6ioiK37YuLizVy5Eh1795dvXv3VnFxsetSX1lZmaqqqhQREaGWlhZVVVXp9OnTCgkJkSQdPXpUffr0UdeuXRUREaG9e/e2OXZ4ePg11R8aGtrmcmBZWbWami79w9Lc3HLZuRuJ6dd4s/TNNPpmDX2zhr5ZQ9%2Bs8aa%2Bec/Fyv/zpz/9SampqZo/f76effZZt3AlSYmJidqxY4c%2B%2BugjNTY2avPmzSovL1dcXJwkKSEhQRs2bNDJkydVU1OjpUuXasiQIbrtttvUr18/RUVFaenSpaqpqdHJkye1fv16JSYmSpLi4uJ0%2BvRpbd68WY2Njfroo4%2B0Y8eONvd8AQAAXInXncF65ZVX1NTUpMzMTGVmZrrGo6Ki9Nprr2no0KFatGiRFi9erFOnTiksLEwbN25UcHCwpAv3OjU1NSk5OVm1tbWKiYnRmjVrXMdZu3atMjIyNHr0aPn4%2BGjSpElKSUmRJDkcDm3atEmZmZlau3atevTooYULF%2Bree%2B/9epsAAAA6tE5Op9Pp6SJuBmVl1W3GbDYfORyBqqystXxKc9yavVffyEu8kz7cyHFM9O1mRN%2BsoW/W0Ddr6Js1V%2Bpbr15dPVKT110iBAAA6OgIWAAAAIYRsAAAAAwjYAEAABhGwAIAADCMgAUAAGAYAQsAAMAwAhYAAIBhBCwAAADDCFgAAACGEbAAAAAMI2ABAAAYRsACAAAwjIAFAABgGAELAADAMAIWAACAYQQsAAAAwwhYAAAAhhGwAAAADCNgAQAAGEbAAgAAMIyABQAAYBgBCwAAwDACFgAAgGE2TxeAm8e4NXs9XcI1eSd9uKdLAAB0UJzBAgAAMIyABQAAYBgBCwAAwDACFgAAgGEELAAAAMMIWAAAAIYRsAAAAAwjYAEAABhGwAIAADCMgAUAAGAYAQsAAMAwAhYAAIBhHg9YFRUViouLU15enmvs0KFDmjJliiIjIxUbG6tt27a57ZOTk6O4uDgNHjxYCQkJOnjwoGuuublZK1as0LBhwxQZGamZM2eqtLTUNV9eXq6UlBRFR0crJiZGmZmZampqavdzAwAAXI1HA9aBAweUlJSkEydOuMbOnDmjGTNmaNKkSSooKFBmZqaWLVumTz75RJKUl5enJUuWaPny5SooKNDEiRM1c%2BZM1dfXS5I2bNigvXv36q233tKePXvk7%2B%2BvhQsXuo6fnp6ugIAA7dmzR9u3b9e%2Bffu0efPmdj03AABAe3gsYOXk5GjOnDmaPXu22/iuXbsUHBys5ORk2Ww2DR06VPHx8crKypIkbdu2TePHj1dUVJT8/Pw0bdo0ORwO5ebmuuanT5%2BuW265RUFBQVqwYIE%2B%2BOADnTx5UsePH1d%2Bfr7mzp0ru92uvn37KiUlxXXsqz03AABAe3gsYI0YMULvvfeeHnjgAbfxoqIiRUREuI2FhYWpsLBQklRcXHzZ%2Berqan355Zdu8yEhIerevbuOHDmioqIiBQcHq3fv3q75AQMGqKSkRGfPnr3qcwMAALSHzVNP3KtXr0uO19bWym63u435%2B/urrq7uqvO1tbWSpICAgDbzrXMX79v6uHX/Kz13e5WWlqqsrMxtzGYLUGhoqNuYr6%2BP21d4F5vtxvq%2BsN6soW/W0Ddr6Js13tg3jwWsy7Hb7aqurnYba2hoUGBgoGu%2BoaGhzbzD4XCFo9b7sS7e3%2Bl0tplrfRwYGHjV526v7OxsrVu3zm0sNTVVaWlpl9y%2BWzf7JcfhWQ7HtX3fOwrWmzX0zRr6Zg19s8ab%2BuZ1ASsiIkJ79%2B51GysuLlZ4eLgkKTw8XEVFRW3mR44cqe7du6t3795ulxHLyspUVVWliIgItbS0qKqqSqdPn1ZISIgk6ejRo%2BrTp4%2B6du161edur6SkJMXGxrqN2WwBqqysdRvz9fVRt252nT1br%2Bbmlmt6Dnz1Lv5%2BdXSsN2vomzX0zRr6Zs2V%2BuapX5a9LmDFxcVp5cqV2rx5s5KTk3XgwAHt2LFD69evlyQlJiYqNTVV48aNU1RUlLKyslReXq64uDhJUkJCgjZs2KBBgwbJ4XBo6dKlGjJkiG677TZJUlRUlJYuXaqMjAxVVlZq/fr1SkxMbNdzt1doaGiby4FlZdVqarr0D0tzc8tl5%2BA5N%2Br3hPVmDX2zhr5ZQ9%2Bs8aa%2BeV3Acjgc2rRpkzIzM7V27Vr16NFDCxcu1L333itJGjp0qBYtWqTFixfr1KlTCgsL08aNGxUcHCzpwqW4pqYmJScnq7a2VjExMVqzZo3r%2BGvXrlVGRoZGjx4tHx8fTZo0SSkpKe16bgAAgPbo5HQ6nZ4u4mZQVlbdZsxm85HDEajKylrLiXvcmr1X3wiWvJM%2B3NMlGGVivd2M6Js19M0a%2BmbNlfrWq1dXj9TkPbfbAwAA3CAIWAAAAIYRsAAAAAwjYAEAABhGwAIAADCMgAUAAGAYAQsAAMAwAhYAAIBhBCwAAADDCFgAAACGEbAAAAAMI2ABAAAYRsACAAAwjIAFAABgGAELAADAMAIWAACAYQQsAAAAwwhYAAAAhhGwAAAADCNgAQAAGEbAAgAAMIyABQAAYBgBCwAAwDACFgAAgGEELAAAAMMIWAAAAIYRsAAAAAwjYAEAABhGwAIAADCMgAUAAGAYAQsAAMAwAhYAAIBhBCwAAADDCFgAAACGEbAAAAAMI2ABAAAYRsACAAAwjIAFAABgmKWA1dzcbLqONg4fPqzk5GRFR0drxIgReuGFF3T%2B/HlJ0u7duxUfH6/Bgwdr3Lhxev/999323bhxo0aOHKnBgwdr6tSp%2Buyzz1xzdXV1mj9/vmJiYhQVFaV58%2BaptrbWNf/555/rscceU2RkpEaMGKFXXnnlK3%2BtAADgxmIpYI0cOVIvvviiiouLTdcjSWppadGPfvQjjR07Vvn5%2Bdq%2Bfbv%2B%2BMc/auPGjTp27JhmzZqlp59%2BWvv379esWbOUnp6uU6dOSZJycnK0ZcsW/epXv1JeXp7uvPNOpaWlyel0SpKWLFmiL774Qjt37tSuXbv0xRdfaNWqVZKkxsZG/fjHP9agQYOUl5enV199VVlZWXrnnXe%2BktcJAABuTJYC1lNPPaWPP/5YEyZM0JQpU/Tmm2%2BqurraWFFnzpxRWVmZWlpaXMHIx8dHdrtdOTk5io6O1pgxY2Sz2fTAAw/onnvuUXZ2tiTpN7/5jR555BGFh4erS5cueuaZZ1RSUqK8vDzV19drx44dSktLU3BwsHr27Kk5c%2Bbo7bffVn19vQoKClRaWqq0tDR17txZd9xxh6ZOnaqsrCxjrw0AANz4bFZ2evjhh/Xwww/r2LFjysnJ0caNG7Vs2TKNGTNGkydP1rBhw66rKIfDoWnTpmnFihV68cUX1dzcrNGjR2vatGmaNWuWIiIi3LYPCwtTYWGhJKm4uFjTp093zfn5%2Balfv34qLCxUcHCwGhsb3fYfMGCAGhoadOzYMRUVFal///7q3Lmz27FfffXVa6q/tLRUZWVlbmM2W4BCQ0Pdxnx9fdy%2BwrvYbDfW94X1Zg19s4a%2BWUPfrPHGvlkKWK369eun2bNn66mnntLrr7%2Bu9evXKzc3V7fccoumTp2qRx99VL6%2Bvtd83JaWFvn7%2B%2Bu5555TYmKijh8/rqeeekpr165VbW2t7Ha72/b%2B/v6qq6uTpCvO19TUSJICAgJcc63b1tbWXnJfu93uOnZ7ZWdna926dW5jqampSktLu%2BT23brZLzkOz3I4Aj1dwleC9WYNfbOGvllD36zxpr5dV8A6dOiQ/uM//kO5ubk6f/684uLilJCQoFOnTunll1/Wn//8Z7300kvXfNz33ntPO3fu1LvvvitJCg8PV2pqqjIzM3X33XeroaHBbfuGhgYFBl74n6Hdbr/sfGuwqq%2Bvd21fX18vSQoKClJAQIDrcat/3La9kpKSFBsb6zZmswWosrLWbczX10fdutl19my9mptbruk58NW7%2BPvV0bHerKFv1tA3a%2BibNVfqm6d%2BWbYUsNavX6/f/va3On78uAYNGqTZs2drwoQJCgoKcm3j6%2Bur559/3lJRX3zxhesdg65CbTb5%2BfkpIiJChw8fdpsrLi7WXXfdJelCGCsqKtKoUaMkXbhx/dixY4qIiFD//v3l5%2Ben4uJifec735EkHT161HUZsby8XMeOHVNTU5NsNpvr2OHh4ddUf2hoaJvLgWVl1WpquvQPS3Nzy2Xn4Dk36veE9WYNfbOGvllD36zxpr5Zuli5detWjRo1Sr/73e%2B0bds2/eAHP3ALV9KFe5vmzJljqagRI0aorKxMr7zyipqbm3Xy5Elt2LBB8fHxmjhxovLz85Wbm6umpibl5uYqPz9f3//%2B9yVJkydP1tatW1VYWKhz585p9erVCgkJUXR0tOx2u8aNG6dVq1apoqJCFRUVWrVqlSZMmCB/f3/FxMTI4XBo9erVOnfunAoLC7VlyxYlJiZaeh0AAODm1MnZ%2Bja9a9DU1KSamhpVVVWpX79%2BkqTc3FwNHTpUDofDSGEffvih1qxZo88%2B%2B0xdu3bVxIkTlZqaqs6dO2vPnj1atWqVTpw4oVtvvVVz587V/fffL0lyOp16/fXXlZWVpYqKCg0aNEg/%2B9nP1L9/f0lSTU2NVqxYof/5n/9RY2OjRo8ereeee851%2BfD48ePKyMjQoUOHFBAQoB/%2B8IeaMWPGdb%2BesrK277K02XzkcASqsrLWcuIet2bv9ZaGy3gnfbinSzDKxHq7GdE3a%2BibNfTNmiv1rVevrh6pyVLA%2BuSTTzR9%2BnQlJCTo2WeflSSNGjVKjY2N2rRpU5t3%2BYGA1RERsCDRN6vomzX0zRpvDFiWLhG%2B%2BOKL%2Bu53v6vZs2e7xn7/%2B99r5MiRWr58ubHiAAAAOiJLAevw4cOaMWOG2%2BdF%2Bfr6asaMGfrTn/5krDgAAICOyFLACgoK0okTJ9qMf/nll/L397/uogAAADoySwFr7NixWrx4sT788EPV1NSotrZWH330kTIyMhQXF2e6RgAAgA7F0udgPfPMMzp58qSeeOIJderUyTUeFxenefPmGSsOAACgI7IUsOx2u375y1/q888/15EjR%2BTn56cBAwa4PrIBAADgZnZdfyqnf//%2Brs%2BXAgAAwAWWAtbnn3%2BujIwMHThwQI2NjW3m//KXv1x3YQAAAB2VpYC1ePFilZSUaM6cOera1TMf4AUAAOCtLAWsgwcP6te//rUiIyNN1wMAANDhWfqYBofDocDAQNO1AAAA3BAsBaypU6fqpZdeUnV127%2BvBwAAcLOzdIlw9%2B7d%2BtOf/qSYmBj17NnT7U/mSNJ///d/GykOAACgI7IUsGJiYhQTE2O6FgAAgBuCpYD11FNPma4DAADghmHpHixJKiws1Pz58/WDH/xAp06dUlZWlvLy8kzWBgAA0CFZCliffvqppkyZor/97W/69NNPdf78ef3lL3/RE088offff990jQAAAB2KpYC1atUqPfHEE9qyZYv8/PwkSS%2B88IIeffRRrVu3zmiBAAAAHY3lM1iTJk1qM/7www/rs88%2Bu%2B6iAAAAOjJLAcvPz081NTVtxktKSmS326%2B7KAAAgI7MUsAaM2aMVq9ercrKStfY0aNHlZmZqX/6p38yVRsAAECHZClgPfvss2poaNCwYcNUX1%2BvhIQETZgwQTabTfPmzTNdIwAAQIdi6XOwgoKC9Oabb2rfvn363//9X7W0tCgiIkL33XeffHwsf/IDAADADcFSwGo1dOhQDR061FQtAAAANwRLASs2NladOnW67Dx/ixAAANzMLAWsBx980C1gNTY26vjx4/rggw%2BUnp5urDgAAICOyFLAmjVr1iXHt27dqgMHDujRRx%2B9rqIAAAA6MqN3pI8aNUq7d%2B82eUgAAIAOx2jAys/PV5cuXUweEgAAoMOxdInw4kuATqdTNTU1OnLkCJcHAQDATc9SwPrGN77R5l2Efn5%2BeuyxxxQfH2%2BkMAAAgI7KUsBavny56ToAAABuGJYCVkFBQbu3veeee6w8BQAAQIdlKWBNmzZNTqfT9a9V62XD1rFOnTrpL3/5i4EyAQAAOg5LAesXv/iFli1bpmeffVb33nuv/Pz8dOjQIS1evFiPPPKIRo0aZbpOAACADsPSxzSsWLFCixYt0pgxYxQUFKQuXbpoyJAhysjI0KZNm3Trrbe6/gEAANxsLAWs0tJS3XLLLW3Gg4KCVFlZed1FAQAAdGSWAtbgwYP10ksvqaamxjVWVVWllStXaujQoUYKq6qq0rx58xQTE6N77rlHKSkpKi0tlSQdOnRIU6ZMUWRkpGJjY7Vt2za3fXNychQXF6fBgwcrISFBBw8edM01NzdrxYoVGjZsmCIjIzVz5kzXcSWpvLxcKSkpio6OVkxMjDIzM9XU1GTkNQEAgJuDpYC1cOFCHTp0SCNHjlRCQoISEhI0atQonTx5Us8//7yRwmbNmqW6ujq99957ev/99%2BXr66vnnntOZ86c0YwZMzRp0iQVFBQoMzNTy5Yt0yeffCJJysvL05IlS7R8%2BXIVFBRo4sSJmjlzpurr6yVJGzZs0N69e/XWW29pz5498vf318KFC13Pm56eroCAAO3Zs0fbt2/Xvn37tHnzZiOvCQAA3Bws3eQ%2BYMAA5ebmaseOHTp69Kgk6ZFHHtH48eNlt9uvu6hPP/1Uhw4d0ocffqigoCBJ0pIlS1RWVqZdu3YpODhYycnJkqShQ4cqPj5eWVlZ%2Bva3v61t27Zp/PjxioqKknThHY/Z2dnKzc3V5MmTtW3bNs2ZM8d1iXPBggUaMWKETp48qZaWFuXn5%2BuDDz6Q3W5X3759lZKSopUrV%2BrJJ5%2B87tcFAABuDpYCliR169ZNU6ZM0d/%2B9jf17dtX0oVPczfhk08%2BUVhYmH7zm9/o3//931VfX6/77rtPzz77rIqKihQREeG2fVhYmLZv3y5JKi4u1uTJk9vMFxYWqrq6Wl9%2B%2BaXb/iEhIerevbuOHDkiSQoODlbv3r1d8wMGDFBJSYnOnj2rbt26GXl9AADgxmYpYDmdTq1evVpbtmxRY2Ojdu7cqZ///Ofq0qWLMjIyrjtonTlzRkeOHNFdd92lnJwcNTQ0aN68eXr22WcVEhLS5iyZv7%2B/6urqJEm1tbWXna%2BtrZUkBQQEtJlvnbt439bHdXV17Q5YpaWlKisrcxuz2QIUGhrqNubr6%2BP2Fd7FZruxvi%2BsN2vomzX0zRr6Zo039s1SwNqyZYt%2B%2B9vfatGiRcrIyJAkjRkzRj/72c/Us2dPzZkz57qK6ty5s6QLl%2B%2B6dOmioKAgpaen66GHHlJCQoIaGhrctm9oaFBgYKCkC4HoUvMOh8MVllrvx7p4f6fT2Wau9XHr8dsjOztb69atcxtLTU1VWlraJbfv1u36L6vCPIej/d/zjoT1Zg19s4a%2BWUPfrPGmvlkKWNnZ2Xr%2B%2BecVFxenJUuWSJIeeOABde7cWZmZmdcdsMLCwtTS0qLGxkZ16dJFktTS0iJJ%2Bta3vqV/%2B7d/c9u%2BuLhY4eHhkqTw8HAVFRW1mR85cqS6d%2B%2Bu3r17q7i42HWZsKysTFVVVYqIiFBLS4uqqqp0%2BvRphYSESJKOHj2qPn36qGvXru2uPykpSbGxsW5jNluAKitr3cZ8fX3UrZtdZ8/Wq7m5pd3Hx9fj4u9XR8d6s4a%2BWUPfrKFv1lypb576ZdlSwPrb3/6mb33rW23GBw4cqNOnT193UcOGDVPfvn3105/%2BVMuWLdO5c%2Bf085//XGPGjNGECRO0du1abd68WcnJyTpw4IB27Nih9evXS5ISExOVmpqqcePGKSoqSllZWSovL1dcXJwkKSEhQRs2bNCgQYPkcDi0dOlSDRkyRLfddpskKSoqSkuXLlVGRoYqKyu1fv16JSYmXlP9oaGhbS4HlpVVq6np0j8szc0tl52D59yo3xPWmzX0zRr6Zg19s8ab%2BmbpYuWtt97q%2BliEf7R7927XDe/Xw8/PT1u2bJGvr6/Gjh2rsWPHqk%2BfPlq6dKkcDoc2bdqkd999VzExMVq4cKEWLlyoe%2B%2B9V9KFdxUuWrRIixcv1pAhQ/Rf//Vf2rhxo4KDgyVduFR3//33Kzk5Wffff7/OnTunNWvWuJ577dq1ampq0ujRo/XQQw/pvvvuU0pKynW/JgAAcPPo5PzHv9bcTm%2B99ZZefPFF/fjHP9bLL7%2Bsn/70pzp%2B/Li2bNmi%2BfPn6%2BGHH/4qau3Qysqq24zZbD5yOAJVWVlrOXGPW7P3ekvDZbyTPtzTJRhlYr3djOibNfTNGvpmzZX61qtX%2B2/xMVqTlZ0mT56spqYmbdiwQQ0NDXr%2B%2BefVs2dPzZ49m3AFAABuepYC1n/%2B53/qe9/7npKSklRRUSGn06mePXuarg0AAKBDsnQP1gsvvOC6mb1Hjx6EKwAAgH9gKWD169fP9cnnAAAAcGfpEmF4eLjmzJmj1157Tf369XN9VlWrZcuWGSkOAACgI7IUsE6cOOH6Y8oX/0kYAACAm127A9ayZcv09NNPKyAgQFu2bPkqawIAAOjQ2n0P1htvvNHm7/T98z//s0pLS40XBQAA0JG1O2Bd6vNIP/74Y507d85oQQAAAB2dpXcRAgAA4PIIWAAAAIZd07sIO3Xq9FXVAXidjvZ3Hm%2B0v50IAB3ZNQWsF154we0zrxobG7Vy5UoFBga6bcfnYAEAgJtZuwPWPffc0%2BYzryIjI1VZWanKykrjhQEAAHRU7Q5YfPYVAABA%2B3CTOwAAgGEELAAAAMMIWAAAAIYRsAAAAAwjYAEAABhGwAIAADCMgAUAAGAYAQsAAMAwAhYAAIBhBCwAAADDCFgAAACGEbAAAAAMI2ABAAAYRsACAAAwjIAFAABgGAELAADAMAIWAACAYQQsAAAAwwhYAAAAhhGwAAAADCNgAQAAGEbAAgAAMIyABQAAYJjXB6zm5mZNnTpVP/nJT1xju3fvVnx8vAYPHqzUP8/%2BAAATtklEQVRx48bp/fffd9tn48aNGjlypAYPHqypU6fqs88%2Bc83V1dVp/vz5iomJUVRUlObNm6fa2lrX/Oeff67HHntMkZGRGjFihF555ZWv/kUCAIAbitcHrHXr1mn//v2ux8eOHdOsWbP09NNPa//%2B/Zo1a5bS09N16tQpSVJOTo62bNmiX/3qV8rLy9Odd96ptLQ0OZ1OSdKSJUv0xRdfaOfOndq1a5e%2B%2BOILrVq1SpLU2NioH//4xxo0aJDy8vL06quvKisrS%2B%2B8887X/8IBAECH5dUBa9%2B%2Bfdq1a5e%2B%2B93vusZycnIUHR2tMWPGyGaz6YEHHtA999yj7OxsSdJvfvMbPfLIIwoPD1eXLl30zDPPqKSkRHl5eaqvr9eOHTuUlpam4OBg9ezZU3PmzNHbb7%2Bt%2Bvp6FRQUqLS0VGlpaercubPuuOMOTZ06VVlZWZ5qAQAA6IBsni7gcsrLy7VgwQKtX79emzdvdo0XFxcrIiLCbduwsDAVFha65qdPn%2B6a8/PzU79%2B/VRYWKjg4GA1Nja67T9gwAA1NDTo2LFjKioqUv/%2B/dW5c2e3Y7/66qvXVHtpaanKysrcxmy2AIWGhrqN%2Bfr6uH0FrofNduV1xHqzhr5ZQ9%2BsoW/WeGPfvDJgtbS0aO7cuXr88cd1%2B%2B23u83V1tbKbre7jfn7%2B6uuru6q8zU1NZKkgIAA11zrtrW1tZfc1263u47dXtnZ2Vq3bp3bWGpqqtLS0i65fbdu9kuOA9fC4Qhs13asN2vomzX0zRr6Zo039c0rA9Yvf/lLde7cWVOnTm0zZ7fb1dDQ4DbW0NCgwMDAq863Bqv6%2BnrX9vX19ZKkoKAgBQQEuB63%2Bsdt2yspKUmxsbFuYzZbgCora93GfH191K2bXWfP1qu5ueWangO42MXr62KsN2vomzX0zRr6Zs2V%2BtbeXz5N88qA9dvf/lalpaWKjo6WJFdg%2Bv3vf6/k5GQdPnzYbfvi4mLdddddkqTw8HAVFRVp1KhRki7cuH7s2DFFRESof//%2B8vPzU3Fxsb7zne9Iko4ePeq6jFheXq5jx46pqalJNpvNdezw8PBrqj80NLTN5cCysmo1NV36h6W5ueWyc0B7tXcNsd6soW/W0Ddr6Js13tQ377lY%2BQ/effddffzxx9q/f7/279%2BvCRMmaMKECdq/f78mTpyo/Px85ebmqqmpSbm5ucrPz9f3v/99SdLkyZO1detWFRYW6ty5c1q9erVCQkIUHR0tu92ucePGadWqVaqoqFBFRYVWrVqlCRMmyN/fXzExMXI4HFq9erXOnTunwsJCbdmyRYmJiR7uCAAA6Ei88gzWlQwYMED/%2Bq//qlWrVmnBggW69dZb9Ytf/EL9%2B/eXJCUmJqq6ulqpqamqqKjQoEGD9Mtf/lJ%2Bfn6SpEWLFmnFihWKj49XY2OjRo8ereeee06SZLPZtGnTJmVkZGj48OEKCAjQ1KlTlZCQ4LHXCwAAOp5OztYPiMJXqqysus2YzeYjhyNQlZW1lk9pjluz93pLww3infThV5w3sd5uRvTNGvpmDX2z5kp969Wrq0dq8spLhAAAAB0ZAQsAAMAwAhYAAIBhBCwAAADDCFgAAACGEbAAAAAMI2ABAAAYRsACAAAwjIAFAABgGAELAADAMAIWAACAYQQsAAAAwwhYAAAAhhGwAAAADCNgAQAAGEbAAgAAMIyABQAAYBgBCwAAwDACFgAAgGEELAAAAMMIWAAAAIYRsAAAAAwjYAEAABhGwAIAADCMgAUAAGAYAQsAAMAwAhYAAIBhBCwAAADDCFgAAACGEbAAAAAMI2ABAAAYRsACAAAwjIAFAABgGAELAADAMAIWAACAYQQsAAAAwwhYAAAAhnltwCosLNTjjz%2BuIUOGaPjw4Zo3b54qKiokSYcOHdKUKVMUGRmp2NhYbdu2zW3fnJwcxcXFafDgwUpISNDBgwddc83NzVqxYoWGDRumyMhIzZw5U6Wlpa758vJypaSkKDo6WjExMcrMzFRTU9PX86IBAMANwSsDVkNDg5588klFRkbqj3/8o373u9%2BpqqpKP/3pT3XmzBnNmDFDkyZNUkFBgTIzM7Vs2TJ98sknkqS8vDwtWbJEy5cvV0FBgSZOnKiZM2eqvr5ekrRhwwbt3btXb731lvbs2SN/f38tXLjQ9dzp6ekKCAjQnj17tH37du3bt0%2BbN2/2RBsAAEAH5ZUBq6SkRLfffrtSU1PVuXNnORwOJSUlqaCgQLt27VJwcLCSk5Nls9k0dOhQxcfHKysrS5K0bds2jR8/XlFRUfLz89O0adPkcDiUm5vrmp8%2BfbpuueUWBQUFacGCBfrggw908uRJHT9%2BXPn5%2BZo7d67sdrv69u2rlJQU17EBAADawysD1je/%2BU299tpr8vX1dY3t3LlTd955p4qKihQREeG2fVhYmAoLCyVJxcXFl52vrq7Wl19%2B6TYfEhKi7t2768iRIyoqKlJwcLB69%2B7tmh8wYIBKSkp09uzZr%2BKlAgCAG5DN0wVcjdPp1Jo1a/T%2B%2B%2B9r69ateuONN2S329228ff3V11dnSSptrb2svO1tbWSpICAgDbzrXMX79v6uK6uTt26dWtXzaWlpSorK3Mbs9kCFBoa6jbm6%2Bvj9hW4HjbbldcR680a%2BmYNfbOGvlnjjX3z6oBVU1Oj%2BfPn6/Dhw9q6dasGDhwou92u6upqt%2B0aGhoUGBgo6UIgamhoaDPvcDhcYan1fqyL93c6nW3mWh%2B3Hr89srOztW7dOrex1NRUpaWlXXL7bt3slxwHroXD0b41ynqzhr5ZQ9%2BsoW/WeFPfvDZgnThxQtOnT9c3vvENbd%2B%2BXT169JAkRUREaO/evW7bFhcXKzw8XJIUHh6uoqKiNvMjR45U9%2B7d1bt3b7fLiGVlZaqqqlJERIRaWlpUVVWl06dPKyQkRJJ09OhR9enTR127dm137UlJSYqNjXUbs9kCVFlZ6zbm6%2Bujbt3sOnu2Xs3NLe0%2BPnApF6%2Bvi7HerKFv1tA3a%2BibNVfqW3t/%2BTTNKwPWmTNn9Nhjj%2Bnee%2B9VZmamfHz%2B/ym/uLg4rVy5Ups3b1ZycrIOHDigHTt2aP369ZKkxMREpaamaty4cYqKilJWVpbKy8sVFxcnSUpISNCGDRs0aNAgORwOLV26VEOGDNFtt90mSYqKitLSpUuVkZGhyspKrV%2B/XomJiddUf2hoaJvLgWVl1WpquvQPS3Nzy2XngPZq7xpivVlD36yhb9bQN2u8qW9eGbDefvttlZSU6J133tG7777rNnfw4EFt2rRJmZmZWrt2rXr06KGFCxfq3nvvlSQNHTpUixYt0uLFi3Xq1CmFhYVp48aNCg4OlnThUl1TU5OSk5NVW1urmJgYrVmzxnX8tWvXKiMjQ6NHj5aPj48mTZqklJSUr%2B/FAwCADq%2BT0%2Bl0erqIm0FZWXWbMZvNRw5HoCoray0n7nFr9l59I9wU3kkffsV5E%2BvtZkTfrKFv1tA3a67Ut1692n%2BLj0nec7s9AADADcIrLxECuHYd6Wzm1c62AUBHxxksAAAAwwhYAAAAhhGwAAAADCNgAQAAGEbAAgAAMIyABQAAYBgBCwAAwDACFgAAgGEELAAAAMMIWAAAAIYRsAAAAAwjYAEAABhGwAIAADCMgAUAAGAYAQsAAMAwAhYAAIBhBCwAAADDCFgAAACGEbAAAAAMI2ABAAAYRsACAAAwjIAFAABgGAELAADAMAIWAACAYQQsAAAAwwhYAAAAhhGwAAAADCNgAQAAGEbAAgAAMIyABQAAYJjN0wUAuPmMW7PX0yVck/2Z3/N0CQA6GM5gAQAAGMYZLAC4iugF73q6hGvyTvpwT5cA3PQ4gwUAAGAYAQsAAMAwAtYllJeXKyUlRdHR0YqJiVFmZqaampo8XRYAAOgguAfrEtLT09W7d2/t2bNHp0%2Bf1syZM7V582Y9%2BeSTni4NAK6qI71Lk/vFcKPiDNZFjh8/rvz8fM2dO1d2u119%2B/ZVSkqKsrKyPF0aAADoIAhYFykqKlJwcLB69%2B7tGhswYIBKSkp09uxZD1YGAAA6Ci4RXqS2tlZ2u91trPVxXV2dunXrdtVjlJaWqqyszG3MZgtQaGio25ivr4/bVwC42XSky5mS9N6c%2B77S4/P/BWu8sW8ErIsEBASovr7ebaz1cWBgYLuOkZ2drXXr1rmNPfXUU5o1a5bbWGlpqX7969eUlJTUJny11834CdOlpaXKzs6%2Brr7djOibNfTNGvpmjYn/L9yMvLFv3hP1vER4eLiqqqp0%2BvRp19jRo0fVp08fde3atV3HSEpK0ttvv%2B32Lykpqc12ZWVlWrduXZuzXbgy%2BmYNfbOGvllD36yhb9Z4Y984g3WRfv36KSoqSkuXLlVGRoYqKyu1fv16JSYmtvsYoaGhXpOgAQDA148zWJewdu1aNTU1afTo0XrooYd03333KSUlxdNlAQCADoIzWJcQEhKitWvXeroMAADQQfkuXrx4saeLuJkFBgZqyJAh7b6BHhfQN2vomzX0zRr6Zg19s8bb%2BtbJ6XQ6PV0EAADAjYR7sAAAAAwjYAEAABhGwAIAADCMgAUAAGAYAQsAAMAwAhYAAIBhBCwAAADDCFgAAACGEbA8pLy8XCkpKYqOjlZMTIwyMzPV1NTk6bK8Xm5uru644w5FRka6/s2dO9fTZXmtiooKxcXFKS8vzzV26NAhTZkyRZGRkYqNjdW2bds8WKF3ulTfFi1apLvuustt7WVnZ3uwSu9RWFioxx9/XEOGDNHw4cM1b948VVRUSGK9XcmV%2BsZ6u7x9%2B/ZpypQpuvvuuzV8%2BHAtWbJEDQ0NkrxsvTnhET/84Q%2BdzzzzjLOurs554sQJ5/jx450bN270dFleb/ny5c6f/OQnni6jQ9i/f79zzJgxzoiICOdHH33kdDqdzqqqKueQIUOcW7dudTY2Njo//PBDZ2RkpPPQoUMertZ7XKpvTqfT%2BeCDDzrffvttD1bmnerr653Dhw93vvzyy85z5845KyoqnNOnT3f%2B6Ec/Yr1dwZX65nSy3i6nvLzcOWjQIOdbb73lbG5udp46dco5YcIE58svv%2Bx1640zWB5w/Phx5efna%2B7cubLb7erbt69SUlKUlZXl6dK83p///Gfdddddni7D6%2BXk5GjOnDmaPXu22/iuXbsUHBys5ORk2Ww2DR06VPHx8ay9/3O5vp0/f15//etfWXuXUFJSottvv12pqanq3LmzHA6HkpKSVFBQwHq7giv1jfV2eT169NCHH36ohIQEderUSVVVVTp37px69OjhdeuNgOUBRUVFCg4OVu/evV1jAwYMUElJic6ePevByrxbS0uLDh8%2BrD/84Q8aNWqURo4cqeeee05nzpzxdGleZ8SIEXrvvff0wAMPuI0XFRUpIiLCbSwsLEyFhYVfZ3le63J9KywsVFNTk9auXathw4Zp7NixevXVV9XS0uKhSr3HN7/5Tb322mvy9fV1je3cuVN33nkn6%2B0KrtQ31tuVBQUFSZLuv/9%2BxcfHq1evXkpISPC69UbA8oDa2lrZ7Xa3sdbHdXV1niipQ6ioqNAdd9yhsWPHKjc3V2%2B%2B%2BaaOHTvGPViX0KtXL9lstjbjl1p7/v7%2BrLv/c7m%2BVVdXa8iQIZo6dap2796tlStXasuWLdq0aZMHqvReTqdTP//5z/X%2B%2B%2B9rwYIFrLd2urhvrLf22bVrlz744AP5%2BPgoLS3N69Zb2/%2BS4CsXEBCg%2Bvp6t7HWx4GBgZ4oqUMICQlxO9Vrt9s1d%2B5cPfTQQ6qpqXH9VoPLs9vtqq6udhtraGhg3V3F8OHDNXz4cNfjb3/723rssceUm5urJ5980oOVeY%2BamhrNnz9fhw8f1tatWzVw4EDWWztcqm8DBw5kvbWDv7%2B//P39NXfuXE2ZMkVTp071qvXGGSwPCA8PV1VVlU6fPu0aO3r0qPr06aOuXbt6sDLvVlhYqFWrVsnpdLrGzp8/Lx8fH3Xu3NmDlXUcERERKioqchsrLi5WeHi4hyrqGH7/%2B9/rzTffdBs7f/68/P39PVSRdzlx4oQmT56smpoabd%2B%2BXQMHDpTEeruay/WN9XZ5H3/8sb73ve/p/PnzrrHz58/Lz89PYWFhXrXeCFge0K9fP0VFRWnp0qWqqanRyZMntX79eiUmJnq6NK8WHBysrKwsvfbaa2pqalJJSYlWrlypBx98kIDVTnFxcTp9%2BrQ2b96sxsZGffTRR9qxY4cmT57s6dK8mtPp1LJly7Rv3z45nU4dPHhQb7zxhpKSkjxdmsedOXNGjz32mO6%2B%2B2796le/Uo8ePVxzrLfLu1LfWG%2BXN3DgQDU0NGj16tU6f/68/v73v2vFihVKTEzU2LFjvWq9dXL%2B4%2BkAfG1Onz6tjIwM5eXlycfHR5MmTdKcOXPcbnhEW/n5%2BXrppZf017/%2BVV26dNH48eM1d%2B5cdenSxdOlea2BAwfqjTfeUExMjKQL78TMzMzUX//6V/Xo0UMpKSlKSEjwcJXe5%2BK%2Bvfnmm3r99dd16tQphYSE6PHHH1dycrKHq/S8119/XcuXL5fdblenTp3c5g4ePMh6u4yr9Y31dnnFxcVaunSp/vznP6tr166Kj493vRvTm9YbAQsAAMAwLhECAAAYRsACAAAwjIAFAABgGAELAADAMAIWAACAYQQsAAAAwwhYAAAAhhGwAAAADCNgAQAAGEbAAgAAMIyABQAAYBgBCwAAwDACFgAAgGEELAAAAMMIWAAAAIb9PzOczjyGydT7AAAAAElFTkSuQmCC\"/>\n",
       "        </div>\n",
       "        <div role=\"tabpanel\" class=\"tab-pane col-md-12\" id=\"common-3216961303036416496\">\n",
       "            \n",
       "<table class=\"freq table table-hover\">\n",
       "    <thead>\n",
       "    <tr>\n",
       "        <td class=\"fillremaining\">Value</td>\n",
       "        <td class=\"number\">Count</td>\n",
       "        <td class=\"number\">Frequency (%)</td>\n",
       "        <td style=\"min-width:200px\">&nbsp;</td>\n",
       "    </tr>\n",
       "    </thead>\n",
       "    <tr class=\"\">\n",
       "        <td class=\"fillremaining\">2</td>\n",
       "        <td class=\"number\">43868</td>\n",
       "        <td class=\"number\">13.9%</td>\n",
       "        <td>\n",
       "            <div class=\"bar\" style=\"width:100%\">&nbsp;</div>\n",
       "        </td>\n",
       "</tr><tr class=\"\">\n",
       "        <td class=\"fillremaining\">3</td>\n",
       "        <td class=\"number\">43829</td>\n",
       "        <td class=\"number\">13.9%</td>\n",
       "        <td>\n",
       "            <div class=\"bar\" style=\"width:99%\">&nbsp;</div>\n",
       "        </td>\n",
       "</tr><tr class=\"\">\n",
       "        <td class=\"fillremaining\">4</td>\n",
       "        <td class=\"number\">41046</td>\n",
       "        <td class=\"number\">13.0%</td>\n",
       "        <td>\n",
       "            <div class=\"bar\" style=\"width:93%\">&nbsp;</div>\n",
       "        </td>\n",
       "</tr><tr class=\"\">\n",
       "        <td class=\"fillremaining\">1</td>\n",
       "        <td class=\"number\">40739</td>\n",
       "        <td class=\"number\">12.9%</td>\n",
       "        <td>\n",
       "            <div class=\"bar\" style=\"width:92%\">&nbsp;</div>\n",
       "        </td>\n",
       "</tr><tr class=\"\">\n",
       "        <td class=\"fillremaining\">5</td>\n",
       "        <td class=\"number\">36308</td>\n",
       "        <td class=\"number\">11.5%</td>\n",
       "        <td>\n",
       "            <div class=\"bar\" style=\"width:82%\">&nbsp;</div>\n",
       "        </td>\n",
       "</tr><tr class=\"\">\n",
       "        <td class=\"fillremaining\">6</td>\n",
       "        <td class=\"number\">30261</td>\n",
       "        <td class=\"number\">9.6%</td>\n",
       "        <td>\n",
       "            <div class=\"bar\" style=\"width:69%\">&nbsp;</div>\n",
       "        </td>\n",
       "</tr><tr class=\"\">\n",
       "        <td class=\"fillremaining\">7</td>\n",
       "        <td class=\"number\">23488</td>\n",
       "        <td class=\"number\">7.4%</td>\n",
       "        <td>\n",
       "            <div class=\"bar\" style=\"width:54%\">&nbsp;</div>\n",
       "        </td>\n",
       "</tr><tr class=\"\">\n",
       "        <td class=\"fillremaining\">8</td>\n",
       "        <td class=\"number\">17522</td>\n",
       "        <td class=\"number\">5.5%</td>\n",
       "        <td>\n",
       "            <div class=\"bar\" style=\"width:40%\">&nbsp;</div>\n",
       "        </td>\n",
       "</tr><tr class=\"\">\n",
       "        <td class=\"fillremaining\">9</td>\n",
       "        <td class=\"number\">12157</td>\n",
       "        <td class=\"number\">3.8%</td>\n",
       "        <td>\n",
       "            <div class=\"bar\" style=\"width:28%\">&nbsp;</div>\n",
       "        </td>\n",
       "</tr><tr class=\"\">\n",
       "        <td class=\"fillremaining\">10</td>\n",
       "        <td class=\"number\">8074</td>\n",
       "        <td class=\"number\">2.6%</td>\n",
       "        <td>\n",
       "            <div class=\"bar\" style=\"width:19%\">&nbsp;</div>\n",
       "        </td>\n",
       "</tr><tr class=\"other\">\n",
       "        <td class=\"fillremaining\">Other values (19)</td>\n",
       "        <td class=\"number\">18908</td>\n",
       "        <td class=\"number\">6.0%</td>\n",
       "        <td>\n",
       "            <div class=\"bar\" style=\"width:43%\">&nbsp;</div>\n",
       "        </td>\n",
       "</tr>\n",
       "</table>\n",
       "        </div>\n",
       "        <div role=\"tabpanel\" class=\"tab-pane col-md-12\"  id=\"extreme-3216961303036416496\">\n",
       "            <p class=\"h4\">Minimum 5 values</p>\n",
       "            \n",
       "<table class=\"freq table table-hover\">\n",
       "    <thead>\n",
       "    <tr>\n",
       "        <td class=\"fillremaining\">Value</td>\n",
       "        <td class=\"number\">Count</td>\n",
       "        <td class=\"number\">Frequency (%)</td>\n",
       "        <td style=\"min-width:200px\">&nbsp;</td>\n",
       "    </tr>\n",
       "    </thead>\n",
       "    <tr class=\"\">\n",
       "        <td class=\"fillremaining\">1</td>\n",
       "        <td class=\"number\">40739</td>\n",
       "        <td class=\"number\">12.9%</td>\n",
       "        <td>\n",
       "            <div class=\"bar\" style=\"width:92%\">&nbsp;</div>\n",
       "        </td>\n",
       "</tr><tr class=\"\">\n",
       "        <td class=\"fillremaining\">2</td>\n",
       "        <td class=\"number\">43868</td>\n",
       "        <td class=\"number\">13.9%</td>\n",
       "        <td>\n",
       "            <div class=\"bar\" style=\"width:100%\">&nbsp;</div>\n",
       "        </td>\n",
       "</tr><tr class=\"\">\n",
       "        <td class=\"fillremaining\">3</td>\n",
       "        <td class=\"number\">43829</td>\n",
       "        <td class=\"number\">13.9%</td>\n",
       "        <td>\n",
       "            <div class=\"bar\" style=\"width:99%\">&nbsp;</div>\n",
       "        </td>\n",
       "</tr><tr class=\"\">\n",
       "        <td class=\"fillremaining\">4</td>\n",
       "        <td class=\"number\">41046</td>\n",
       "        <td class=\"number\">13.0%</td>\n",
       "        <td>\n",
       "            <div class=\"bar\" style=\"width:93%\">&nbsp;</div>\n",
       "        </td>\n",
       "</tr><tr class=\"\">\n",
       "        <td class=\"fillremaining\">5</td>\n",
       "        <td class=\"number\">36308</td>\n",
       "        <td class=\"number\">11.5%</td>\n",
       "        <td>\n",
       "            <div class=\"bar\" style=\"width:82%\">&nbsp;</div>\n",
       "        </td>\n",
       "</tr>\n",
       "</table>\n",
       "            <p class=\"h4\">Maximum 5 values</p>\n",
       "            \n",
       "<table class=\"freq table table-hover\">\n",
       "    <thead>\n",
       "    <tr>\n",
       "        <td class=\"fillremaining\">Value</td>\n",
       "        <td class=\"number\">Count</td>\n",
       "        <td class=\"number\">Frequency (%)</td>\n",
       "        <td style=\"min-width:200px\">&nbsp;</td>\n",
       "    </tr>\n",
       "    </thead>\n",
       "    <tr class=\"\">\n",
       "        <td class=\"fillremaining\">25</td>\n",
       "        <td class=\"number\">39</td>\n",
       "        <td class=\"number\">0.0%</td>\n",
       "        <td>\n",
       "            <div class=\"bar\" style=\"width:100%\">&nbsp;</div>\n",
       "        </td>\n",
       "</tr><tr class=\"\">\n",
       "        <td class=\"fillremaining\">26</td>\n",
       "        <td class=\"number\">17</td>\n",
       "        <td class=\"number\">0.0%</td>\n",
       "        <td>\n",
       "            <div class=\"bar\" style=\"width:44%\">&nbsp;</div>\n",
       "        </td>\n",
       "</tr><tr class=\"\">\n",
       "        <td class=\"fillremaining\">27</td>\n",
       "        <td class=\"number\">7</td>\n",
       "        <td class=\"number\">0.0%</td>\n",
       "        <td>\n",
       "            <div class=\"bar\" style=\"width:18%\">&nbsp;</div>\n",
       "        </td>\n",
       "</tr><tr class=\"\">\n",
       "        <td class=\"fillremaining\">28</td>\n",
       "        <td class=\"number\">1</td>\n",
       "        <td class=\"number\">0.0%</td>\n",
       "        <td>\n",
       "            <div class=\"bar\" style=\"width:3%\">&nbsp;</div>\n",
       "        </td>\n",
       "</tr><tr class=\"\">\n",
       "        <td class=\"fillremaining\">29</td>\n",
       "        <td class=\"number\">2</td>\n",
       "        <td class=\"number\">0.0%</td>\n",
       "        <td>\n",
       "            <div class=\"bar\" style=\"width:6%\">&nbsp;</div>\n",
       "        </td>\n",
       "</tr>\n",
       "</table>\n",
       "        </div>\n",
       "    </div>\n",
       "</div>\n",
       "</div>\n",
       "    <div class=\"row headerrow highlight\">\n",
       "        <h1>Correlations</h1>\n",
       "    </div>\n",
       "    <div class=\"row variablerow\">\n",
       "    <img src=\"data:image/png;base64,iVBORw0KGgoAAAANSUhEUgAAAqcAAAJbCAYAAADZtT1mAAAABHNCSVQICAgIfAhkiAAAAAlwSFlzAAAPYQAAD2EBqD%2BnaQAAADl0RVh0U29mdHdhcmUAbWF0cGxvdGxpYiB2ZXJzaW9uIDMuMC4zLCBodHRwOi8vbWF0cGxvdGxpYi5vcmcvnQurowAAIABJREFUeJzs3Xl8TXf%2Bx/F3FrJZYkii1rQhTCkJIcZWEqrUNq1KR2up0hmRiK20TKukRaeqrbWtpcbSitoG1WGqHbRF2go/pVG7EITEklUW9/dHxh23og3nmHvdvp6PRx5Jzvmecz/3a7mfvL/n3LhYLBaLAAAAAAfgau8CAAAAgOtoTgEAAOAwaE4BAADgMGhOAQAA4DBoTgEAAOAwaE4BAADgMGhOAQAA4DBoTgEAAOAwaE4BAADgMNztXQAA3A2nTp1SZGTkLfeXKVNG5cqVU2BgoNq1a6dnnnlG5cqV%2Bx9WCAAoiQu/vhSAM7qxOQ0ODr6p8SwoKFBGRoZOnz4tSapWrZoWLVqk2rVr/89rBQD8F80pAKd0Y3O6ePFihYeHlzhu165dio6OVlZWlkJDQ7V8%2BfL/ZZkAgJ/hmlMAv2nh4eEaOXKkJCkpKUk//PCDnSsCgN82mlMAv3kdO3a0fr137147VgIA4IYoAL955cuXt36dnZ1ts%2B/bb7/VkiVLtHv3bl26dEkVKlRQSEiI%2Bvbtqz/84Q8lnu/KlStavny5tm7dqsOHDysrK0teXl6qVauW2rdvr379%2BqlixYo2x9SrV0%2BS9PXXX2vq1KnasmWLXF1d1aBBAy1cuFDu7u7au3evFi1apAMHDujMmTPy8PDQ/fffrw4dOqhPnz4l3tCVl5en5cuXa%2BPGjTp8%2BLAKCgoUEBCgli1bauDAgQoMDLQZv2vXLvXr10%2BNGzfWsmXLtGTJEq1du1YnTpxQmTJl1KBBA/Xt21cdOnS4k6kGgF9FcwrgN%2B/EiRPWr6tWrWr9etq0aZo3b54kqWLFigoODlZaWpq2bNmiLVu2aNCgQXrhhRdsznX8%2BHENGDBAZ86ckbu7u2rVqqXq1avr9OnT2r9/v/bv369PP/1Uq1atko%2BPz021xMbGKikpScHBwcrIyJCfn5/c3d21efNmjRgxQoWFhapUqZLq1Kmj7Oxs/d///Z/27t2rdevWafny5TYN6tmzZ/Xss8/q6NGjkqTAwED5%2BPjoyJEjSkhI0Nq1azV16lR16dLlpjoKCgo0ePBg7dixQ5UqVVJQUJCOHTumnTt3aufOnXr11Vf1pz/9ydjEA0BJLADghFJSUizBwcGW4OBgy86dO39x7JgxYyzBwcGWBg0aWM6fP2%2BxWCyWjz/%2B2BIcHGwJCwuz/OMf/7COvXbtmuXTTz%2B1hISEWIKDgy0rVqywOdczzzxjCQ4OtvTu3dty7tw5m%2BPWrFljqV%2B/viU4ONiydOlSm%2BOu19qwYUNLYmKixWKxWIqKiiwXL160FBUVWVq1amUJDg62zJs3z1JYWGg97ocffrC0aNHCEhwcbHn//fet2wsLCy09evSwBAcHWzp16mT58ccfrfsyMzMt48ePtz7nPXv2WPft3LnTWktISIhl3bp11n1Xrlyx9O/f3xIcHGxp3ry5paCg4BfnFQDuBNecAvhNysvL04EDBzRhwgStXbtWkjRgwABVqVJF%2Bfn5mjlzpiRp8uTJ6t69u/U4FxcXdenSxZqYzpw5U4WFhZKk9PR0HTp0SJIUHx8vf39/m%2BN69uyp5s2bS5IOHjxYYl2dO3dWs2bNJEmurq7y9fVVRkaGzp8/L0nq3bu33NzcrOMbNGigESNGqEOHDvL19bVu/%2Bc//6kff/xRHh4emjdvnurXr2/dV65cOb322mtq06aNCgoK9Pbbb5dYy7Bhw9StWzfr9%2BXLl7c%2B70uXLunYsWO3mF0AuHMs6wNwev369fvVMU8%2B%2BaTi4uIkFd%2B1f%2BHCBfn4%2BNzyjfy7d%2B%2Bu%2BPh4nTt3TgcOHFCjRo1UuXJl7dy5U3l5efL09LzpmKKiIuuye15eXonnbdq06U3bKlWqpIoVK%2Bry5csaPXq0hgwZosaNG8vVtThf6N27t3r37m1zzBdffCFJioiIUM2aNUt8rGeffVbbt29XYmKiMjMzba69laT27dvfdExQUJD16ytXrpR4XgAwguYUgNP7%2BZvwu7i4yMPDQ76%2BvqpXr546dOigOnXqWPdfTz8LCgr09NNP3/K8bm5uunbtmo4ePapGjRpZt3t6eurMmTPau3evTp48qZSUFB05ckQ//vijcnJyJEnXrl0r8Zx%2Bfn4lPs7o0aP18ssva%2BvWrdq6dasqVqyo8PBwtWrVSu3atbO5VlaSNdVs0KDBLeu/vq%2BoqEgnTpxQw4YNbfYHBATcdMyNTXdRUdEtzw0Ad4rmFIDT%2B%2Btf/3rLN%2BEvSWZmpiQpPz9fu3fv/tXxNyaIR48e1d/%2B9jdt3brVpgEtV66cwsLClJaWpuTk5Fueq6TEVSpOR2vXrq0PP/xQ33zzjS5fvqzNmzdr8%2BbNcnFxUbt27fTqq69am9SsrCxJuikNvdGNDfvP36VAKv4Vr7/Ewu9wAXAX0JwCwM94eXlJKk4WV69eXerj0tPT9cwzzyg9PV3VqlVT79699eCDD%2BqBBx5QjRo15OLiolGjRv1ic/pLwsPDFR4erry8PH333Xf69ttvtX37du3fv19ffvmlzpw5o7Vr18rFxcX6TgDXG%2B2S3NhUl/TOAQBgDzSnAPAz999/v6Tit4UqLCyUu/vN/1VaLBbt2rVLVatWVbVq1VS2bFmtWrVK6enp8vX11apVq/S73/3upuPOnTt32/Xk5%2BcrJSVFWVlZaty4sTw9PdW6dWu1bt1aI0aM0KeffqqRI0cqOTlZBw8eVP369fXAAw/owIED2r9//y3Pu2/fPknFlznUqlXrtusCgLuBu/UB4GeaNWum8uXLKzs7%2B5bJ6fr169W/f3917txZZ8%2BelSSdOnVKklStWrUSG9PDhw9rz549km7ves1t27apS5cuev7555Wfn3/T/pYtW1q/vn7e6zczffHFF0pJSSnxvIsXL5YkhYSEqEKFCqWuBwDuJppTAPgZb29vPf/885Kk119/XatWrbK5fvTzzz/XhAkTJBW/9dP11PGBBx6QJCUnJ2vTpk3W8RaLRdu2bdOgQYNUUFAgScrNzS11PW3btlWlSpV06dIljR07VpcuXbLuy87O1htvvCFJuu%2B%2B%2B1S3bl1J0qOPPqp69erp6tWrGjx4sM2lBFlZWXr55Zf11Vdfyd3dXaNHjy795ADAXcayPgCUYPDgwUpJSdGKFSs0btw4vfnmm6pRo4bOnTuntLQ0SVKTJk302muvWY/p1auXPvroI504cULDhg1T9erVValSJZ05c0bp6ekqU6aMmjdvrsTExNta3i9btqzeffddPffcc9q4caO2bNmiWrVqydXVVSkpKcrJyZGXl5emTp2qsmXLSpLc3d01Z84cDR48WEePHlWPHj1sfkPU9be7mjhxosLCwsydPAAwgOYUAErg4uKi%2BPh4derUScuXL9eePXusb2ofEhKirl27KioqytoMSsV3v69cuVLz5s3Tl19%2BqVOnTunChQuqWrWq2rVrp/79%2B8vb21sdOnRQcnKyUlNTVa1atVLVEx4erk8%2B%2BUQffvihvv/%2Bex0/flzu7u6qWrWqWrdurYEDB950rho1amjVqlX6%2BOOP9c9//lNHjhzR2bNndd9996lNmzZ6%2BumnFRgYaOa0AYBhLhbeCwQAAAAOgmtOAQAA4DBoTgEAAOAwaE4BAADgMGhOAQAAfiMyMjLUsWNH7dq165Zjtm7dqm7duikkJESdO3fWl19%2BabN/3rx5atu2rUJCQtS3b18dPXrU1BppTgEAAH4Dvv/%2Be0VFRenkyZO3HHP8%2BHHFxsYqLi5O3333nWJjYzV8%2BHDr29%2BtWbNGS5Ys0YIFC7Rr1y41aNBAw4YNk5n319OcAgAAOLk1a9Zo9OjRGjFixK%2BOCwsLU4cOHeTu7q4uXbqoWbNmSkhIkCStWLFCffr0Ud26deXh4aFRo0YpNTX1F5PY20VzCgAA4MDS0tK0f/9%2Bm4/rvwyktFq3bq1//etf6tKlyy%2BOO3z4sIKDg2221alTx/pb5n6%2Bv0yZMgoMDLT5LXRG8Sb8MMbFxd4VmOv%2B%2B6VDh6S6daVjx%2BxdjXkKC%2B1dgflcXaUbfqWoM8jKdbN3CaZxcZG8vaWcHMnZ3k07O9veFZjHzU2qXFlKT5eKiuxdjbkCAuz0wHfhdTFhxgzNmjXLZltMTIxiY2NLfQ4/P79SjcvOzpaXl5fNNk9PT%2BXk5JRqvxloToEb%2BfoW/2/t62vvSvBrnO0HIyfj4vLfD2drTp3JjX9OcFxRUVGKiIiw2VbaZvN2eXl5KS8vz2ZbXl6efHx8SrXfDDSnAAAAZnE1/4pJf39/%2Bfv7m37ekgQHB2v//v022w4fPqyGDRtKkurWratDhw6pffv2kqSCggIdP378pksBjOCaUwAAAEiSunfvrsTERG3cuFGFhYXauHGjEhMT1aNHD0nSE088oaVLlyo5OVlXr17VW2%2B9pSpVqigsLMy0GkhOAQAAzHIXktO7LTQ0VBMnTlT37t0VFBSk2bNna9q0aRo/fryqV6%2BumTNn6v7775ck9erVS5mZmRo6dKgyMjL00EMP6f3331eZMmVMq8fFYuYbU%2BG3x9kuVAoNlXbvlpo0kZKS7F2NeZzxhig3N6e7g8OZbohydf3vDVFOdt%2BaU90Q5e7%2B3xuinO2/CbvdEOXhYf45r141/5wO7N5r7wEAAOC0WNYHAAAwyz24rO9omEEAAAA4DJJTAAAAs5CcGkZzCgAAYBaaU8OYQQAAADgMklMAAACzkJwaxgwCAADAYZCcAgAAmIXk1DCaUwAAALPQnBrGDAIAAMBhkJwCAACYheTUMJpTAAAAs9CcGsYMAgAAwGGQnAIAAJiF5NQwZhAAAAAOg%2BQUAADALCSnhtGcAgAAmIXm1DBmEAAAAA6D5BQAAMAsJKeGMYMAAABwGCSnAAAAZiE5NYzmFAAAwCw0p4YxgwAAAHAYJKcAAABmITk1jBkEAACAwyA5BQAAMAvJqWE0pwAAAGahOTWMGQQAAIDDIDkFAAAwC8mpYcwgAAAAHAbJKQAAgFlITg2jOQUAADALzalhzCAAAAAcBskpAACAWUhODWMGAQAA4DBITgEAAMxCcmoYzSkAAIBZaE4NYwYBAADgMEhOAQAAzEJyahgzCAAAAIdBcgoAAGAWklPDaE4BAADMQnNqGM0pAACAk0tPT9fLL7%2BsxMREubm5qXv37ho7dqzc3W1bwUGDBun777%2B32ZaTk6OoqChNmjRJFy5cUKtWreTt7W3dX6lSJX3xxRem1UpzCgAAYBYHTU6HDx%2BugIAAbd%2B%2BXRcuXNCQIUO0aNEiDRo0yGbc/Pnzbb5fuXKlZs2apZiYGEnSvn37VL16dVOb0Z%2BjOb2HfPHFF/rggw904sQJ5eTk6KGHHtJrr72mwMBAffrpp5oxY4bS09PVuHFjVatWTQUFBZo6daosFouWLFmiZcuWKT09XcHBwRo3bpwaNmxo76cEAADushMnTigxMVHbtm2Tl5eXatasqejoaL355ps3Nac3Onr0qOLj47VgwQL5%2B/tLKm5O73b/QHN6jzh79qzi4uL07rvvKiIiQhcvXlRMTIxmz56tPn36aOzYsZoxY4batm2rL7/8UsOHD1e3bt0kSR999JE%2B/PBDzZ07V0FBQfrHP/6hZ599Vp999pmqVKlS6hrS0tJ0/vx5m21%2B998vf19fU5%2BrXdWvb/sZ%2BB9y0MDljri4/PezMz0vSXJ3oldONzfbz86isNCOD34X/sKX%2BPrr52dtGH/NoUOH5Ovrq4CAAOu2oKAgpaam6sqVK6pQoUKJx02cOFE9e/ZUWFiYddu%2Bfft0%2BfJlde3aVRcuXNBDDz2ksWPHqk6dOnfwzErmRP/EnNvvfvc7ffrpp6pVq5aysrJ09uxZVapUSefOndOqVav0yCOPKCIiQpLUsWNHdejQwXrssmXL9Oc//1n1/9Nw9erVSytXrtS6des0cODAUteQkJCgWbNm2WyLiYtTbFycCc/QwXz0kb0rQGk42SvqDZdwOQ0vL3tXYD5n/HNypoxBks6ds%2BOD34XmtMTX35gYxcbGlur47Oxsef3sH%2BP173NyckpsTr/77jvt3btX06ZNs9leoUIF1alTR4MHD1bZsmX17rvv6tlnn9XGjRtVvnz523lat0Rzeo8oU6aMNmzYoOXLl8vFxUXBwcHKysqSu7u7zpw5owcffNBmfM2aNXXhwgVJ0unTp/XGG2/Y/AUrLCy87Vg%2BKirK2gBf59etm/T3v9/hs3JA9esXN6Z9%2BkjJyfauxjzffmvvCszn5iYVFdm7ClPlXHWeZtvFpbgxzc2VLBZ7V2Ou3Fx7V2AeN7fixvTSJaf75%2BRUSnz99fMr9fHe3t7K/dlf3Ovf%2B/j4lHhMQkKCOnfufNPjvPXWWzbfv/TSS1q1apW%2B%2B%2B47tW/fvtQ1/RKa03vEZ599pqVLl%2Brjjz9W7dq1JUnx8fH66aefVL16daWmptqMT01NVdmyZSVJVatW1bBhw/TYY49Z9588eVK%2Bt/mjsr%2B//81LCMeO3cGzuQckJ0tJSfauAr8x167ZuwLzXA%2BPLBbnel6SnZeM75KiIud8XnZxF5LTEl9/b0PdunV16dIlXbhwwXo535EjR1S1atUS087CwkJt2bJFs2fPttmelZWl2bNn65lnnlH16tUlSUVFRSosLJSnp%2Bcd1/dzTnYlkPPKzMyUq6urPD09ZbFYtG3bNq1du1YFBQV68skn9a9//Uvbt29XUVGRtm7dqs2bN1uP7d27t%2BbOnasjR45IkrZv367HHntM3zpjmgYAAGwEBgaqadOmmjx5srKyspSSkqI5c%2BaoV69eJY4/ePCgrl69qiZNmthsL1eunL755hu98cYbyszMVHZ2tuLj41WjRg2b61KNIjm9R/zxj3/U999/r8cee0xubm564IEH1L9/fy1btkz16tXTxIkT9eqrr%2BrixYsKCwvTH/7wB5UpU0aSNGDAAFksFkVHRystLU0BAQF65ZVXFBkZaednBQCAk3HQOwBnzJihSZMmKTIyUq6ururZs6eio6MlSaGhoZo4caK6d%2B8uSUpJSVHFihXl4eFx03nmzJmjKVOmqEOHDiooKFB4eLjmzZtn7TnM4GKxONvVQL89x44d07Vr1xQUFGTdFhsbqwceeEAjRoy4uw9%2B/ZZcZxEaKu3eLTVp4lzL%2Bs64XueE15xm5TrPNaeursU3DuXkON%2Byfna2vSswj7u7VLmylJ7ufP9N3HBj%2Bv9Wp07mn3PTJvPP6cAcs73HbTl8%2BLD69%2B%2BvkydPSpJ27dql7du36%2BGHH7ZzZQAAALeHZX0n0LFjRx0%2BfFj9%2BvXT5cuXVb16dcXHx990rQgAALjLHHRZ/15Cc%2BokhgwZoiFDhti7DAAAfttoTg1jBgEAAOAwSE4BAADMQnJqGDMIAAAAh0FyCgAAYBaSU8NoTgEAAMxCc2oYMwgAAACHQXIKAABgFpJTw5hBAAAAOAySUwAAALOQnBpGcwoAAGAWmlPDmEEAAAA4DJJTAAAAs5CcGsYMAgAAwGGQnAIAAJiF5NQwmlMAAACz0JwaxgwCAADAYZCcAgAAmIXk1DBmEAAAAA6D5BQAAMAsJKeG0ZwCAACYhebUMGYQAAAADoPkFAAAwCwkp4YxgwAAAHAYJKcAAABmITk1jOYUAADALDSnhjGDAAAAcBgkpwAAAGYhOTWMGQQAAIDDIDkFAAAwC8mpYTSnAAAAZqE5NYwZBAAAgMMgOQUAADALyalhzCAAAAAcBskpAACAWUhODaM5BQAAMAvNqWHMIAAAABwGySkAAIBZSE4NYwYBAADgMEhOAQAAzEJyahjNKQAAgFloTg1jBgEAAJxcenq6oqOjFRYWpvDwcL3%2B%2BusqLCwsceygQYP00EMPKTQ01Pqxbds2SVJRUZHeeOMNtWzZUqGhoRoyZIjS0tJMrZXmFAAAwCyuruZ/mGD48OHy9vbW9u3btXLlSu3YsUOLFi0qcewPP/ygBQsWKCkpyfrRtm1bSdLcuXP19ddfa9WqVdq%2Bfbs8PT3117/%2B1ZQar6M5BQAAcGInTpxQYmKiXnjhBXl5ealmzZqKjo7WsmXLbhqbkpKiy5cv68EHHyzxXJ988okGDx6s%2B%2B67T%2BXKldP48eO1bds2paSkmFYv15zCmFssCdzzvv3W3hWYy93J/qmHhkq7d0vNmklJSfauxjS5aRZ7l2Aad3fJ21u6etX5/pu4dMneFZjHw0OqXFnKzCz%2Bs3ImAQF2euC7cM1pWlqazp8/b7PNz89P/v7%2BpTr%2B0KFD8vX1VcANkxIUFKTU1FRduXJFFSpUsG7ft2%2BffHx8NGLECO3bt09VqlTRgAED1KtXL2VmZurs2bMKDg62jq9SpYoqVqyogwcPqmbNmgafaTEne8UCAACwo7vQnCYkJGjWrFk222JiYhQbG1uq47Ozs%2BXl5WWz7fr3OTk5Ns1pfn6%2BQkJCNGLECNWtW1e7du1SbGysfHx8FBoaKkny9va2OZenp6eys7Nv%2B3ndCs0pAACAA4uKilJERITNNj8/v1If7%2B3trdzcXJtt17/38fGx2d6zZ0/17NnT%2Bn3r1q3Vs2dPffbZZ2rZsqXNsdfl5eXddB4jaE4BAADMcheSU39//1Iv4Zekbt26unTpki5cuKAqVapIko4cOaKqVauqfPnyNmNXrlwpHx8fde7c2botPz9fHh4eqlixogICAnT48GHr0v758%2Bd16dIlm6V%2Bo7ghCgAAwCwOeLd%2BYGCgmjZtqsmTJysrK0spKSmaM2eOevXqddPYrKwsxcfH68CBA7p27Zr%2B/e9/a8OGDYqKipIkPf7445o7d65SUlKUlZWlyZMnq3nz5qpVq5bhOq8jOQUAAHByM2bM0KRJkxQZGSlXV1f17NlT0dHRkqTQ0FBNnDhR3bt3V//%2B/ZWTk6OYmBilp6erZs2aeuONNxQWFiZJGjp0qAoLC/X0008rOztb4eHheuedd0yt1cVisTjP7aH43ysqsncF5nNzc77n5ax36zdp4lR36593srv1K1WSLl50vrv1MzLsXYF5PDykwEDp%2BHHnu1u/Xj07PfCUKeaf86WXzD%2BnA2NZHwAAAA7DyeIUAAAAO7oLN0T91tCcAgAAmIXm1DBmEAAAAA6D5BQAAMAsJKeGMYMAAABwGCSnAAAAZiE5NYzmFAAAwCw0p4YxgwAAAHAYJKcAAABmITk1jBkEAACAwyA5BQAAMAvJqWE0pwAAAGahOTWMGQQAAIDDIDkFAAAwC8mpYcwgAAAAHAbJKQAAgFlITg2jOQUAADALzalhzCAAAAAcBskpAACAWUhODWMGAQAA4DBITgEAAMxCcmoYzSkAAIBZaE4NYwYBAADgMEhOAQAAzEJyahgzCAAAAIdBcgoAAGAWklPDaE4BAADMQnNqGDMIAAAAh0FyCgAAYBaSU8OYQQAAADgMklMAAACzkJwaRnMKAABgFppTw5hBAAAAOAySUwAAALOQnBrGDAIAAMBhkJwCAACYheTUMJpTAAAAs9CcGsYMAgAAwGGQnAIAAJiF5NQwmlMAAACz0JwaxgwCAADAYZCcAgAAmIXk1DCaUwAAACeXnp6ul19%2BWYmJiXJzc1P37t01duxYubvf3Ap%2B/PHHWrRokdLS0uTv769%2B/frp6aefliRdu3ZNTZs2lcVikYuLi/WYr7/%2BWt7e3qbUSnMKAABgFgdNTocPH66AgABt375dFy5c0JAhQ7Ro0SINGjTIZtznn3%2Bu6dOna968eWrcuLH27Nmj559/XlWqVFGnTp10%2BPBhFRQUaPfu3SpbtuxdqdUxZxAAAOBe5Opq/odBJ06cUGJiol544QV5eXmpZs2aio6O1rJly24ae%2B7cOQ0ePFghISFycXFRaGiowsPD9e2330qS9u3bp3r16t21xlQiOb2lU6dOKTIyUq%2B99prmzp2ry5cvq1GjRpoyZYqqVq2qb775RtOnT9fx48cVEBCgP//5z%2Brevbu%2B/PJLvfjii9qxY4dcXV21a9cu9evXTx988IEefvhhXbt2Ta1bt9Zbb72lP/zhD79YQ0REhGJiYvT4449LkvVcBw8elCTNnDlTK1euVG5urvUvWmRkpCRp//79mjp1qpKTk1WpUiX16dNH/fv3l4uLi2bOnKmkpCRdvnxZKSkpmj17tpo1a/arc5KWlqbz58/bbPOrXFn%2Bfn53MsX4XwoNtXcF5qpf3/azkyhhde2e5eZm%2B9mZeHjYuwLzXO8v7mKfYRdXr9q7AnOV%2BPrr5yd/f/9SHX/o0CH5%2BvoqICDAui0oKEipqam6cuWKKlSoYN1%2Bffn%2BuvT0dH377bd66aWXJBU3p1evXtUTTzyh06dPKygoSKNGjVKTJk3u9OndxIn%2BK7w7/v3vf2vt2rXKz8/Xs88%2Bqzlz5qhPnz4aMmSI3nzzTUVGRmrv3r2Kjo5WpUqV1KpVK%2BXn52vv3r0KDQ3VV199JU9PT33zzTd6%2BOGHtWfPHhUVFal58%2BaG6tq5c6cSEhK0evVq%2Bfn5KSEhQePHj1fbtm2VkZGh/v37a8SIEVq4cKFOnDih6OhoeXp66qmnnpIk7dixQwsXLlSjRo3kUcr/aRMSEjRr1iybbTFDhyp22DBDz8UhOdsr6u7d9q7g7vjoI3tXYKpK9i7gLrjhNc9pVHLCP6hq1exdgbn%2Bk%2BHYx11Y1i/x9TcmRrGxsaU6Pjs7W15eXjbbrn%2Bfk5Nj05ze6Pz58/rzn/%2Bshg0bqmvXrpIkT09PNWrUSHFxcapYsaKWLVum5557TuvWrVPNmjVv96mViOb0VwwePNj6hxYREaGkpCQtX75ckZGReuSRRyRJTZo0Ue/evbVs2TK1adNGbdq00bZt26zN6VNPPaVvvvlGkvTFF18oIiJCbgabHw8PD12%2BfFkrVqxQ%2B/bt9eSTTyoqKkouLi5at26dgoKCrD/91KlTR88995yWLl1qbU5r1qz5q8ntz0VFRSkiIsJmm1/lylJRkaHn4nDc3JzvOZUiGb%2Bn1K9f3JhwHNfgAAAgAElEQVT26SMlJ9u7GtNc3OI8P0S4uRU3pleuON8/p8uX7V2BecqWLW5MU1Ol/Hx7V4NbKfH19zZWLb29vZWbm2uz7fr3Pj4%2BJR6zZ88excXFKSwsTFOmTLHeOPXiiy/ajHvuuee0evVqbd26Vc8880ypa/olNKe/okqVKtav3d3dZbFYdPr0ae3cuVNhYWHWfUVFRapVq5YkqWPHjlq0aJGefvppnTx5UvPnz9eSJUt04cIFbdmyRWPHjjVcV2hoqGbOnKklS5Zo/vz58vT0VN%2B%2BfTVkyBCdPn1a%2B/fvt6nv2rVrNg1xaZcCbuTv73/zcc72quOskpLsXcHdkZzsVM%2BtsNDeFZivqMj5npezLRlLxY2pMz4vu7gLyWmJr7%2B3oW7durp06ZIuXLhg7WuOHDmiqlWrqnz58jeNX7lypV577TUNGzZMAwcOtNn39ttvq1OnTnrwwQet2/Lz80u9ClsaNKd3oGrVqvrjH/%2BoSZMmWbelpaXJYrFIktq1a6dx48Zpw4YNatasmSpXrqyGDRtq%2BfLlOnfunFq2bFmqx3F1dVVBQYH1%2B4sXL1q/Tk1NVeXKlbVgwQLl5%2Bdrx44diomJUYMGDVS1alWFh4drwYIFNsdmZ2dbv7/x7R8AAIBJHPBu/cDAQDVt2lSTJ0/WpEmTdPHiRc2ZM0e9evW6aeymTZv06quvau7cuWrTps1N%2B3/66Sd99913euedd1SxYkV98MEHysrKUseOHU2r1/Fm8B7Qq1cvbdiwQV999ZWuXbum48eP65lnntHChQslSeXLl1fz5s313nvvqXXr1pKkVq1aaf78%2BWrXrl2p73ALCgrSli1blJeXp/Pnz2vx4sXWffv27dOgQYOUnJyssmXLqnLlypKkSpUqqVu3btqzZ4/WrVunwsJCpaWl6S9/%2BYumTp1q8kwAAIB7wYwZM1RYWKjIyEj17t1bbdq0UXR0tKTi1dh169ZJkmbNmqWioiINGzZMoaGh1o9XXnlFkjRlyhTVqlVLPXr0UHh4uBITE/Xhhx/K19fXtFpJTu9A48aNNX36dE2fPl1xcXHy8vJS165dNXLkSOuYDh066KuvvlKrVq0kSa1bt9acOXNu6yeL0aNH69VXX1WrVq3k7%2B%2Bv/v376/vvv5ckderUScePH9eQIUN08eJFVa5cWePGjVPjxo0lSfPnz9e0adP02muvyc3NTe3atdP48eNNnAUAAHATB0xOpeLLFGfMmFHivqQbLo9av379L57H19dXU6ZMMbW2n3OxXF%2BLBu6EM15z6ow3RDnTexRJxW%2BNtXu31KSJU11zej7Nef47dncvvqv94kXnu%2BY0I8PeFZjHw0MKDJSOH3e%2Ba07r1bPTA%2B/YYf45b/MG5nudk71iAQAA2JGDJqf3EppTOxk6dKj17aVKMnHiRHXv3v1/WBEAADCM5tQwmlM7mT17tr1LAAAAcDg0pwAAAGYhOTWMGQQAAIDDIDkFAAAwC8mpYTSnAAAAZqE5NYwZBAAAgMMgOQUAADALyalhzCAAAAAcBskpAACAWUhODaM5BQAAMAvNqWHMIAAAABwGySkAAIBZSE4NYwYBAADgMEhOAQAAzEJyahjNKQAAgFloTg1jBgEAAOAwSE4BAADMQnJqGDMIAAAAh0FyCgAAYBaSU8NoTgEAAMxCc2oYMwgAAACHQXIKAABgFpJTw5hBAAAAOAySUwAAALOQnBpGcwoAAGAWmlPDmEEAAAA4DJJTAAAAs5CcGkZzCgAAYBaaU8OYQQAAADgMklMAAACzkJwaxgwCAADAYZCcAgAAmIXk1DCaUwAAALPQnBrGDAIAAMBhkJwCAACYheTUMGYQAAAADoPkFAAAwCwkp4bRnAIAAJiF5tQwZhAAAAAOg%2BQUAADALCSnhjGDAAAATi49PV3R0dEKCwtTeHi4Xn/9dRUWFpY4duvWrerWrZtCQkLUuXNnffnllzb7582bp7Zt2yokJER9%2B/bV0aNHTa2V5hQAAMAsrq7mf5hg%2BPDh8vb21vbt27Vy5Urt2LFDixYtumnc8ePHFRsbq7i4OH333XeKjY3V8OHDde7cOUnSmjVrtGTJEi1YsEC7du1SgwYNNGzYMFksFlPqlGhOAQAAzOOAzemJEyeUmJioF154QV5eXqpZs6aio6O1bNmym8auWbNGYWFh6tChg9zd3dWlSxc1a9ZMCQkJkqQVK1aoT58%2Bqlu3rjw8PDRq1CilpqZq165dhuu8jmtOYUhWrpu9SzCVq6vk7S3lXHXTtWv2rsY8uWnm/UTrCNzdpUqSLm7ZrVusSt2T/Pxd7F2CeUJDpd27VSmyiZSUZO9qTOX34ov2LsE81apJsbEKXD9TSk21dzXmmjLF3hWYJi0tTefPn7fZ5ufnJ39//1Idf%2BjQIfn6%2BiogIMC6LSgoSKmpqbpy5YoqVKhg3X748GEFBwfbHF%2BnTh0lJydb9w8ePNi6r0yZMgoMDFRycrJatGhx28%2BtJDSnAAAAJrHI/B8yExISNGvWLJttMTExio2NLdXx2dnZ8vLystl2/fucnByb5rSksZ6ensrJySnVfjPQnAIAADiwqKgoRURE2Gzz8/Mr9fHe3t7Kzc212Xb9ex8fH5vtXl5eysvLs9mWl5dnHfdr%2B81AcwoAAGCSu3FJmL%2B/f6mX8EtSt25dXbp0SRcuXFCVKlUkSUeOHFHVqlVVvnx5m7HBwcHav3%2B/zbbDhw%2BrYcOG1nMdOnRI7du3lyQVFBTo%2BPHjN10KYAQ3RAEAAJjk2jXzP4wKDAxU06ZNNXnyZGVlZSklJUVz5sxRr169bhrbvXt3JSYmauPGjSosLNTGjRuVmJioHj16SJKeeOIJLV26VMnJybp69areeustValSRWFhYcYL/Q%2BaUwAAACc3Y8YMFRYWKjIyUr1791abNm0UHR0tSQoNDdW6deskFd8oNXv2bL3//vtq1qyZ5syZo5kzZ%2Br%2B%2B%2B%2BXJPXq1UsDBgzQ0KFD1aJFCx04cEDvv/%2B%2BypQpY1qtLOsDAACYxFHf6aVKlSqaMWNGifuSfvaOGm3atFGbNm1KHOvi4qKBAwdq4MCBptd4HckpAAAAHAbJKQAAgEkcNTm9l9CcAgAAmITm1DiW9QEAAOAwSE4BAABMQnJqHMkpAAAAHAbJKQAAgElITo2jOQUAADAJzalxLOsDAADAYZCcAgAAmITk1DiSUwAAADgMklMAAACTkJwaR3MKAABgEppT41jWBwAAgMMgOQUAADAJyalxJKcAAABwGCSnAAAAJiE5NY7mFAAAwCQ0p8axrA8AAACHQXIKAABgEpJT40hOAQAA4DBITgEAAExCcmoczSkAAIBJaE6NY1kfAAAADoPkFAAAwCQkp8bRnAIAAJiE5tQ4lvUBAADgMEhOAQAATEJyahzJKQAAABwGySkAAIBJSE6NozkFAAAwCc2pcSzrAwAAwGGQnAIAAJiE5NQ4klMAAAA4DJJTAAAAk5CcGkdzCgAAYBKaU%2BNY1gcAAIDDIDkFAAAwCcmpcSSnAAAAcBgkpwAAACYhOTWO5hQAAMAkNKfGsawPAAAAh3FbzenVq1d19uzZUo09fvz4ndSDUkpLS1NOTo69ywAAADe4ds38j9%2Ba22pO%2B/Tpo2%2B%2B%2BeZXxx04cEBdu3Yt9XkjIiK0evXq2ynFabz33nsaNGjQbY27cOGCOnXqpIyMjDt6zFOnTqlevXo6derUHR0PAACcR05Ojl566SWFh4eradOmGjNmjLKzs285ftOmTerRo4eaNGmiiIgIzZo1S9du6KI7d%2B6sxo0bKzQ01Ppx5MiRUtdzW9ecXrx4sVTjMjMzVVBQcDun/s36y1/%2Bctvj8vLySE0BAHBA92LSGR8frzNnzmjTpk0qKirS8OHDNW3aNE2YMOGmsT/88IPGjBmjd955Rw8//LCOHTumwYMHy9vbWwMHDlRWVpaOHTumLVu2qHr16ndUT6mb04EDByo1NVUTJkzQDz/8oC5duujtt9/WwYMHVaFCBXXv3l3R0dE6d%2B6cBg8eLEkKDQ3VwoULVbduXU2dOlWJiYlKS0tT%2BfLl9fTTT5e6MbtRvXr19MILL2jp0qW6fPmymjdvrkmTJikgIEAWi0Xz5s3T%2BvXrdebMGbm4uKht27Z6/fXX5enpqaKiIs2cOVOffPKJLBaLOnbsqIMHD6p37956/PHHlZWVpenTp2vLli3Kz89XixYtNH78eFWpUkWSNHPmTK1cuVK5ubmqWbOmoqOjFRkZ%2BYv1ZmVlqU2bNpo5c6Zat24tSbpy5Ypat26tpUuXauvWrUpMTNSSJUuUlZWll19%2BWd98843c3d1Vv359jRs3TkFBQZo5c6YSExO1aNEiayrdtWtXTZ48WV26dNGnn36q9957T6mpqapdu7ZGjhxpfbysrCzFx8fr888/l7e3t5566qnbnnep%2BFKC8%2BfP22zz8fGTv7//HZ3PEbm4/PezqxNdke3uZLc%2BurnZfnYaoaH2rsA89evbfnYm1arZuwLz%2BPnZfnYWqal2e%2Bi70ZyW9Prr52fO629ubq7Wr1%2BvxYsXy9fXV5I0evRo9evXT2PGjJGXl5fN%2BNOnT%2Bupp55S%2B/btJUlBQUHq2LGjvv32Ww0cOFA//PCDfH1977gxlW6jOV24cKEiIiIUExOjkJAQ9ejRQ6NHj9aHH36oM2fOKDY2VllZWfrrX/%2BqefPmqV%2B/fkpKSpIkvfrqqzp16pRWrlyp8uXLa/PmzRo2bJg6d%2B6s2rVr33bRa9eu1ZIlS%2BTr66sxY8ZoxIgR%2Buijj/TZZ59p8eLFWrp0qQIDA3XkyBH16dNH69ev15NPPqkFCxZo3bp1%2Bvvf/65atWpp5syZSkpKUu/evSVJ48aNU3Z2tlavXi1PT09NnTpVMTEx%2Bvjjj7Vr1y4lJCRo9erV8vPzU0JCgsaPH6%2B2bduqTJkyt6y1XLly6ty5s9asWWNtFjds2KDatWurUaNG2rp1q80cZ2VlaevWrXJ1ddUrr7yiadOmae7cudYxbm5u2rBhgyIjI7VhwwbVqFFDW7du1YQJEzR37lw1adJE27ZtU2xsrFasWKG6detq0qRJOnnypDZv3ixXV1eNGjXqtudckhISEjRr1iybbUOHxmjYsNg7Op8j%2B9m/xXuet7e9K7g7KlSwdwUm273b3hWY76OP7F0BSuMOQwuH9dJL9q7AVCW9/sbExCg2tnSvv3l5eTp37lyJ%2B3Jzc1VQUKDg4GDrtqCgIOXl5en48eP6/e9/bzO%2BU6dO6tSpk825//3vf6tbt26SpH379snLy0vPPPOMDh06pOrVqys2NtbazJbGHeUp69evV7169dS/f39JUu3atTVq1CgNGzZM48aNu2l8bGys3NzcVK5cOZ09e1YeHh6Sin8SuJPmNC4uTjVr1pQkjRkzRo8%2B%2BqhOnTqltm3bqkmTJqpataoyMjJ08eJF%2Bfr6Wv9AVq5cqeeff1516tSRJA0fPlxr1qyRJKWnp2vTpk367LPPVLlyZUnFzWpYWJj2798vDw8PXb58WStWrFD79u315JNPKioqSi7Xo7Zf8OSTT%2BrZZ59VVlaWypUrpzVr1qhXr143jfP09FRycrLWrl2rVq1aafLkyXItRXy3dOlS/elPf1KzZs0kSe3bt1dERISWL1%2BusWPH6rPPPtN7771nfV5jxoxRjx49fvW8PxcVFaWIiAibbT4%2BfnKmKwxcXIob09xcyWKxdzXmuXrV3hWYy82tuDG9ckUqKrJ3NeapFNnE3iWYp3794sa0Tx8pOdne1Zjr2WftXYF5/PyKG9Ply6WfJXO4M3cjOS3p9dfvNtLuvXv3ql%2B/fiXui4uLkyR535BiXE9Lf%2Bm6U6l4ZTYuLk6enp4aMGCAJMnFxUUPPfSQRo4cqWrVqumf//ynYmNjtXTpUoWEhJSq3jtqTtPT063N4XU1atRQXl6e0tPTSxz/%2Buuv68CBA6pRo4YaNmwoSTYXz96OGxvaav9ZXjl//rwqVqyot99%2BW19%2B%2BaV%2B97vf6fe//70KCgpk%2BU%2BXcebMGZuY2c3NzXr86dOnJcmaot445tSpU3r00Uc1c%2BZMLVmyRPPnz5enp6f69u2rIUOG/GoDGRoaqho1amjTpk0KCQlRcnKy5s2bd9O4wYMHq2zZslq5cqUmTZqkmjVratSoUXrkkUd%2B8fynT59WYmKiPv74Y%2Bu2oqIitWjRQhcvXlR%2Bfr7uu%2B8%2B676f/9mVlr%2B//01LCFlZ9%2Bb1Nbdy/Y/SYnGu51VYaO8K7o6iIid7bv9ZbXIqycnO97xuSI2cxvnzdl0Kxy8r6fX3doSHh%2BvgwYMl7jtw4IDeffdd5ebmysfHR1JxmioVr/7eytGjRzVs2DBVrlxZixcvto79%2BU3e3bt314YNG6w9UGncUXNavXp1bd682WbbyZMnVbZsWVWsWPGm8XFxcYqIiNCCBQvk7u6uixcvasWKFXfy0JKkc%2BfOWePn63ecV6tWTdOmTVNqaqq%2B%2BOIL6yRdj5mvj0m94R%2BfxWLRmTNnJEkBAQGSpM8%2B%2B8zmp5HDhw%2BrZs2aSk1NVeXKlbVgwQLl5%2Bdrx44diomJUYMGDdSuXbtfrblXr17asGGDTpw4oQ4dOliv67jRwYMHFRERoQEDBigzM1MfffSRRowYoZ07d/7iuatWraqePXvq%2Beeft25LTU2Vp6enypUrJw8PD6WkpOiBBx6QpFK/HRgAALg991qwcf/996tMmTI6fPiwGjduLEk6cuSIypQpo8DAwBKP2bp1q0aOHKnevXtr1KhRcr/hxoYFCxbowQcf1B/%2B8Afrtvz8fOuqeWnc1i0fZcuWVWZmph577DEdOXJEf//735Wfn6%2BTJ09q%2BvTp6tatm8qWLWstIDMz0/rZ09NTbm5uysjI0GuvvSZJd3xH/%2BzZs3X%2B/HlduXJFb7zxhtq0aaOAgABlZWXJw8NDbm5uunr1qhYuXKiffvrJ%2BjhRUVFauHChjh07pvz8fM2ePVtpaWmSipvTdu3a6fXXX9fFixdVUFCguXPnqlevXrpy5Yr27dunQYMGKTk5WWXLlrUukVeqVKlUNffs2VN79uzR2rVr9eSTT5Y45pNPPtGYMWOUnp6ucuXKqVy5cvL29lbZsmVtxl2f36ysLEnFae/ixYv1f//3f5KKr/d4/PHHtWHDBpUtW1Y9e/bUu%2B%2B%2Bq7NnzyozM1Nvvvnmbc44AAAojXvtfU69vLzUuXNnTZs2TRkZGcrIyNC0adPUtWtXeXp63jR%2Bz549Gjp0qF566SWNHTvWpjGVilepJ06cqJSUFBUWFmrlypVKSkrSH//4x1LXdFvNaa9evfT222/rnXfe0fz587Vp0ya1bNlSffr0UatWrfTKK69IkoKDg9W0aVO1adNGW7du1ZQpU7Rx40Y1adJEjz/%2BuAICAvTggw/qp59%2Bup2Ht2rQoIH69OmjiIgIVahQQdOmTZNUfA1pXl6eWrZsqYiICO3Zs0c9evSwPk7//v0VERGhp556Su3atdOlS5dUtWpV6w1Nf/vb31ShQgX17NlTLVq00NatWzV//nz5%2BfmpU6dOGjhwoIYMGaKQkBDFxcVp3Lhx1p8yfo2vr68iIiLk7u5u89PEjUaOHKnatWvrscceU5MmTbR69WrNmTPnpp82qlSpoo4dOyoqKkoff/yxHn30UY0cOVLjxo1TkyZNFBcXpwEDBqhv376SpPHjx6tRo0bq1q2bHnnkkVLXDAAAnN%2BECRMUGBiobt266dFHH1WNGjWsPZ0kPfbYY3rvvfckFb/vemFhoV5//XWb9zG9vpw/ZswYtW3bVn369FFYWJiWL1%2BuDz744LbuMXKxWO6t2z7q1aunxYsXKzw8/LaP3bt3r6pXr259ayiLxaIWLVpo%2BvTpatWqldml/ib8J7x1Gq6uxXe25%2BTce0szv%2BQ/lw85DXd3qVIl6eJF57rm1M//12%2BwvGeEhha/%2B0CTJs53zemLL9q7AvNUqybFxkozZzrfNadTptjlYTdtMv%2BczniZ8y9xondy/HXr16/XmDFjlJmZqcLCQn344YeSVOoLdAEAAHB3OdRbcz/%2B%2BOM6duzYLfeXdIf77Rg%2BfLgmTZqkjh07Kj8/Xw0aNNCCBQusd6fdiU2bNunFX/gpumnTppo/f/4dnx8AANw7nGnVzV4cqjldvXr1r4651VshlEa5cuX0t7/97Y6PL8nP34wWAAD8dtGcGvebWtYHAACAY3Oo5BQAAOBeRnJqHMkpAAAAHAbJKQAAgElITo2jOQUAADAJzalxLOsDAADAYZCcAgAAmITk1DiSUwAAADgMklMAAACTkJwaR3MKAABgEppT41jWBwAAgMMgOQUAADAJyalxNKcAAAAmoTk1jmV9AAAAOAySUwAAAJOQnBpHcgoAAACHQXIKAABgEpJT42hOAQAATEJzahzL%2BgAAAHAYJKcAAAAmITk1juQUAAAADoPkFAAAwCQkp8bRnAIAAJiE5tQ4lvUBAADgMEhOAQAATEJyahzJKQAAABwGySkAAIBJSE6NozkFAAAwCc2pcSzrAwAAwGGQnAIAAJiE5NQ4klMAAAA4DJJTAAAAk5CcGkdzCgAAYBKaU%2BNY1gcAAIDDIDkFAAAwCcmpcSSnAAAAcBgkpwAAACYhOTWO5hQAAMAkNKfGsawPAAAAh0FzCgAAYJJr18z/uNtycnL00ksvKTw8XE2bNtWYMWOUnZ19y/ETJkxQw4YNFRoaav1ISEiw7p83b57atm2rkJAQ9e3bV0ePHr2temhOAQAAfsPi4%2BN15swZbdq0SZs3b9aZM2c0bdq0W47ft2%2Bf4uPjlZSUZP2IioqSJK1Zs0ZLlizRggULtGvXLjVo0EDDhg2TxWIpdT00pwAAACa515LT3NxcrV%2B/XsOGDZOvr68qV66s0aNHa/Xq1crNzb1pfH5%2Bvn766Sc1bNiwxPOtWLFCffr0Ud26deXh4aFRo0YpNTVVu3btKnVN3BAFAABgkrvRTKalpen8%2BfM22/z8/OTv71%2Bq4/Py8nTu3LkS9%2BXm5qqgoEDBwcHWbUFBQcrLy9Px48f1%2B9//3mZ8cnKyCgsLNWPGDH3//fcqX768nnjiCQ0aNEiurq46fPiwBg8ebB1fpkwZBQYGKjk5WS1atChVvTSnMOQXLkm5J7m7S97eUm6uVFho72rMc%2BmSvSswl4eHVKmSdPmydPWqvasxj9%2BLL9q7BPNUq1b8%2BdlnpU6d7FuL2aZOtXcF5gkNlWJjpQ8/lJKS7F2NuaZMsXcFpklISNCsWbNstsXExCg2NrZUx%2B/du1f9%2BvUrcV9cXJwkydvb27rNy8tLkkq87jQzM1PNmzdX3759NX36dP34448aOnSoXF1dNWjQIGVnZ1uPv87T01M5OTmlqlWiOQUAADDN3UhOo6KiFBERYbPNz8%2Bv1MeHh4fr4MGDJe47cOCA3n33XeXm5srHx0eSrMv55cqVu2l8q1at1KpVK%2Bv3jRo1Uv/%2B/bVx40YNGjRIXl5eysvLszkmLy/Peu7SoDkFAABwYP7%2B/qVewr9d999/v8qUKaPDhw%2BrcePGkqQjR45Yl%2BN/7vPPP9eFCxf01FNPWbfl5%2BfL09NTklS3bl0dOnRI7du3lyQVFBTo%2BPHjNpcN/BpuiAIAADDJvXZDlJeXlzp37qxp06YpIyNDGRkZmjZtmrp27WptOG9ksVg0ZcoU7dixQxaLRUlJSVq8eLH1bv0nnnhCS5cuVXJysq5evaq33npLVapUUVhYWKlrIjkFAAAwyb34G6ImTJigN954Q926dVNBQYEiIyP18ssvW/c/9thj6tatm/7yl7%2BoY8eOeumll/Tqq6/q3LlzqlKlimJjY9WjRw9JUq9evZSZmamhQ4cqIyNDDz30kN5//32VKVOm1PXQnAIAAPyGlStXTvHx8YqPjy9x/6effmrz/VNPPWWzrH8jFxcXDRw4UAMHDrzjemhOAQAATHIvJqeOhmtOAQAA4DBITgEAAExCcmoczSkAAIBJaE6NY1kfAAAADoPkFAAAwCQkp8bRnAIAAJiE5tQ4lvUBAADgMEhOAQAATEJyahzJKQAAABwGySkAAIBJSE6NozkFAAAwCc2pcSzrAwAAwGGQnAIAAJiE5NQ4klMAAAA4DJJTAAAAk5CcGkdzCgAAYBKaU%2BNY1gcAAIDDIDkFAAAwCcmpcSSnAAAAcBgkpwAAACYhOTWO5hQAAMAkNKfGsawPAAAAh0FyCgAAYBKSU%2BNITgEAAOAwSE4BAABMQnJqHM0pAACASWhOjWNZHwAAAA6D5BQAAMAkJKfGkZwCAADAYZCcAgAAmITk1DiaUwAAAJPQnBrHsj4AAAAcBskpAACASUhOjSM5BQAAgMMgOQUAADAJyalxNKcAAAAmoTk1jmV9AAAAOAySUwAAAJOQnBpHcgoAAACHQXIKAABgEpJT42hOAQAATEJzahzL%2BveotLQ05eTk2LsMAAAAU5Gc3oMuXLigTp06af369fL29r7t40%2BdOqXIyEht2bJFNWrUuAsVAgDw23QvJqc5OTmKj4/XF198ocLCQkVGRmrChAny8fG5aewrr7yi9evX22zLy8tTy5YttWDBAl27dk1NmzaVxWKRi4uLdczXX39d6p6F5PQelJeXR2oKAABMER8frzNnzmjTpk3avHmzzpw5o2nTppU4dtKkSUpKSrJ%2BzJw58//bu/u4nu/9j%2BPP6EKHISnluBoHOfzmIsrVlFzt3BQdIocTFqf9RmJjY2PjHHM1m2Pkaubi%2BM2QHVc1HOZqri82irnY2LESkjIptUrf3x%2BsU4m103c%2B328e99vNTb2/37496029vq/35/3%2BqnLlypowYYIk6eLFi8rJydGxY8cK3e%2BXNNMoTovx9ddfKyQkRC1btlTHjh31wQcfyGQy6cSJExo0aJBat24tPz8/zZ07V9nZ2ZKk%2BfPnKyIiQuPGjVPr1q3VqVMnvf/%2B%2B5Kkw4cP67nnntOdO3fyP8e%2Bffvk5XhtnzUAACAASURBVOWl7OxsZWdn64MPPlCXLl3k5eWlv/zlL/r%2B%2B%2B/z79u4cWO988478vb21v/%2B7//K399fkuTv76%2BtW7dKkj777DMFBATI09NTffr00YEDB/I/Pj09XePHj5enp6eef/55bd68%2BVf/HgIA8DTKyzP/n19TZmamoqOjFRERoapVq8rZ2Vnjxo3Thg0blJmZ%2BdiPTU1N1bhx4zRx4kQ1bNhQknT69Gk1btxY9vb2/3UmlvWL%2BOGHHxQaGqqQkBAtW7ZM169fV0hIiGrUqKFp06Zp3LhxWrFiha5du6ZRo0YpPT1dkyZNkiTt2LFDM2fO1KxZs3TgwAG99NJL6tKli9q2basaNWpo27Zt6t%2B/vyRp48aN6tWrl%2Bzt7TVr1iwdOXJEK1eulKurq5YuXarQ0FBt3bpVDg4OkqT4%2BHjt3btXOTk5SktLU5cuXRQTE6NatWpp3759mjx5shYtWqRWrVrpiy%2B%2B0KhRoxQVFaWGDRvqb3/7m%2BLj47Vjxw6VK1dOY8eO/a%2B%2BNzdu3FBycnKhsfLlXeTi4lqK77hlKV%2B%2B8N9lxYN/RmXGTz/zSvGzzzLVrGl0AvNxcSn8d1nSsqXRCczHw6Pw32XFyZOGfepfo5gs7vevi4uLXF1L9vs3KytLSUlJxd6WmZmpnJwcNWrUKH%2BsQYMGysrK0uXLl9WkSZNHPu57772nZs2aqVevXvljp0%2Bf1o8//qi%2BffsqMTFRDRo00NixY9WqVasSZZUoTh%2ByZ88eOTg4aOTIkbKxsVGdOnW0YsUKLV26VI0bN9aQIUMkSXXr1tXYsWMVERGhN998U5JUr149BQYGSpJ8fHzk4uKiy5cvq0WLFgoKCtKmTZvUv39/paWlaffu3YqKipLJZNLatWs1b9481a5dW5I0cuRIRUVFae/everRo4ek%2B11SR0dHOTo6Ki0trVDmjz/%2BWH/605/Upk0bSVLnzp3l5%2BentWvXavz48dq2bZsWL14sZ2dnSdLrr7%2Bu3r17/%2BLvzbp16xQZGVlobOTIcEVEjPrFj2XpqlY1OoF5PZj6Mqcs1XKSpFFl7/%2BSBgwwOoH5lcV5%2BuQToxOYV4FrHcuC4n7/hoeHa1QJ/y3GxsZq8ODBxd42evRoSSq07O7o6ChJysjIeORjJiQkaMuWLVq/fn2h8QoVKui5557T6NGjVaVKFa1evVrDhg3Tli1b8uucn0NxWkRycrLc3d0LXcRbv3592dnZPfRNrVWrlrKyspSSkiLp/rOYguzs7JT34ClUnz59NH/%2BfCUkJGj//v1q2LChPDw8lJKSort372r06NEqV%2B4/V1nk5OQoMTEx//3HPTtKTEzUsWPHtGbNmvyxe/fuqW3btrp165ays7Pl7u6ef1tJ/3EUFRwcLD8/v0Jj5cu76MGXXyaUL3%2B/MP3hB%2BnePaPTmE%2BBK0rKBHv7%2B4Xp1avSgytryoR60fONjmA%2BLi73C9O1a6UiHR%2Brt2KF0QnMx8PjfmE6cKB0/rzRacqEX6NzWtzv36I1x%2BN4e3vrwoULxd529uxZffDBB8rMzMzfAPXTcn6lSpUe%2BZj//Oc/1bJly4c6qz9de/qTYcOGacOGDdq3b5/%2B/Oc/lygvxWkRbm5uunbtWqFdZp9//rlq1Kihr7/%2ButB94%2BPjZW9vrypVqvzs47q4uKhTp06KiYnRvn37FBQUJElycnKSg4ODli9frhYtWuTf/7vvvlONGjXy37d5zLNANzc3BQYGKiwsLH/s6tWrqlChgipVqiQHBwclJCSofv36kqTr16%2BX4DvxMFdX14eK5KQkKTf3v3o4i3bvXtn6un780egEv47s7DL2tV29anQC80tOLntfl4FLxr%2Ba8%2BfL5tdVRhT3%2B9dcnn32WdnZ2enixYtq3ry5JOnSpUuys7NTvXr1HvlxO3bsUGho6EPjf//739WjRw/9/ve/zx/Lzs7Ov0yxJNgQVYSvr69yc3O1ePFiZWdnKz4%2BXtOnT1f16tV16dIl/eMf/8gfnzNnjgICAkp80W///v0VFRWlCxcuKCAgQJJUrlw5BQUF6f3339f169eVl5enjRs3yt/fv9CmqIJ%2BmuD09PT8x121apXi4uIk3b/eo0%2BfPoqJiZG9vb0CAwP1wQcf6Pr167pz545mz55d2m8TAAAohrVtiHJ0dNQf/vAHvffee0pNTVVqaqree%2B89%2Bfv7q0KFCsV%2BzK1bt3Tp0qX8ywkL%2BuabbzRt2jQlJycrOztbkZGRSk9PV7du3UqcieK0iMqVK2vZsmU6fPiwOnbsqJCQEA0YMEDBwcH66KOP9K9//Uvt27fXwIED1aFDB7399tslfuznn39eeXl56t69e6FW%2Bfjx49W8eXMNHDhQrVu31sqVKzVv3rxCzzoKql69urp166bg4GCtWbNGL7zwgl599VW9%2BeabatWqlUaPHq2hQ4cqJCREkjRx4kQ999xzCggIUPfu3fOfGQEAAPOytuJUkiZPnqx69eopICBAL7zwgmrVqlWovunZs6cWL16c//6VK1ckqdAK709mzJihOnXqqHfv3vL29taxY8e0YsUKVf0FmzlsTCaTqRRfD55yj9j8Z7Vsbe9vHkpJKVvL%2Bj/8YHQC83JwkOrVky5fLlvL%2Bo1XvmF0BPOpWfP%2BxqH588vesv7MmUYnMJ%2BWLaWvvpJatSp7y/oGlTcdOpj/MQ8eNP9jWjKuOQUAADATa3yFKEtDcQoAAGAmFKelxzWnAAAAsBh0TgEAAMyEzmnp0TkFAACAxaBzCgAAYCZ0TkuP4hQAAMBMKE5Lj2V9AAAAWAw6pwAAAGZC57T06JwCAADAYtA5BQAAMBM6p6VHcQoAAGAmFKelx7I%2BAAAALAadUwAAADOhc1p6dE4BAABgMeicAgAAmAmd09KjOAUAADATitPSY1kfAAAAFoPOKQAAgJnQOS09OqcAAACwGHROAQAAzITOaelRnAIAAJgJxWnpsawPAAAAi0HnFAAAwEzonJYenVMAAABYDDqnAAAAZkLntPQoTgEAAMyE4rT0WNYHAACAxaBzCgAAYCZ0TkuPzikAAAAsBp1TAAAAM6FzWnoUpwAAAGZCcVp6LOsDAADAYtA5BQAAMBM6p6VH5xQAAAAWg84pAACAmdA5LT2KUwAAADOhOC09lvUBAABgMeicAgAAmAmd09KjcwoAAACLQecUAADATOiclh7FKQAAgJlQnJYey/oAAACwGBSnAAAAZpKXZ/4/T0pmZqaCg4O1YcOGx94vNjZW/fr1U8uWLeXn56f169cXun3jxo3q1q2bWrRooT59%2BujkyZO/KAfFKQAAgJlYa3H67bffatCgQTp16tRj73f79m2FhYUpMDBQx48f17Rp0zRjxgzFxcVJko4ePaqpU6dq5syZOn78uHr16qWXX35ZmZmZJc5CcQoAAPAUO3z4sIYMGaI//vGPqlmz5mPvu2PHDlWtWlWDBg2Sra2t2rVrp4CAAK1evVqStH79evXs2VOenp6ys7PT0KFD5eTkpK1bt5Y4DxuiAAAAzOTX6HTeuHFDycnJhcZcXFzk6upaoo/PyspSUlJSsbe5uLjIw8NDe/bskYODg1asWPHYx/r222/VqFGjQmO/%2B93v9Omnn0qSLl68qL59%2Bz50%2B/nz50uUVaI4RSnVqGF0AvO6ceOG5s9fp%2BDgYNWoUbL/9NagLM9TvXplZ540Y4bRCczmxo0bWjd/voKDg0v8C9RqlMV52r697M2TQUwm8z/m/PnrFBkZWWgsPDxco0aNKtHHx8bGavDgwcXetmDBAnXt2rXEWTIyMuTo6FhorEKFCrp7926Jbi8JilOggOTkZEVGRsrPz48f1BaMebJ8zJF1YJ6sQ3BwsPz8/AqNubi4lPjjvb29deHCBbNkcXR01J07dwqNZWVlqWLFivm3Z2VlPXS7k5NTiT8HxSkAAIAFc3V1tZgnD40aNdLBgwcLjV28eFENGzaUJDVs2FDffvvtQ7d36tSpxJ%2BDDVEAAAAokW7duunmzZtauXKlcnJydOTIEUVHR%2BdfZxoUFKTo6GgdOXJEOTk5WrlypVJSUtStW7cSfw6KUwAAADxSz549tXjxYkmSk5OTli9fru3bt8vb21uTJk3SpEmT1LZtW0lSu3btNHnyZE2ZMkVeXl767LPPtHTpUlWtWrXEn8/GZPo1Lt0FrNONGze0bt26srmJowxhniwfc2QdmCdYIopTAAAAWAyW9QEAAGAxKE4BAABgMShOAQAAYDEoTgEAAGAxKE4BAABgMShOAQAAYDEoTgEAAGAxKE4BAABgMShOAQAAYDEoTgEAAGAxKE4BWIUTJ04oLy/P6BgAgF%2BZjclkMhkdAjBSamqqtmzZosTERI0ePVrHjx9X586djY6FIry9vbV37145OjoaHQVFXL169WfvU7NmzSeQBI/DPMFa2BodADDS119/rRdffFH169fXhQsXNHjwYI0ePVqTJ09W3759jY6HAmrXrq3Tp0/Ly8vL6Cgows/PTzY2NoXGTCZTobFz58496VgognmCtaA4xVNtxowZmjBhgvr06aM2bdqodu3aWrBggWbMmEFxamGqVKmiF198UbVq1ZKrq2uhX6irVq0yMBl27dolSdq8ebO%2B/PJLvfbaa6pTp46uXbum9957Ty1atDA4ISTmCdaDZX081by8vHT48GGVL19eXl5eOnbsmCTJ09NTX375pcHpUFBkZOQjbwsPD3%2BCSfAoPj4%2B2rJli6pUqZI/dufOHb3wwgs6ePCggclQEPMES0fnFE%2B1atWq6bvvvlPDhg3zx7777jtVr17dwFQoDgWo5cvIyHho09rdu3eVk5NjUCIUh3mCpWO3Pp5qAwcO1EsvvaSoqCjl5uZq69atGj16tIKDg42OhmJERUUpICBA3t7eunr1qiIiIpSRkWF0LDzQpUsXjRgxQocPH9bly5e1f/9%2BjRw5Uv7%2B/kZHQwHMEywdy/p46q1evVqffPKJEhMTVaNGDQUHB2vo0KEqV47nbpZk5cqVWrNmjYYNG6Z3331Xu3btUlhYmBo2bKh33nnH6HjQ/Y7cX//6V23fvl3Z2dlycHBQ7969NWnSJNnb2xsdDw8wT7B0FKcArEKPHj20cOFCNWjQIP/64Bs3buiPf/wj18lZmOzsbP3www9ycnKSnZ2d0XHwCMwTLBXXnOKp9sYbbxQ7bmdnp2rVqsnX15cdrBbi1q1bevbZZyXdP/5GkpydnZWbm2tkLBRx6dIlrVmzRtevX9fUqVP12Wef6c9//rPRsVAE8wRLxrolnmp2dnaKjo5WZmamqlevruzsbMXExCgpKUnfffedXnzxRW3dutXomJDk4eGhdevWSVL%2BMVJbt24ttJkNxjp48KD69eunW7du6dChQ8rKytKCBQv04YcfGh0NBTBPsHgm4Ck2fPhw086dOwuN7d271/TSSy%2BZTCaT6ciRIyZ/f38joqGIM2fOmFq3bm0KDg42NW3a1DR8%2BHBT69atTadOnTI6Gh7o06ePae/evSaTyWRq3bq1yWQymeLi4kx%2Bfn5GxkIRzBMsHZ1TPNViY2Pl5%2BdXaOz555/XiRMnJN1/yczExEQjoqGIpk2bKiYmRl27dlW/fv3UunVrbd68Wc2bNzc6Gh74/vvv1alTJ0n/6W7/z//8j27fvm1kLBTBPMHSUZziqVatWjXt37%2B/0Njhw4dVtWpVSVJCQkKhg6phrOrVq2v48OF6%2B%2B235eHhoZs3bxodCQXUrFlTX331VaGx06dPy93d3aBEKA7zBEtXfsqUKVOMDgEYxcnJSa%2B%2B%2BqouXbqks2fP6tNPP9X8%2BfM1fvx42dvbKyQkRAMHDlTr1q2NjvrU2717t0JCQjRs2DAtWrRIU6dO1caNG%2BXs7KymTZsaHQ%2BSKleurNdee03p6ek6efKkypcvrxkzZmjkyJHy8PAwOh4eYJ5g6ThKCk%2B9U6dO6Z///KeuX7%2BumjVrqn///mrcuLGuXLmiixcvqmvXrkZHhKR%2B/fqpX79%2BCgoKUocOHTRz5kw5OzvrlVde0c6dO42Ohwf27dun1atXKzExUW5uburfv7969OhhdCwUwTzBklGc4qkWHx%2BvBQsWKCkpKf/l/HJycvTvf/9bR44cMTgdCvL29tbRo0d19uxZDRo0SMePH5etra1atmypkydPGh0PkrZt26Y//OEPD42vW7eOV12zIMwTLB3nnOKpNnHiRJlMJjk5OSk1NVVNmjTRpk2bNHToUKOjoQhHR0elpKRo9%2B7d8vT0lK2trc6fPy8nJyejoz3VMjMzdevWLUnSm2%2B%2BqRYtWqhgz%2BPOnTuaOXMmRY/BmCdYE4pTPNXOnDmjvXv36urVq5o7d64mTZqkTp06acmSJQoPDzc6Hgro27evAgMDlZaWpnnz5unMmTMaPny4QkNDjY72VEtPT1fPnj2VlZUlSfLz85PJZJKNjU3%2B31waY7yC82QymZgnWDSW9fFUa9%2B%2BvQ4dOqSMjAz5%2B/trz549kqR27drp8OHDBqdDUUeOHFGFChXUokULXbt2TadPn1b37t2NjvXUS0lJUWZmpgICAhQTE1PoNgcHB1WvXt2gZCiIeYK1oHOKp1qdOnW0b98%2B%2Bfj4KC8vTwkJCbK3t%2BclMS1U27Zt8992d3fn6BsL4ezsLEn68ssvVa4cJxRaqp/mydvbW1WqVFGlSpUMTgQUj%2BIUT7WwsDBFREQoJiZGwcHBGjBggMqXL68uXboYHQ1FeHh45B8YXtS5c%2BeecBoUFBYWpg8//FBDhgx55BytWrXqCafCo5w6dUr29vZGxwAeieIUTzU/Pz/t2LFDzs7OGjFihOrVq6f09HQFBgYaHQ1FFC1uUlNT9X//93/q3bu3QYnwE09PT0mSl5fXI4tTWA5/f39FREQoICBALi4uheasTZs2BiYD7uOaUwBWKzk5WUOHDtVnn31mdBQUIz09Xfb29nTpLMyjDtq3sbFhFQIWgc4pAKtVuXJlJSUlGR0DD1y6dElz5szRggULtHPnTr3yyiuqWLGiFi5cmN9dhfHOnz9vdATgsShOAViFTZs2FXo/JydHu3btUpMmTQxKhKKmT58uV1dXmUwmzZkzRxEREapYsaJmzpyp9evXGx0PBWRnZ2vfvn1KTExUcHCwvv/%2Be166FBaDZX0AVsHPz6/Q%2B%2BXLl1eDBg00btw4/e53vzMoFQrq2LGj9uzZo6SkJPXo0UNHjx5VxYoV5enpqa%2B%2B%2BsroeHggPj5eoaGhysnJUVpamjZs2CB/f39FRkaqc%2BfORscD6JwCsA67d%2B/%2B2fvExMTI39//CaRBcXJzc2UymXTw4EE1bdpUlSpVUmpqqhwcHIyOhgKmTZumPn366OWXX5aXl5eeffZZvfPOO5o3bx7FKSwCB9IBKDPefvttoyM81dq3b69Ro0Zp4cKF8vf3V0JCgkaOHClfX1%2Bjo6GAU6dOafjw4bKxscnfqd%2B7d28lJCQYnAy4j%2BIUQJnBVUrGmjp1qpo1a6ZBgwZp8ODBysjIUNOmTfXWW28ZHQ0FPPPMM7p582ahseTkZFWpUsWgREBhLOsDKDM4Y9NYFStW1KhRo/Lf9/Dw0KRJkwxMhOIEBAQoPDxcY8eOVV5enuLi4jR79mz17NnT6GiAJIpTAEAp/fQKUSEhIbxClBUYMWKEsrKyFB4erszMTA0ePFhBQUEKDw83OhogieIUAFBKP51h6u3tbXASlNT48eM1fvx4paamysnJiVUHWBSOkgJQZrRq1Yojiwx05swZNWvWzOgY%2BBne3t7q3bu3goKC1KhRI6PjAA9hQxSAMoPn2sYaNGiQevfurY8//lhpaWlGx8EjvPvuu0pOTla/fv3Ur18/rVu3ThkZGUbHAvLROQVgFY4ePSovL6/HLj%2BGh4crMjLyCaZCQXfu3FF0dLQ2bdqkCxcuqGvXrgoKClK7du2MjoZipKWlKSYmRlu2bNE333yjHj16aMaMGUbHAihOAViHDh06KC8vT35%2Bfurevbvat28vOzs7o2PhES5duqQtW7Zo8%2BbNsrOz086dO42OhGJcuXJFMTExioqKkslk0p49e4yOBLAhCoB1OHDggE6ePKk9e/Zo1qxZunHjhnx8fNSjRw91797d6Hgo4O7du4qLi9Pp06d1%2B/bth156FsZKT0/Xtm3btGnTJsXFxcnHx0eTJ0/W888/b3Q0QBKdUwBWKCUlRWvWrNGyZcuUlZWlc%2BfOGR0Jkg4dOqSNGzfq888/V61atRQUFKTAwEAOd7cwzZs3l5ubm/r27as%2BffqoevXqRkcCCqE4BWAV9u/fr0OHDunQoUO6dOmSmjVrpvbt26tjx45q1aqV0fEgqWXLlurZs6eCgoLUokULo%2BPgEY4cOaK2bdsaHQN4JIpTAFbBw8NDjo6OGjBggP7yl7%2BoWrVqRkdCERkZGapYseJj7/PTgf0wVlxcnP79738/dMJFYGCgQYmA/6A4BWAVjh49qoMHD%2BrAgQNKSEhQmzZt1KFDB3Xs2FF169Y1Oh5KiLNojTdnzhwtXbpULi4usrX9z9YTGxsb7dq1y8BkwH0UpwCsTkpKimJiYrR48WL98MMPXHNqRShOjefj46O//e1v8vHxMToKUCx26wOwGrGxsfriiy/0xRdf6MKFC2rTpo26detmdCzAqty9e1edOnUyOgbwSBSnAKyCt7e3cnNz1bFjRw0ZMkS%2Bvr6qVKmS0bEAq%2BPr66vo6Gj16tXL6ChAsShOAViFWbNmqX379rK3tzc6CmDVfvzxR02YMEGLFy9%2B6BipVatWGZQK%2BA%2BKUwBWwdfXVwcPHtTHH3%2BspKQkLVmyRMuXL9fYsWMLbeoA8HiNGjVSo0aNjI4BPBI/0QFYhejoaE2fPl39%2B/fXsWPHJEm7d%2B%2BWjY2NXn/9dYPToaTYg2u88PDw/LdTUlJUpUoVnuDBopQzOgAAlMSHH36oRYsW6ZVXXlG5cuXk4uKiJUuWKCYmxuhoKODevXv5b%2B/bt09xcXGFbp81a9aTjoQicnJyNH36dLVs2VIdO3aUp6en3nrrLWVnZxsdDZBEcQrASly/fl3NmzeXdP88RkmqW7eu7t69a2QsFLB79%2B7812dfuHChRo0apZCQEEVFReXfp3v37kbFwwMLFy7U0aNHNXfuXMXExGju3LmKjY3V3LlzjY4GSKI4BWAl6tWr99AB4YcOHeIAfguyaNEijRkzRnl5efr44481f/58rV69WkuXLjU6GgqIjo5WZGSkfHx81KBBA3Xu3FmRkZGKjo42OhogiWtOAViJV155RSNGjFCXLl2UlZWlKVOmKDo6WnPmzDE6Gh6Ij49X//79dfbsWWVmZqpDhw6ytbXVzZs3jY6GAm7fvi13d/dCY%2B7u7srKyjIoEVAYnVMAVqF9%2B/Zau3atKleurLZt2yovL08rVqzgVW4siKOjo1JSUrR79255enrK1tZW58%2Bfl5OTk9HRUEDjxo21du3aQmNr165lBz8sBi9fCsAqJCUladGiRbp8%2BbLu3buXf92pxNmMlmL%2B/PmKiopSWlqa5s2bJ2dnZw0fPlyhoaEKCwszOh4eOHHihEJDQ%2BXh4aHatWsrPj5eFy9e1LJly9SqVSuj4wEUpwCsQ2hoqG7evKnOnTvLzs6u0G0Fj8aBsY4ePSoHBwe1aNFC165d0%2BnTp9kEZYHWrVun2NhY2drays3NTS4uLurXr5/RsQBJFKcArESbNm30r3/9S9WqVTM6Cn7G2bNndeXKFfn6%2BurOnTtydnY2OhIKmDdvnjZu3KgVK1bkbzScPn26/vSnP2n48OFGxwO45hSAdXjmmWd46VILl5KSogEDBqh///4aP368EhIS1LVrV508edLoaCjg008/1apVq1SvXj1JUpcuXbRixQqtXr3a2GDAAxSnAKzCiBEj9MYbbyguLk5Xr14t9AeWYfr06WrUqJGOHz8uW1tbNWjQQGFhYXr33XeNjoYC0tPTi92tz5nBsBQs6wOwCh4eHvlv/7QZymQyycbGRufOnTMqFgro0KGDPv/8czk6OsrLy0vHjh1TTk6O2rdvr%2BPHjxsdDw%2BEhISoXbt2GjFiRP7YkiVLdOjQIf3jH/8wMBlwH%2BecArAKRQ/gh%2BWxs7NTVlaWHB0d9VPfIyMjQxUrVjQ4GQqaMGGCQkNDFRUVJTc3N12/fl25ubn66KOPjI4GSKI4BWAlfvvb3xodAT/Dz89Pr732miZNmiQbGxulpKTonXfe4SxaC9O0aVPt2LFDe/bs0Y0bN%2BTu7i5fX18988wzRkcDJLGsDwAwk4yMDL3xxhvasWOHpPuXX/j4%2BGj27NkUPgBKjOIUAGBWqampunLlitzc3OTq6mp0HABWhuIUAGAWmzZtKnbczs5O1apVU4sWLeTo6PiEUwGwNlxzCgAwi3Xr1unUqVNydnbWb3/7W127dk3Jyclyc3NTZmambGxstHz5cjVp0sToqAAsGJ1TAIBZTJkyRZUrV9aYMWNUrtz9Y7QjIyN1%2B/ZtTZw4UcuXL9fevXu1atUqg5MCsGQUpwAAs%2BjYsaP27NkjOzu7/LGcnBx17txZBw4cUG5urtq2basTJ04YmBKApeMVogAAZpOQkFDo/cTEROXm5kqSsrKyChWuAFAcrjkFAJhFUFCQwsLC9NJLL6lmzZq6evWqli1bpj59%2BiglJUWvv/46Z54C%2BFkUpwAAs4iIiNBvfvMbffTRR7p27Zpq1qyp4OBgDRkyRGfOnFH9%2BvU1ZswYo2MCsHBccwoAAACLQecUAGAW2dnZio6OVlJSkvLy8iTd3xD1zTffaNGiRQanA2AtKE4BAGbx5ptvav/%2B/XJyclJOTo5%2B85vf6Ntvv1VgYKDR0QBYEYpTAIBZ7N%2B/X2vWrFFqaqrWrFmj999/X8uXL1dcXJzR0QBYEY6SAgCYRV5enurXr6/69evr3LlzkqRBgwZxrimAX4TiFABgFm5ubkpISFC1atWUkpKiu3fvymQyKSMjw%2BhoAKwIy/oABqUPowAABNRJREFUALMICAjQwIED9emnn8rX11cvv/yyHBwc1KxZM6OjAbAiHCUFADCbbdu2ycfHR3l5eZo9e7bS09M1ZswY1a5d2%2BhoAKwExSkAwKyuXr2q5ORkubu7y9XV1eg4AKwMy/oAALO4ceOGXn311fwNUDY2NurUqZNmz56typUrG5wOgLVgQxQAwCzefvttVa5cWdu3b1dcXJxiYmIkSdOmTTM4GQBrwrI%2BAMAsPD09tW/fPlWqVCl/LC0tTV27dtWxY8cMTAbAmtA5BQCYReXKlZWWllZoLDs7W1WrVjUoEQBrROcUAGAWy5Yt06ZNmzRmzBjVrVtXSUlJioyMVNOmTdWjR4/8%2B7Vp08bAlAAsHcUpAMAsPDw8fvY%2BNjY2%2Ba8eBQDFYbc%2BAMAszp8//7P34aVMAfwcOqcAgCemVatW%2Buqrr4yOAcCCsSEKAPDE0A8B8HMoTgEAT4yNjY3REQBYOIpTAAAAWAyKUwAAAFgMilMAAABYDIpTAAAAWAyKUwDAE1OvXj2jIwCwcJxzCgAolU2bNv3sfQIDA59AEgBlAcUpAKBU/Pz8Hnu7jY2Ndu3a9YTSALB2FKcAAACwGLZGBwAAlB0JCQlKSkrKfyWonJwcffPNNxo6dKixwQBYDTqnAACzWLJkif7%2B97/nvwqUyWSSjY2NmjRpog0bNhicDoC1oHMKADCLTz75RPPmzZO9vb12796tV199VVOnTpW7u7vR0QBYEY6SAgCYRVpamrp37y4PDw%2BdOXNGVatW1cSJE7V161ajowGwIhSnAACzcHV1VXp6umrUqKErV67IZDKpWrVqun37ttHRAFgRlvUBAGbRpk0bRUREaO7cufr973%2BvOXPmyMHBQTVq1DA6GgArQucUAGAWEyZMUN26dZWbm6uJEydq165dioqK0sSJE42OBsCKsFsfAGAWsbGxat68%2BUPjX3zxhTp16mRAIgDWiM4pAMAsXnzxxYfG0tPTNXr0aAPSALBWXHMKAPivff/99%2BrZs6fu3bsnk8mkJk2aPHSfVq1aGZAMgLViWR8AUCrnzp1TWlqawsLCtHTp0vzD9yXJwcFBjRo1kqOjo8EpAVgLilMAgFkkJCSodu3akqSUlBRVqVJFtrYs0AH4ZShOAQBmkZOTo9mzZ2v9%2BvXKysqSvb29evXqpbfeekv29vZGxwNgJdgQBQAwi4ULF%2Bro0aOaO3euYmJiNHfuXMXGxmru3LlGRwNgReicAgDMomvXrlqxYkX%2B0r4kxcfHa9CgQdq/f7%2BByQBYEzqnAACzuH37ttzd3QuNubu7Kysry6BEAKwRxSkAwCwaN26stWvXFhpbu3atGjVqZFAiANaIZX0AgFmcOHFCoaGh8vDwUO3atRUfH6%2BLFy9q2bJlnHUKoMTonAIAzGL79u3avHmzOnbsqIoVK6pbt26KiYl5qJsKAI/DAXQAgP9aUlKSDh8%2BLElav369mjVrpjp16qhOnTqSpN27d2vnzp1GRgRgZVjWBwD817KzszVw4EClpqbq2rVrD22IcnBwUFBQkIYNG2ZQQgDWhuIUAGAWw4YN07Jly4yOAcDKUZwCAADAYrAhCgAAABaD4hQAAAAWg%2BIUAAAAFoPiFAAAABaD4hQAAAAWg%2BIUAAAAFoPiFAAAABbj/wHC9neKN/982gAAAABJRU5ErkJggg%3D%3D\" class=\"center-img\">\n",
       "    <img src=\"data:image/png;base64,iVBORw0KGgoAAAANSUhEUgAAAqcAAAJbCAYAAADZtT1mAAAABHNCSVQICAgIfAhkiAAAAAlwSFlzAAAPYQAAD2EBqD%2BnaQAAADl0RVh0U29mdHdhcmUAbWF0cGxvdGxpYiB2ZXJzaW9uIDMuMC4zLCBodHRwOi8vbWF0cGxvdGxpYi5vcmcvnQurowAAIABJREFUeJzs3Xd4VGX6xvE7vVGCIQnSjAYCUoSEUJQiBBBRmhqJghQVdAkJQVEQ7CBtjahUlSJS1CDFFYTFRRFwRaJSfgiGHlowCaGl1/n9kc0sI0EDc9iZjN/PdeXCnDnnzHNeJPPkfs8742QymUwCAAAA7ICzrQsAAAAAytCcAgAAwG7QnAIAAMBu0JwCAADAbtCcAgAAwG7QnAIAAMBu0JwCAADAbtCcAgAAwG7QnAIAAMBuuNq6AAC4VklJSVq5cqW2b9%2Bu1NRU5efn66abblLDhg3VuXNnRUZGytPT09ZlAgCugxMfXwqgMpk5c6bmzZunkpISValSRfXr15ebm5vS09OVkpIiSbr55ps1Z84cNW3a1MbVAgCuFc0pgEpj1apVmjBhgry9vTV16lR1795dLi4u5sePHDmiCRMmaPfu3apRo4bWr1%2Bvm266yYYVAwCuFfecAqg03nvvPUnS2LFjde%2B991o0ppIUHBysefPmyc/PT%2BfPn9eSJUtsUSYAwAo0pwAqhUuXLunEiROSpBYtWlx1v5tuukndunWTJP3f//3f/6Q2AIBxWBAFoFJwdf3vj6vNmzerSZMmV903NjZWgwcPlp%2Bfn3nbCy%2B8oDVr1mj8%2BPHq2LGj3n77bf34448qKCjQLbfcogceeECPPPKIPDw8yj3njz/%2BqKVLl2rnzp26cOGCqlWrppYtW2rQoEG68847yz3m0qVL%2BvTTT7VlyxYdPnxYWVlZ8vLyUv369dWlSxcNHjxY1atXtzimUaNGkqR///vfmjZtmr7%2B%2Bms5OzuradOmWrRokV566SWtWbNGb7zxhlq3bq1Zs2bphx9%2BUGZmpurWrauHH35YQ4cOlZOTk7766it99NFH%2BvXXX1VSUqLGjRtrxIgRuvvuu6%2BoNS8vT6tWrdKmTZt04MABXbp0Se7u7qpdu7Y6dOigxx9/XIGBgRbHRERE6PTp01q/fr0yMjK0YMEC7dmzRzk5Oapbt6569uypJ598Uj4%2BPlf9uwKA3%2BOeUwCVxqOPPqqdO3fKyclJffv2VWRkpMLCwq6Y3i9PWXP64IMPauPGjcrJyVHDhg1VVFSko0ePSpJatWql999/X1WrVrU4Nj4%2BXvPnz5ckVa9eXXXr1lVaWprS09MlScOGDdPzzz9vcUxycrKGDh2qM2fOyNXVVfXr15eXl5dOnz6tCxcuSJJuvfVWrVq1yqJ5K2tOw8LCtGvXLoWEhOjcuXNq27at3nrrLYvr2LBhg4qKihQcHKyMjAxzPU899ZScnJz0/vvvq1q1aqpXr56OHTumnJwcOTk56YMPPlCnTp3Mz3nu3DkNGTJEBw8elJOTk%2BrXr6%2BqVasqNTXVfE4/Pz%2BtXr1atWrVMh9X1pw%2B/vjjWrx4sdzd3RUUFKSLFy/qt99%2BkySFhoZq%2BfLlFfo7AgBJkgkAKol9%2B/aZWrZsaQoJCTF/hYWFmYYPH256//33Tbt37zYVFxeXe%2By4cePMx3Tp0sW0f/9%2B82M7d%2B403XXXXaaQkBDTyy%2B/bHHcJ598YgoJCTGFh4eb/vGPf5i3l5SUmL788ktzPStWrLA47rHHHjOFhISY%2Bvfvb0pNTbU4bs2aNabGjRubQkJCTMuWLbM4rqzGZs2amRITE00mk8lUXFxsOn/%2B/BXX8eijj5rS0tLM%2B7zwwgumkJAQU%2BPGjU2NGjUyLVy40Dwe586dM/Xr188UEhJieuyxx8odm%2B7du5uOHTtm8djWrVtNLVq0MIWEhJimTZtm8ViXLl3MtbzwwgumS5cuma9x2bJl5sf%2B9a9/lft3AgDl4Z5TAJVGkyZN9Nlnn6lVq1bmbVlZWdqyZYveeust9e/fXx06dNDbb7%2Bt3Nzccs/h7OysuXPn6vbbbzdvCw0N1fTp0yVJn332mVJTUyVJBQUFmjVrliRpypQp6tOnj/kYJycn3XfffebEdNasWSoqKpIkZWRk6NChQ5KkSZMmKSAgwOK4fv36qU2bNpKkAwcOlFtnz5491bp1a3PNvr6%2BFo%2B7urpqxowZ8vf3N%2B/z1FNPSZJKSkrUt29fPfHEE3J2Lv0xX6NGDQ0ePFiStH//fvN5ioqK9NNPP8nJyUnjx49XUFCQxfN07NhR9913nyTp4MGD5dbauHFjTZkyxZw4Ozk5aeDAgeYU%2BOeffy73OAAoD80pgEqlQYMG%2Bvjjj/X5558rJiZGoaGhcnNzMz%2BekZGh9957T3369DFPLV%2BuXbt2aty48RXbO3TooLp166qkpESbN2%2BWJO3atUtnz56Vj4%2BPunbtWm49ffr0kbOzs1JTU81Nn5%2Bfn3744Qft2bNHISEhVxxTXFysKlWqSCq917M8lzfg5WnUqJHFFLsk1alTx/zf5d1XWtYkZ2Vlmbe5urpq06ZN2rNnjzp37nzFMSaTSd7e3n9Ya%2BfOneXk5HTF9ttuu02SlJmZ%2BYfXAgCXY0EUgErp9ttv1%2B23367Y2Fjl5uZq586d%2Bu677/SPf/xDGRkZOnHihOLi4pSQkGBx3B133HHVczZq1EinTp1ScnKyJJnTz8LCQg0cOPCqx7m4uKikpERHjx61OL%2Bnp6fOnDmjPXv26MSJEzp58qSOHDmiX3/9VTk5OZJKU87ylCWiV3PzzTdfsc3d3d383zVq1Lji8csXlf2eh4eHMjIytHv3biUnJ%2BvUqVM6evSofv31V128ePEPa708Gb5c2ad0FRcXX/1CAOB3aE4BVHpeXl5q37692rdvr7i4OE2YMEFffvmldu/erX379ll8UtTvV8dfriwhvHTpkqT/Jn4FBQXauXPnn9ZRdpwkHT16VH//%2B9%2B1ZcsWi6auSpUqCg8PV1pampKSkq56rj/7%2BFUvL68/fLxsOr8i0tPTNX36dP3zn/9UYWGhxXM0b95cxcXFfzg1f3lTXB4T624BXAOaUwCVwiuvvKIffvhBDzzwgEaMGHHV/Tw9PTVx4kR99dVXKiws1LFjxyya07LEsjxl091lb0FV1gA2bdpUq1evrnCtGRkZeuyxx5SRkaHatWurf//%2BatKkiW677TbVrVtXTk5OGjNmzB82p/8r%2Bfn5GjJkiI4cOSJfX189%2BuijatasmYKDg1W/fn25uLjo7bff5r5RAP8zNKcAKoX8/HwdP35cmzZt%2BsPmVCpNJ318fHThwoUrPr60bKq%2BPGXNYoMGDSSVvtWTVPq2UEVFReVOi5tMJu3YsUO1atVS7dq15e7urlWrVikjI0O%2Bvr5atWpVuR%2BhWrboytY2bdqkI0eOyNXVVQkJCVcsiJJU7r27AHCjsCAKQKVQtlL%2Bl19%2B%2BdMU87vvvtOFCxfk6%2Bt7xadJbd261fzenZfbvHmzzpw5I3d3d0VEREiSWrdurapVqyo7O/uqz7l27VoNGTJEPXv2NDdxp06dkiTVrl273Mb08OHD2r17tyTb349ZVquPj0%2B5jenZs2f17bffSrJ9rQD%2BGmhOAVQK7du3V48ePSRJL730kiZPnmxurMrk5%2Bdr1apVGj16tCQpLi7uik8nysnJUXR0tM6cOWPetmPHDo0fP15S6RvYl70lkre3t/ntmSZPnqxVq1ZZ3D%2B6adMmvfrqq5JK3/qpfv36kv67Sj0pKUkbN240728ymbR161YNGzbMfG/n1d7y6n%2BlrNaLFy/qo48%2Bsrg/dPfu3Xr88cfNHxpg61oB/DUwrQ%2Bg0oiPj5e3t7c%2B//xzLVmyREuWLFHt2rXl5%2Ben/Px8JScnq6CgQG5ubhozZowGDBhwxTmCgoL066%2B/qlu3bgoJCVFOTo55dX6vXr309NNPW%2Bw/fPhwnTx5UitWrNCECRP05ptvqm7dukpNTVVaWpqk0k9zeuONN8zHREZG6uOPP9bx48c1atQo1alTRzVq1NCZM2eUkZEhNzc3tWnTRomJiTaf3o%2BIiFBoaKh27dqlKVOmaP78%2BQoMDFR6erpSU1Pl5OSku%2B66S99//73S0tJkMpnKfdsoADAKzSmASsPd3V3Tpk3TwIEDtX79eu3YsUOpqalKSkqSl5eXbr31VnXo0EGRkZHmRPD3mjdvrvj4eM2cOVM///yzXF1d1aZNGz366KPmN5u/nJOTkyZNmqQePXro008/1e7du/Xrr7/Kw8NDLVu2VK9evRQVFWWxYr1KlSpauXKl5s%2Bfr82bN%2BvUqVM6e/asatWqpc6dO2vIkCHy9vZWt27dlJSUpJSUFNWuXfuGjdsfcXFx0eLFi7V06VJ9%2BeWXOnnypA4ePCh/f3/dd999GjhwoJo2baq2bdvqwoUL2rlz55%2B%2BBysAWMPJxHt8APgLKPtM%2Bt69eys%2BPt7W5QAAroJ7TgEAAGA3aE4BAABgN2hOAQAAYDdoTgEAAP4izp07p%2B7du2vHjh1X3WfLli3q3bu3WrZsqZ49e2rz5s0Wj8%2BfP1%2BdOnVSy5YtNWjQIB09etTQGmlOAfwlTJs2TQcOHGAxFIC/rJ9//llRUVE6ceLEVfdJTk5WbGys4uLi9NNPPyk2NlajR482v%2B3dmjVrtHTpUi1cuFA7duxQ06ZNNWrUKBm5vp7mFAAAwMGtWbNGzz33nJ555pk/3S88PFzdunWTq6ur7rvvPrVu3VoJCQmSpBUrVmjAgAFq2LChPDw8NGbMGKWkpPxhEnutaE4BAADsWFpamvbt22fxVfYhIBXVoUMH/etf/yr3/Zwvd/jwYYWEhFhsa9CggZKSksp93M3NTUFBQebHjcCb8MM6jvZJMbfeKh06JDVsKB07ZutqjFNUZOsKjOfsLF32UaKOIL/IxdYlGMrdXSoosHUVxvvPp7k6BBcXyc9PysiQiottXY2xAgNt9MQ34HUxYeZMzZ4922JbTEyMYmNjK3wOf3//Cu2XnZ0tLy8vi22enp7Kycmp0ONGoDkFLufrW/rT2tfX1pXgzzjaL0YOxsnpv1981Iv9uvzvCfYrKipKERERFtsq2mxeKy8vL%2BXl5Vlsy8vLk4%2BPT4UeNwLNKQAAgFGcjb9jMiAgQAEBAYaftzwhISHat2%2BfxbbDhw%2BrWbNmkqSGDRvq0KFD6tKliySpsLBQycnJV9wKYA3uOQUAAIAkqU%2BfPkpMTNT69etVVFSk9evXKzExUX379pUkPfTQQ1q2bJmSkpKUn5%2Bvt956SzVr1lR4eLhhNZCcAgAAGOUGJKc3WmhoqF5//XX16dNHwcHBmjNnjuLj4/Xiiy%2BqTp06mjVrlm699VZJUmRkpDIzMzVy5EidO3dOzZs31/vvvy83NzfD6nEyGfnGVPjrcbQblUJDpZ07pbAwadcuW1djHEdcEOXi4nArOBxpQZST038XRDnaq4wjLYhydf3vgihH%2BzFhswVRHh7GnzM/3/hz2rHK194DAADAYTGtDwAAYJRKOK1vbxhBAAAA2A2SUwAAAKOQnFqN5hQAAMAoNKdWYwQBAABgN0hOAQAAjEJyajVGEAAAAHaD5BQAAMAoJKdWozkFAAAwCs2p1RhBAAAA2A2SUwAAAKOQnFqN5hQAAMAoNKdWYwQBAABgN0hOAQAAjEJyajVGEAAAAHaD5BQAAMAoJKdWozkFAAAwCs2p1RhBAAAA2A2SUwAAAKOQnFqNEQQAAIDdIDkFAAAwCsmp1WhOAQAAjEJzajVGEAAAAHaD5BQAAMAoJKdWYwQBAABgN0hOAQAAjEJyajWaUwAAAKPQnFqNEQQAAIDdIDkFAAAwCsmp1RhBAAAA2A2SUwAAAKOQnFqN5hQAAMAoNKdWYwQBAABgN0hOAQAAjEJyajVGEAAAAHaD5BQAAMAoJKdWozkFAAAwCs2p1RhBAAAA2A2SUwAAAKOQnFqNEQQAAIDdIDkFAAAwCsmp1WhOAQAAjEJzajWaUwAAAAeXkZGhl19%2BWYmJiXJxcVGfPn00btw4ubpatoLDhg3Tzz//bLEtJydHUVFRmjhxos6ePav27dvL29vb/HiNGjX0zTffGFYrzSkAAIBR7DQ5HT16tAIDA7Vt2zadPXtWI0aM0OLFizVs2DCL/RYsWGDx/cqVKzV79mzFxMRIkvbu3as6deoY2oz%2BHs1pJfLNN9/ogw8%2B0PHjx5WTk6PmzZvrjTfeUFBQkL788kvNnDlTGRkZatGihWrXrq3CwkJNmzZNJpNJS5cu1fLly5WRkaGQkBBNmDBBzZo1s/UlAQCAG%2Bz48eNKTEzU1q1b5eXlpXr16ik6OlpvvvnmFc3p5Y4ePapJkyZp4cKFCggIkFTanN7o/oHmtJL47bffFBcXp3fffVcRERE6f/68YmJiNGfOHA0YMEDjxo3TzJkz1alTJ23evFmjR49W7969JUkff/yxPvzwQ82bN0/BwcH6xz/%2Boccff1wbNmxQzZo1K1xDWlqa0tPTLbb533qrAnx9Db1Wm2rc2PJP4H/IycnWFRin7Foc6ZrKuDrQK6eLi%2BWfjqKoyIZPfgOS03Jff/39zQ3jnzl06JB8fX0VGBho3hYcHKyUlBRdunRJ1apVK/e4119/Xf369VN4eLh52969e3Xx4kX16tVLZ8%2BeVfPmzTVu3Dg1aNDgOq6sfA70T8yx3XTTTfryyy9Vv359ZWVl6bffflONGjWUmpqqVatW6Z577lFERIQkqXv37urWrZv52OXLl%2Bvpp59W4/80XJGRkVq5cqW%2B%2BOILPfHEExWuISEhQbNnz7bYFhMXp9i4OAOu0M58/LGtK0BFONgrqrtjXY4kyc3N1hUYz8/P1hUYz5EyBklKTbXhk9%2BA5rTc19%2BYGMXGxlbo%2BOzsbHl5eVlsK/s%2BJyen3Ob0p59%2B0p49exQfH2%2BxvVq1amrQoIGGDx8ud3d3vfvuu3r88ce1fv16Va1a9Vou66poTisJNzc3rVu3Tp9%2B%2BqmcnJwUEhKirKwsubq66syZM2rSpInF/vXq1dPZs2clSadPn9b06dMt/gcrKiq65lg%2BKirK3ACX8e/dW/roo%2Bu8KjvUuHFpYzpggJSUZOtqjPPjj7auwHguLlJxsa2rMFRBseN0p05OpY1pYaFkMtm6GmNlZtq6AuO4uJQ2phcuONw/J4dS7uuvv3%2BFj/f29lZubq7FtrLvfXx8yj0mISFBPXv2vOJ53nrrLYvvx48fr1WrVumnn35Sly5dKlzTH6E5rSQ2bNigZcuW6ZNPPtEtt9wiSZo0aZIOHjyoOnXqKCUlxWL/lJQUubu7S5Jq1aqlUaNG6f777zc/fuLECfle46/KAQEBV04hHDt2HVdTCSQlSbt22boK/MU4WhMnlV6To12XTaeMb5DiYse8Lpu4Aclpua%2B/16Bhw4a6cOGCzp49a76d78iRI6pVq1a5aWdRUZG%2B/vprzZkzx2J7VlaW5syZo8cee0x16tSRJBUXF6uoqEienp7XXd/v2eeSMlwhMzNTzs7O8vT0lMlk0tatW/X555%2BrsLBQDz/8sP71r39p27ZtKi4u1pYtW/TVV1%2BZj%2B3fv7/mzZunI0eOSJK2bdum%2B%2B%2B/Xz86YpoGAAAsBAUFqVWrVpoyZYqysrJ08uRJzZ07V5GRkeXuf%2BDAAeXn5yssLMxie5UqVfT9999r%2BvTpyszMVHZ2tiZNmqS6deta3JdqLZLTSuKBBx7Qzz//rPvvv18uLi667bbbNGTIEC1fvlyNGjXS66%2B/rtdee03nz59XeHi47rzzTrn952avoUOHymQyKTo6WmlpaQoMDNQrr7yirl272viqAABwMHb6VlIzZ87UxIkT1bVrVzk7O6tfv36Kjo6WJIWGhur1119Xnz59JEknT55U9erV5eHhccV55s6dq6lTp6pbt24qLCxU27ZtNX/%2BfHPPYQQnk8nRJlz%2Beo4dO6aSkhIFBwebt8XGxuq2227TM888c2Of3NGW4oaGSjt3SmFhjjWt74jzdQ54z2l%2BkWPdc%2BruLhUUON60/oULtq7AOK6upQu8MjIc78fEZQvT/7d69DD%2BnBs3Gn9OO2af7T2uyeHDhzVkyBCdOHFCkrRjxw5t27ZNd999t40rAwAAuDZM6zuA7t276/Dhwxo8eLAuXryoOnXqaNKkSVfcKwIAAG4wO53Wr0xoTh3EiBEjNGLECFuXAQDAXxvNqdUYQQAAANgNklMAAACjkJxajREEAACA3SA5BQAAMArJqdVoTgEAAIxCc2o1RhAAAAB2g%2BQUAADAKCSnVmMEAQAAYDdITgEAAIxCcmo1mlMAAACj0JxajREEAACA3SA5BQAAMArJqdUYQQAAANgNklMAAACjkJxajeYUAADAKDSnVmMEAQAAYDdITgEAAIxCcmo1RhAAAAB2g%2BQUAADAKCSnVqM5BQAAMArNqdUYQQAAANgNklMAAACjkJxajREEAACA3SA5BQAAMArJqdVoTgEAAIxCc2o1RhAAAAB2g%2BQUAADAKCSnVmMEAQAAYDdITgEAAIxCcmo1mlMAAACj0JxajREEAACA3SA5BQAAMArJqdUYQQAAANgNklMAAACjkJxajeYUAADAKDSnVmMEAQAAYDdITgEAAIxCcmo1RhAAAAB2g%2BQUAADAKCSnVqM5BQAAMArNqdUYQQAAAAeXkZGh6OhohYeHq23btpo8ebKKiorK3XfYsGFq3ry5QkNDzV9bt26VJBUXF2v69Om66667FBoaqhEjRigtLc3QWmlOAQAAjOLsbPyXAUaPHi1vb29t27ZNK1eu1Pbt27V48eJy9/3ll1%2B0cOFC7dq1y/zVqVMnSdK8efP073//W6tWrdK2bdvk6empl156yZAay9CcAgAAOLDjx48rMTFRzz//vLy8vFSvXj1FR0dr%2BfLlV%2Bx78uRJXbx4UU2aNCn3XJ999pmGDx%2Bum2%2B%2BWVWqVNGLL76orVu36uTJk4bVyz2nsM5VpgQqvR9/tHUFxnJ1sH/qoaHSzp1S69bSrl22rsYwBZdMti7BMM7Okru7VFgolZTYuhpjXbhg6wqM4%2BEh%2BflJmZlSfr6tqzFWYKCNnvgG3HOalpam9PR0i23%2B/v4KCAio0PGHDh2Sr6%2BvAi8blODgYKWkpOjSpUuqVq2aefvevXvl4%2BOjZ555Rnv37lXNmjU1dOhQRUZGKjMzU7/99ptCQkLM%2B9esWVPVq1fXgQMHVK9ePSuvtJSDvWIBAADY0A1oThMSEjR79myLbTExMYqNja3Q8dnZ2fLy8rLYVvZ9Tk6ORXNaUFCgli1b6plnnlHDhg21Y8cOxcbGysfHR6GhoZIkb29vi3N5enoqOzv7mq/ramhOAQAA7FhUVJQiIiIstvn7%2B1f4eG9vb%2BXm5lpsK/vex8fHYnu/fv3Ur18/8/cdOnRQv379tGHDBt11110Wx5bJy8u74jzWoDkFAAAwyg1ITgMCAio8hV%2Behg0b6sKFCzp79qxq1qwpSTpy5Ihq1aqlqlWrWuy7cuVK%2Bfj4qGfPnuZtBQUF8vDwUPXq1RUYGKjDhw%2Bbp/bT09N14cIFi6l%2Ba7EgCgAAwCh2uFo/KChIrVq10pQpU5SVlaWTJ09q7ty5ioyMvGLfrKwsTZo0Sfv371dJSYm%2B/fZbrVu3TlFRUZKkBx98UPPmzdPJkyeVlZWlKVOmqE2bNqpfv77VdZYhOQUAAHBwM2fO1MSJE9W1a1c5OzurX79%2Bio6OliSFhobq9ddfV58%2BfTRkyBDl5OQoJiZGGRkZqlevnqZPn67w8HBJ0siRI1VUVKSBAwcqOztbbdu21TvvvGNorU4mk8lxlofif6%2B42NYVGM/FxfGuy1FX64eFOdRq/UwHW63v4yNlZzveav2UFFtXYBwPDykoSEpOdrzV%2Bo0a2eiJp041/pzjxxt/TjvGtD4AAADshoPFKQAAADZ0AxZE/dXQnAIAABiF5tRqjCAAAADsBskpAACAUUhOrcYIAgAAwG6QnAIAABiF5NRqNKcAAABGoTm1GiMIAAAAu0FyCgAAYBSSU6sxggAAALAbJKcAAABGITm1Gs0pAACAUWhOrcYIAgAAwG6QnAIAABiF5NRqjCAAAADsBskpAACAUUhOrUZzCgAAYBSaU6sxggAAALAbJKcAAABGITm1GiMIAAAAu0FyCgAAYBSSU6vRnAIAABiF5tRqjCAAAADsBskpAACAUUhOrcYIAgAAwG6QnAIAABiF5NRqNKcAAABGoTm1GiMIAAAAu0FyCgAAYBSSU6sxggAAALAbJKcAAABGITm1Gs0pAACAUWhOrcYIAgAAwG6QnAIAABiF5NRqjCAAAADsBskpAACAUUhOrUZzCgAAYBSaU6sxggAAALAbJKcAAABGITm1Gs0pAACAUWhOrcYIAgAAwG6QnAIAABiF5NRqNKcAAAAOLiMjQy%2B//LISExPl4uKiPn36aNy4cXJ1vbIV/OSTT7R48WKlpaUpICBAgwcP1sCBAyVJJSUlatWqlUwmk5ycnMzH/Pvf/5a3t7chtdKcAgAAGMVOk9PRo0crMDBQ27Zt09mzZzVixAgtXrxYw4YNs9hv06ZNmjFjhubPn68WLVpo9%2B7deuqpp1SzZk316NFDhw8fVmFhoXbu3Cl3d/cbUqt9jiAAAEBl5Oxs/JeVjh8/rsTERD3//PPy8vJSvXr1FB0dreXLl1%2Bxb2pqqoYPH66WLVvKyclJoaGhatu2rX788UdJ0t69e9WoUaMb1phKJKdXderUKXXt2lVvvPGG5s2bp4sXL%2BqOO%2B7Q1KlTVatWLX3//feaMWOGkpOTFRgYqKefflp9%2BvTR5s2b9cILL2j79u1ydnbWjh07NHjwYH3wwQe6%2B%2B67VVJSog4dOuitt97SnXfe%2BYc1REREKCYmRg8%2B%2BKAkmc914MABSdKsWbO0cuVK5ebmmv9H69q1qyRp3759mjZtmpKSklSjRg0NGDBAQ4YMkZOTk2bNmqVdu3bp4sWLOnnypObMmaPWrVv/6ZikpaUpPT3dYpu/n58C/P2vZ4jxvxQaausKjNW4seWfDsJOA5frUnYtjnRNZTw8bF2Bccr6ixvYZ9hEfr6tKzBWua%2B//v4KCAio0PGHDh2Sr6%2BvAgMDzduCg4OVkpKiS5cuqVo0vxzqAAAgAElEQVS1aubtZdP3ZTIyMvTjjz9q/Pjxkkqb0/z8fD300EM6ffq0goODNWbMGIWFhV3v5V2B5vRPfPvtt/r8889VUFCgxx9/XHPnztWAAQM0YsQIvfnmm%2Bratav27Nmj6Oho1ahRQ%2B3bt1dBQYH27Nmj0NBQfffdd/L09NT333%2Bvu%2B%2B%2BW7t371ZxcbHatGljVV0//PCDEhIStHr1avn7%2ByshIUEvvviiOnXqpHPnzmnIkCF65plntGjRIh0/flzR0dHy9PTUI488Iknavn27Fi1apDvuuEMeFfxJm5CQoNmzZ1tsixk5UrGjRll1LXbJxcXWFRhr505bV3BjfPyxrSswlI%2BtC7gBvLxsXYHxfBzwL6p2bVtXYKz/ZDi2cQN%2BIyv39TcmRrGxsRU6Pjs7W16/%2B8dY9n1OTo5Fc3q59PR0Pf3002rWrJl69eolSfL09NQdd9yhuLg4Va9eXcuXL9eTTz6pL774QvXq1bvWSysXzemfGD58uPkvLSIiQrt27dKnn36qrl276p577pEkhYWFqX///lq%2BfLk6duyojh07auvWrebm9JFHHtH3338vSfrmm28UEREhFyubHw8PD128eFErVqxQly5d9PDDDysqKkpOTk764osvFBwcbP7tp0GDBnryySe1bNkyc3Nar169P01ufy8qKkoREREW2/z9/KTiYquuxe64uDjeNVUgGa9UGjcubUwHDJCSkmxdjWGytznOLxHOzqWNaW6uVFJi62qM9bsAq1Jzdy9tTFNSpIICW1eDqyn39fcaZi29vb2Vm5trsa3se5%2Br/La1e/duxcXFKTw8XFOnTjUvnHrhhRcs9nvyySe1evVqbdmyRY899liFa/ojNKd/ombNmub/dnV1lclk0unTp/XDDz8oPDzc/FhxcbHq168vSerevbsWL16sgQMH6sSJE1qwYIGWLl2qs2fP6uuvv9a4ceOsris0NFSzZs3S0qVLtWDBAnl6emrQoEEaMWKETp8%2BrX379lnUV1JSYtEQV3Qq4HIBAQFXHudoTZyj2rXL1hXcGElJDnVtjtbESaXX5GjX5WhTxlJpY%2BqI12UTNyA5Lff19xo0bNhQFy5c0NmzZ819zZEjR1SrVi1VrVr1iv1XrlypN954Q6NGjdITTzxh8djbb7%2BtHj16qEmTJuZtBQUFFZ6FrQia0%2BtQq1YtPfDAA5o4caJ5W1pamkwmkySpc%2BfOmjBhgtatW6fWrVvLz89PzZo106effqrU1FTdddddFXoeZ2dnFRYWmr8/f/68%2Bb9TUlLk5%2BenhQsXqqCgQNu3b1dMTIyaNm2qWrVqqW3btlq4cKHFsdnZ2ebvL3/7BwAAYBA7vNE6KChIrVq10pQpUzRx4kSdP39ec%2BfOVWRk5BX7bty4Ua%2B99prmzZunjh07XvH4wYMH9dNPP%2Bmdd95R9erV9cEHHygrK0vdu3c3rF77G8FKIDIyUuvWrdN3332nkpISJScn67HHHtOiRYskSVWrVlWbNm303nvvqUOHDpKk9u3ba8GCBercuXOFV7gFBwfr66%2B/Vl5entLT07VkyRLzY3v37tWwYcOUlJQkd3d3%2Bfn5SZJq1Kih3r17a/fu3friiy9UVFSktLQ0/e1vf9O0adMMHgkAAFAZzJw5U0VFReratav69%2B%2Bvjh07Kjo6WlLpbOwXX3whSZo9e7aKi4s1atQohYaGmr9eeeUVSdLUqVNVv3599e3bV23btlViYqI%2B/PBD%2Bfr6GlYryel1aNGihWbMmKEZM2YoLi5OXl5e6tWrl5599lnzPt26ddN3332n9u3bS5I6dOiguXPnXtNvFs8995xee%2B01tW/fXgEBARoyZIh%2B/vlnSVKPHj2UnJysESNG6Pz58/Lz89OECRPUokULSdKCBQsUHx%2BvN954Qy4uLurcubNefPFFA0cBAABcwQ6TU6n0NsWZM2eW%2B9iuy26PWrt27R%2Bex9fXV1OnTjW0tt9zMpXNRQPXwxHvOXXEBVHlfAJIpRYaWvoOBGFhDnXPaeYlx/lx7Oxcuqo9O9vx7jlNSbF1Bcbx8JCCgqTkZMe757RRIxs98fbtxp/zGhcwV3YO9ooFAABgQ3aanFYmNKc2MnLkSPPbS5Xn9ddfV58%2Bff6HFQEAAKvRnFqN5tRG5syZY%2BsSAAAA7A7NKQAAgFFITq3GCAIAAMBukJwCAAAYheTUajSnAAAARqE5tRojCAAAALtBcgoAAGAUklOrMYIAAACwGySnAAAARiE5tRrNKQAAgFFoTq3GCAIAAMBukJwCAAAYheTUaowgAAAA7AbJKQAAgFFITq1GcwoAAGAUmlOrMYIAAACwGySnAAAARiE5tRojCAAAALtBcgoAAGAUklOr0ZwCAAAYhebUaowgAAAA7AbJKQAAgFFITq3GCAIAAMBukJwCAAAYheTUajSnAAAARqE5tRojCAAAALtBcgoAAGAUklOr0ZwCAAAYhebUaowgAAAA7AbJKQAAgFFITq3GCAIAAMBukJwCAAAYheTUajSnAAAARqE5tRojCAAAALtBcgoAAGAUklOrMYIAAACwGySnAAAARiE5tRrNKQAAgFFoTq3GCAIAAMBukJwCAAAYheTUaowgAACAg8vIyFB0dLTCw8PVtm1bTZ48WUVFReXuu2XLFvXu3VstW7ZUz549tXnzZovH58%2Bfr06dOqlly5YaNGiQjh49amitNKcAAABGcXY2/ssAo0ePlre3t7Zt26aVK1dq%2B/btWrx48RX7JScnKzY2VnFxcfrpp58UGxur0aNHKzU1VZK0Zs0aLV26VAsXLtSOHTvUtGlTjRo1SiaTyZA6JZpTAAAA49hhc3r8%2BHElJibq%2Beefl5eXl%2BrVq6fo6GgtX778in3XrFmj8PBwdevWTa6urrrvvvvUunVrJSQkSJJWrFihAQMGqGHDhvLw8NCYMWOUkpKiHTt2WF1nGe45hVXyi1xsXYKhnJwkdxepoNhFBv4SaHMFlxzoYlT6s9pHUva2nSopsXU1xqlazcnWJRgnNFTauVM%2BHcOkXbtsXY2hGq1da%2BsSjFOtmhTUSUEntkqXLtm6GmM16mXrCgyTlpam9PR0i23%2B/v4KCAio0PGHDh2Sr6%2BvAgMDzduCg4OVkpKiS5cuqVq1aubthw8fVkhIiMXxDRo0UFJSkvnx4cOHmx9zc3NTUFCQkpKS1K5du2u%2BtvLQnAIAABjEJON/yUxISNDs2bMttsXExCg2NrZCx2dnZ8vLy8tiW9n3OTk5Fs1peft6enoqJyenQo8bgeYUAADAjkVFRSkiIsJim7%2B/f4WP9/b2Vm5ursW2su99fHwstnt5eSkvL89iW15ennm/P3vcCDSnAAAABrkRtxoFBARUeAq/PA0bNtSFCxd09uxZ1axZU5J05MgR1apVS1WrVrXYNyQkRPv27bPYdvjwYTVr1sx8rkOHDqlLly6SpMLCQiUnJ19xK4A1WBAFAABgkJIS47%2BsFRQUpFatWmnKlCnKysrSyZMnNXfuXEVGRl6xb58%2BfZSYmKj169erqKhI69evV2Jiovr27StJeuihh7Rs2TIlJSUpPz9fb731lmrWrKnw8HDrC/0PmlMAAAAHN3PmTBUVFalr167q37%2B/OnbsqOjoaElSaGiovvjiC0mlC6XmzJmj999/X61bt9bcuXM1a9Ys3XrrrZKkyMhIDR06VCNHjlS7du20f/9%2Bvf/%2B%2B3JzczOsVieTkW9Mhb%2Bc/HxbV2AsJyfJ3V0qKJBjrdYvsHUFxnJ2lnx8pOzsGzOFZiuOuFpfYY63Wl%2BOtlq/UydpqwOu1u9lm9X6N%2BJ10cPD%2BHPaM5JTAAAA2A0WRAEAABjEkWZzbIXmFAAAwCA0p9ZjWh8AAAB2g%2BQUAADAICSn1iM5BQAAgN0gOQUAADAIyan1aE4BAAAMQnNqPab1AQAAYDdITgEAAAxCcmo9klMAAADYDZJTAAAAg5CcWo/mFAAAwCA0p9ZjWh8AAAB2g%2BQUAADAICSn1iM5BQAAgN0gOQUAADAIyan1aE4BAAAMQnNqPab1AQAAYDdITgEAAAxCcmo9klMAAADYDZJTAAAAg5CcWo/mFAAAwCA0p9ZjWh8AAAB2g%2BQUAADAICSn1qM5BQAAMAjNqfWY1gcAAIDdIDkFAAAwCMmp9UhOAQAAYDdITgEAAAxCcmo9mlMAAACD0Jxaj2l9AAAA2A2SUwAAAIOQnFqP5BQAAAB2g%2BQUAADAICSn1qM5BQAAMAjNqfWY1gcAAIDdIDkFAAAwCMmp9UhOAQAAYDdITgEAAAxCcmo9mlMAAACD0Jxaj2l9AAAA2I1rak7z8/P122%2B/VWjf5OTk66kHFZSWlqacnBxblwEAAC5TUmL811/NNTWnAwYM0Pfff/%2Bn%2B%2B3fv1%2B9evWq8HkjIiK0evXqaynFYbz33nsaNmzYNe139uxZ9ejRQ%2BfOnbuu5zx16pQaNWqkU6dOXdfxAADAceTk5Gj8%2BPFq27atWrVqpbFjxyo7O/uq%2B2/cuFF9%2B/ZVWFiYIiIiNHv2bJVc1kX37NlTLVq0UGhoqPnryJEjFa7nmu45PX/%2BfIX2y8zMVGFh4bWc%2Bi/rb3/72zXvl5eXR2oKAIAdqoxJ56RJk3TmzBlt3LhRxcXFGj16tOLj4/Xqq69ese8vv/yisWPH6p133tHdd9%2BtY8eOafjw4fL29tYTTzyhrKwsHTt2TF9//bXq1KlzXfVUuDl94oknlJKSoldffVW//PKL7rvvPr399ts6cOCAqlWrpj59%2Big6OlqpqakaPny4JCk0NFSLFi1Sw4YNNW3aNCUmJiotLU1Vq1bVwIEDK9yYXa5Ro0Z6/vnntWzZMl28eFFt2rTRxIkTFRgYKJPJpPnz52vt2rU6c%2BaMnJyc1KlTJ02ePFmenp4qLi7WrFmz9Nlnn8lkMql79%2B46cOCA%2BvfvrwcffFBZWVmaMWOGvv76axUUFKhdu3Z68cUXVbNmTUnSrFmztHLlSuXm5qpevXqKjo5W165d/7DerKwsdezYUbNmzVKHDh0kSZcuXVKHDh20bNkybdmyRYmJiVq6dKmysrL08ssv6/vvv5erq6saN26sCRMmKDg4WLNmzVJiYqIWL15sTqV79eqlKVOm6L777tOXX36p9957TykpKbrlllv07LPPmp8vKytLkyZN0qZNm%2BTt7a1HHnnkmsddKr2VID093WJb9er%2BCggIuK7z2SMnJ8s/HYWzg91dXnY9jnZdCg21dQXGadzY8k9HUq2arSswTpUqln86ikuXbPbUN6I5Le/119/fmNff3NxcrV27VkuWLJGvr68k6bnnntPgwYM1duxYeXl5Wex/%2BvRpPfLII%2BrSpYskKTg4WN27d9ePP/6oJ554Qr/88ot8fX2vuzGVrqE5XbRokSIiIhQTE6OWLVuqb9%2B%2Beu655/Thhx/qzJkzio2NVVZWll566SXNnz9fgwcP1q5duyRJr732mk6dOqWVK1eqatWq%2BuqrrzRq1Cj17NlTt9xyyzUX/fnnn2vp0qXy9fXV2LFj9cwzz%2Bjjjz/Whg0btGTJEi1btkxBQUE6cuSIBgwYoLVr1%2Brhhx/WwoUL9cUXX%2Bijjz5S/fr1NWvWLO3atUv9%2B/eXJE2YMEHZ2dlavXq1PD09NW3aNMXExOiTTz7Rjh07lJCQoNWrV8vf318JCQl68cUX1alTJ7m5uV211ipVqqhnz55as2aNuVlct26dbrnlFt1xxx3asmWLxRhnZWVpy5YtcnZ21iuvvKL4%2BHjNmzfPvI%2BLi4vWrVunrl27at26dapbt662bNmiV199VfPmzVNYWJi2bt2q2NhYrVixQg0bNtTEiRN14sQJffXVV3J2dtaYMWOuecwlKSEhQbNnz7bYNnJkjEaNir2u89mzP/grrZTc3W1dwY3xu5%2BZld/OnbauwHgff2zrClARYWG2rsBY69bZugJDlff6GxMTo9jYir3%2B5uXlKTU1tdzHcnNzVVhYqJCQEPO24OBg5eXlKTk5WbfffrvF/j169FCPHj0szv3tt9%2Bqd%2B/ekqS9e/fKy8tLjz32mA4dOqQ6deooNjbW3MxWxHW9ldTatWvVqFEjDRkyRJJ0yy23aMyYMRo1apQmTJhwxf6xsbFycXFRlSpV9Ntvv8nDw0NS6W8C19OcxsXFqV69epKksWPH6t5779WpU6fUqVMnhYWFqVatWjp37pzOnz8vX19f81/IypUr9dRTT6lBgwaSpNGjR2vNmjWSpIyMDG3cuFEbNmyQn5%2BfpNJmNTw8XPv27ZOHh4cuXryoFStWqEuXLnr44YcVFRUlpwpEbA8//LAef/xxZWVlqUqVKlqzZo0iIyOv2M/T01NJSUn6/PPP1b59e02ZMkXOFYiGli1bpkcffVStW7eWJHXp0kURERH69NNPNW7cOG3YsEHvvfee%2BbrGjh2rvn37/ul5fy8qKkoREREW26pX91dBwTWfym45OZU2poWFkslk62qM42h32Tg7lzamubmVcwrtanw6OlCD0LhxaWM6YICUlGTraoz1zju2rsA4VaqUNqY7d0pZWbauxiHciJ9J5b3%2B%2Bvv7V/j4PXv2aPDgweU%2BFhcXJ0ny9vY2bytLS//ovlOpdGY2Li5Onp6eGjp0qCTJyclJzZs317PPPqvatWvrn//8p2JjY7Vs2TK1bNmyQvVeV3OakZFhbg7L1K1bV3l5ecrIyCh3/8mTJ2v//v2qW7eumjVrJkkWN89ei8sb2tq1a0uS0tPTVb16db399tvavHmzbrrpJt1%2B%2B%2B0qLCyU6T9dxpkzZyxiZhcXF/Pxp0%2BfliRzinr5PqdOndK9996rWbNmaenSpVqwYIE8PT01aNAgjRgx4k8byNDQUNWtW1cbN25Uy5YtlZSUpPnz51%2Bx3/Dhw%2BXu7q6VK1dq4sSJqlevnsaMGaN77rnnD89/%2BvRpJSYm6pNPPjFvKy4uVrt27XT%2B/HkVFBTo5ptvNj/2%2B7%2B7igoICLhiCiE/37GauDImk2NdlyM1cJdzuJWs/5ltcihJSY53XTacMr5hsrIc87ocRHmvv9eibdu2OnDgQLmP7d%2B/X%2B%2B%2B%2B65yc3Pl4%2BMjqTRNlUpnf6/m6NGjGjVqlPz8/LRkyRLzvr9f5N2nTx%2BtW7fO3ANVxHU1p3Xq1NFXX31lse3EiRNyd3dX9erVr9g/Li5OERERWrhwoVxdXXX%2B/HmtWLHiep5akpSammqOn8tWnNeuXVvx8fFKSUnRN998Yx6kspi5bJ%2BUlBTz9yaTSWfOnJEkBQYGSpI2bNhg8dvI4cOHVa9ePaWkpMjPz08LFy5UQUGBtm/frpiYGDVt2lSdO3f%2B05ojIyO1bt06HT9%2BXN26dTPf13G5AwcOKCIiQkOHDlVmZqY%2B/vhjPfPMM/rhhx/%2B8Ny1atVSv3799NRTT5m3paSkyNPTU1WqVJGHh4dOnjyp2267TZIq/HZgAADg2lS2X5hvvfVWubm56fDhw2rRooUk6ciRI3Jzc1NQUFC5x2zZskXPPvus%2BvfvrzFjxsjV9b/t5MKFC9WkSRPdeeed5m0FBQXmWfOKuKblBO7u7srMzNT999%2BvI0eO6KOPPlJBQYFOnDihGTNmqHfv3nJ3dzcXkJmZaf7T09NTLi4uOnfunN544w1Juu4V/XPmzFF6erouXbqk6dOnq2PHjgoMDFRWVpY8PDzk4uKi/Px8LVq0SAcPHjQ/T1RUlBYtWqRjx46poKBAc%2BbMUVpamqTS5rRz586aPHmyzp8/r8LCQs2bN0%2BRkZG6dOmS9u7dq2HDhikpKUnu7u7mKfIaNWpUqOZ%2B/fpp9%2B7d%2Bvzzz/Xwww%2BXu89nn32msWPHKiMjQ1WqVFGVKlXk7e0t99/dMFg2vln/mYLp37%2B/lixZov/7v/%2BTVHq/x4MPPqh169bJ3d1d/fr107vvvqvffvtNmZmZevPNN69xxAEAQEVUtvc59fLyUs%2BePRUfH69z587p3Llzio%2BPV69eveTp6XnF/rt379bIkSM1fvx4jRs3zqIxlUpnqV9//XWdPHlSRUVFWrlypXbt2qUHHnigwjVdU3MaGRmpt99%2BW%2B%2B8844WLFigjRs36q677tKAAQPUvn17vfLKK5KkkJAQtWrVSh07dtSWLVs0depUrV%2B/XmFhYXrwwQcVGBioJk2a6ODBg9fy9GZNmzbVgAEDFBERoWrVqik%2BPl5S6T2keXl5uuuuuxQREaHdu3erb9%2B%2B5ucZMmSIIiIi9Mgjj6hz5866cOGCatWqZV7Q9Pe//13VqlVTv3791K5dO23ZskULFiyQv7%2B/evTooSeeeEIjRoxQy5YtFRcXpwkTJph/y/gzvr6%2BioiIkKurq8VvE5d79tlndcstt%2Bj%2B%2B%2B9XWFiYVq9erblz517x20bNmjXVvXt3RUVF6ZNPPtG9996rZ599VhMmTFBYWJji4uI0dOhQDRo0SJL04osv6o477lDv3r11zz33VLhmAADg%2BF599VUFBQWpd%2B/euvfee1W3bl1zTydJ999/v9577z1Jpe%2B7XlRUpMmTJ1u8j2nZdP7YsWPVqVMnDRgwQOHh4fr000/1wQcfXNMaIyeTqXLdWdeoUSMtWbJEbdu2veZj9%2BzZozp16pjfGspkMqldu3aaMWOG2rdvb3Spfwn5%2BbauwFhOTqUr2wsKHOueU0datCaVLojy8ZGysyvfFNofqVrNgd7DLDS0dJFNWJjj3XO6dq2tKzBOtWpSp07S1q2Od8/pNXwYkJE2bjT%2BnJctjv9LcLR3CfxDa9eu1dixY5WZmamioiJ9%2BOGHklThG3QBAABwY13Xgqgb5cEHH9SxY8eu%2Bnh5K9yvxejRozVx4kR1795dBQUFatq0qRYuXGhenXY9Nm7cqBdeeOGqj7dq1UoLFiy47vMDAIDKw5Fmc2zFrprT1atX/%2Bk%2BV3srhIqoUqWK/v73v1/38eX5/ZvRAgCAvy6aU%2Bv9pab1AQAAYN/sKjkFAACozEhOrUdyCgAAALtBcgoAAGAQklPr0ZwCAAAYhObUekzrAwAAwG6QnAIAABiE5NR6JKcAAACwGySnAAAABiE5tR7NKQAAgEFoTq3HtD4AAADsBskpAACAQUhOrUdzCgAAYBCaU%2BsxrQ8AAAC7QXIKAABgEJJT65GcAgAAwG6QnAIAABiE5NR6NKcAAAAGoTm1HtP6AAAAsBskpwAAAAYhObUeySkAAADsBskpAACAQUhOrUdzCgAAYBCaU%2BsxrQ8AAAC7QXIKAABgEJJT65GcAgAAwG6QnAIAABiE5NR6NKcAAAAGoTm1HtP6AAAAsBskpwAAAAYhObUeySkAAADsBskpAACAQUhOrUdzCgAAYBCaU%2BsxrQ8AAAC7QXIKAABgEJJT65GcAgAAwG6QnAIAABiE5NR6NKcAAAAGoTm1HtP6AAAAsBs0pwAAAAYpKTH%2B60bLycnR%2BPHj1bZtW7Vq1Upjx45Vdnb2Vfd/9dVX1axZM4WGhpq/EhISzI/Pnz9fnTp1UsuWLTVo0CAdPXr0muqhOQUAAPgLmzRpks6cOaONGzfqq6%2B%2B0pkzZxQfH3/V/ffu3atJkyZp165d5q%2BoqChJ0po1a7R06VItXLhQO3bsUNOmTTVq1CiZTKYK10NzCgAAYJDKlpzm5uZq7dq1GjVqlHx9feXn56fnnntOq1evVm5u7hX7FxQU6ODBg2rWrFm551uxYoUGDBighg0bysPDQ2PGjFFKSop27NhR4ZpYEAUAAGCQG9FMpqWlKT093WKbv7%2B/AgICKnR8Xl6eUlNTy30sNzdXhYWFCgkJMW8LDg5WXl6ekpOTdfvtt1vsn5SUpKKiIs2cOVM///yzqlatqoceekjDhg2Ts7OzDh8%2BrOHDh5v3d3NzU1BQkJKSktSuXbsK1UtzCqtcuGDrCozl6ir5%2BUmZmVJRka2rMY6j/T15eEg%2BPlJ6upSfb%2BtqjNNo7Vpbl2CcatVK/3znHenSJdvWYrTevW1dgXFCQ6WdO6XRo6Vdu2xdjbGuYRrZ3iUkJGj27NkW22JiYhQbG1uh4/fs2aPBgweX%2B1hcXJwkydvb27zNy8tLksq97zQzM1Nt2rTRoEGDNGPGDP36668aOXKknJ2dNWzYMGVnZ5uPL%2BPp6amcnJwK1SrRnAIAABjmRiSnUVFRioiIsNjm7%2B9f4ePbtm2rAwcOlPvY/v379e677yo3N1c%2BPj6SZJ7Or1KlyhX7t2/fXu3btzd/f8cdd2jIkCFav369hg0bJi8vL%2BXl5Vkck5eXZz53RdCcAgAA2LGAgIAKT%2BFfq1tvvVVubm46fPiwWrRoIUk6cuSIeTr%2B9zZt2qSzZ8/qkUceMW8rKCiQp6enJKlhw4Y6dOiQunTpIkkqLCxUcnKyxW0Df4YFUQAAAAapbAuivLy81LNnT8XHx%2BvcuXM6d%2B6c4uPj1atXL3PDeTmTyaSpU6dq%2B/btMplM2rVrl5YsWWJerf/QQw9p2bJlSkpKUn5%2Bvt566y3VrFlT4eHhFa6J5BQAAMAglfETol599VVNnz5dvXv3VmFhobp27aqXX37Z/Pj999%2Bv3r17629/%2B5u6d%2B%2Bu8ePH67XXXlNqaqpq1qyp2NhY9e3bV5IUGRmpzMxMjRw5UufOnVPz5s31/vvvy83NrcL1OJmu5Y2ngN%2B5yuK/SqtsQVRGBgui7JmHhxQUJCUnO9iCqEPrbF2CcapVkzp1krZuZUGUPStbEBUWxoIog7z4ovHnnDzZ%2BHPaM5JTAAAAg1TG5NTecM8pAAAA7AbJKQAAgEFITq1HcwoAAGAQmlPrMa0PAAAAu0FyCgAAYBCSU%2BvRnAIAABiE5tR6TOsDAADAbpCcAgAAGITk1HokpwAAALAbJKcAAAAGITm1Hs0pAACAQWhOrce0PgAAAOwGySkAAIBBSE6tR3IKAAAAu0FyCgAAYBCSU%2BvRnAIAABjk/9u7/7ie7/3/4/foh8YiKXL8Ggc5fOZHlF8T%2BbVzUXSIdjhhcew7EhsbG2OfmVRusZMAACAASURBVF9jjpFfMz%2BOzwzZ8auGMfn924aYHxs7VkilTEqt0vv7B%2BtUYu30ntf7ndv1cnGh5/vVu3u98H68H8/X8/miOC05pvUBAABgMeicAgAAmAmd05KjcwoAAACLQecUAADATOiclhzFKQAAgJlQnJYc0/oAAACwGHROAQAAzITOacnROQUAAIDFoHMKAABgJnROS47iFAAAwEwoTkuOaX0AAABYDDqnAAAAZkLntOTonAIAAMBi0DkFAAAwEzqnJUdxCgAAYCYUpyXHtD4AAAAsBp1TAAAAM6FzWnJ0TgEAAGAx6JwCAACYCZ3TkqM4BQAAMBOK05JjWh8AAAAWg84pAACAmdA5LTk6pwAAALAYdE4BAADMhM5pyVGcAgAAmAnFackxrW%2BlEhMTdffuXaNjAAAAmBWdUyt08%2BZNde/eXZGRkXrmmWd%2B8%2BdfvXpVnTt31q5du1SjRo3fISEAAE8na%2Byc3r17V1OmTFF0dLRycnLUuXNnTZ48WeXLl3/o2EmTJikyMrLAWGZmptq2batly5YpNzdXnp6eMplMsrGxyTvm4MGDxa5Z6JxaoczMTLqmAADALKZMmaL4%2BHh9%2BeWX2rFjh%2BLj4zV79uwij33vvfd08uTJvF/z58%2BXk5OTxo8fL0m6dOmSsrOzdezYsQLH/ZZmGsVpEb799lsFBwerefPmat%2B%2BvT766COZTCadOHFCAwYMUMuWLeXr66u5c%2BcqKytLkjR//nyFhYVp7NixatmypTp06KAPP/xQknT48GE9//zzunPnTt7X2Lt3r7y8vJSVlaWsrCx99NFH6ty5s7y8vPT3v/9dP/74Y96xDRs21Pvvvy9vb2/9v//3/%2BTn5ydJ8vPz09atWyVJX3zxhfz9/eXp6anevXvrwIEDeZ%2BflpamcePGydPTUy%2B88II2b978u/8MAQB4GuXmmv/X7ykjI0ORkZEKCwtTpUqV5OLiorFjx2rDhg3KyMh47OempKRo7NixmjBhgurXry9JOnPmjBo2bCh7e/v/OhPT%2BoX89NNPCgkJUXBwsJYtW6YbN24oODhYVatW1dSpUzV27FitWLFC8fHxGjlypNLS0jRx4kRJ0o4dOzRjxgzNnDlTBw4c0CuvvKLOnTurdevWqlq1qrZt26Z%2B/fpJkjZu3KiePXvK3t5eM2fO1JEjR7Ry5Uq5ublp6dKlCgkJ0datW%2BXg4CBJio2N1Z49e5Sdna3U1FR17txZUVFRqlGjhvbu3avJkydr0aJFatGihfbt26eRI0cqIiJC9evX13vvvafY2Fjt2LFDZcqU0ZgxY/6rn01iYqKSkpIKjJUt6ypXV7cS/MQtS9myBX8vLR78NSo1fvk/rwT/91kmJyejE5hPhQoFfy9Nmjc3OoH5eHgU/L20OHnSsC/9exSTRb3%2Burq6ys2teK%2B/mZmZSkhIKPKxjIwMZWdnq0GDBnlj9erVU2Zmpq5cuaJGjRo98nlnz56tJk2aqGfPnnljZ86c0c8//6w%2Bffro2rVrqlevnsaMGaMWLVoUK6tEcfqQ3bt3y8HBQSNGjJCNjY1q1aqlFStWaOnSpWrYsKEGDRokSapdu7bGjBmjsLAwvf3225KkOnXqKCAgQJLk4%2BMjV1dXXblyRc2aNVNgYKA2bdqkfv36KTU1VdHR0YqIiJDJZNLatWs1b9481axZU5I0YsQIRUREaM%2BePerevbuk%2B11SR0dHOTo6KjU1tUDmTz/9VH/961/VqlUrSVKnTp3k6%2BurtWvXaty4cdq2bZsWL14sFxcXSdKbb76pXr16/eafzbp16xQeHl5gbMSIUIWFjfzNz2XpKlUyOoF5PTj1pU716kYnMLM6HYxOYH6/4QXJanzzjdEJzO%2Bzz4xOYF75rnUsDYp6/Q0NDdXIkcV7/T19%2BrQGDhxY5GOjRo2SpALT7o6OjpKk9PT0Rz5nXFyctmzZovXr1xcYL1eunJ5//nmNGjVKFStW1OrVqzVkyBBt2bIlr875NRSnhSQlJcnd3b3ARbx169aVnZ3dQz/UGjVqKDMzU8nJyZLuv4vJz87OTrkP3kL17t1b8%2BfPV1xcnPbv36/69evLw8NDycnJunv3rkaNGqUyZf5zlUV2drauXbuW9/Hj3h1du3ZNx44d05o1a/LG7t27p9atW%2BvWrVvKysqSu7t73mPF/ctRWFBQkHx9fQuMlS3rqgfffqlQtuz9wvSnn6R794xOYz75rigpFezt7xem169LD66sKRXqxO4zOoL5VKhwvzD95hspLc3oNOY1erTRCczHw%2BN%2BYdq/v3ThgtFpSoXfo3Na1Otv4Zrjcby9vXXx4sUiHzt37pw%2B%2BugjZWRk5C2A%2BmU6v8JjZj7%2B9a9/qXnz5g91Vn%2B59vQXQ4YM0YYNG7R371797W9/K1ZeitNCqlWrpvj4%2BAKrzL766itVrVpV3377bYFjY2NjZW9vr4oVK/7q87q6uqpDhw6KiorS3r17FRgYKElydnaWg4ODli9frmbNmuUd/8MPP6hq1ap5H9s85l1gtWrVFBAQoGHDhuWNXb9%2BXeXKlVOFChXk4OCguLg41a1bV5J048aNYvwkHubm5vZQkZyQIOXk/FdPZ9Hu3Std39fPPxud4PeRlVXKvrdCsyKlQlpa6fu%2BDJwy/t1cuFA6v69SoqjXX3N57rnnZGdnp0uXLqlp06aSpMuXL8vOzk516tR55Oft2LFDISEhD43/4x//UPfu3fWnP/0pbywrKyvvMsXiYEFUIR07dlROTo4WL16srKwsxcbGatq0aapSpYouX76sf/7zn3njc%2BbMkb%2B/f7Ev%2Bu3Xr58iIiJ08eJF%2Bfv7S5LKlCmjwMBAffjhh7px44Zyc3O1ceNG%2Bfn5FVgUld8vJzjtQTeiX79%2BWrVqlWJiYiTdv96jd%2B/eioqKkr29vQICAvTRRx/pxo0bunPnjmbNmlXSHxMAACiCtS2IcnR01J///GfNnj1bKSkpSklJ0ezZs%2BXn56dy5coV%2BTm3bt3S5cuX8y4nzO%2B7777T1KlTlZSUpKysLIWHhystLU1du3YtdiaK00KcnJy0bNkyHT58WO3bt1dwcLBeeuklBQUF6ZNPPtGXX36ptm3bqn///mrXrp0mTZpU7Od%2B4YUXlJubq27duhVolY8bN05NmzZV//791bJlS61cuVLz5s0r8K4jvypVqqhr164KCgrSmjVr9OKLL%2Br111/X22%2B/rRYtWmjUqFEaPHiwgoODJUkTJkzQ888/L39/f3Xr1i3vnREAADAvaytOJWny5MmqU6eO/P399eKLL6pGjRoF6psePXpo8eLFeR9fvXpVkgrM8P5i%2BvTpqlWrlnr16iVvb28dO3ZMK1asUKXfsJjDxmQymUrw/eAp94jFf1bL1vb%2B4qHk5NI1rf/TT0YnMC8HB6lOHenKldI1rd/w%2ByijI5iPk5PUoYO0b1/pm9Z/MPNVKjRvfv%2B64BYtSt%2B0vkHlTbt25n/OgwfN/5yWjGtOAQAAzMQa7xBlaShOAQAAzITitOS45hQAAAAWg84pAACAmdA5LTk6pwAAALAYdE4BAADMhM5pyVGcAgAAmAnFackxrQ8AAACLQecUAADATOiclhydUwAAAFgMOqcAAABmQue05ChOAQAAzITitOSY1gcAAIDFoHMKAABgJnROS47OKQAAACwGnVMAAAAzoXNachSnAAAAZkJxWnJM6wMAAMBi0DkFAAAwEzqnJUfnFAAAABaDzikAAICZ0DktOYpTAAAAM6E4LTmm9QEAAGAx6JwCAACYCZ3TkqNzCgAAAItB5xQAAMBM6JyWHMUpAACAmVCclhzT%2BgAAALAYdE4BAADMhM5pydE5BQAAgMWgcwoAAGAmdE5LjuIUAADATChOS45pfQAAAFgMOqcAAABmQue05OicAgAAwGLQOQUAADATOqclR3EKAABgJhSnJce0PgAAACwGnVMAAAAzoXNacnROAQAAYDHonAIAAJgJndOSozgFAAAwE4rTkmNaHwAAABaD4hQAAMBMcnPN/%2BtJycjIUFBQkDZs2PDY406fPq2%2BffuqefPm8vX11fr16ws8vnHjRnXt2lXNmjVT7969dfLkyd%2BUg%2BIUAADATKy1OP3%2B%2B%2B81YMAAnTp16rHH3b59W8OGDVNAQICOHz%2BuqVOnavr06YqJiZEkHT16VFOmTNGMGTN0/Phx9ezZU6%2B%2B%2BqoyMjKKnYXiFAAA4Cl2%2BPBhDRo0SH/5y19UvXr1xx67Y8cOVapUSQMGDJCtra3atGkjf39/rV69WpK0fv169ejRQ56enrKzs9PgwYPl7OysrVu3FjsPC6IAAADM5PfodCYmJiopKanAmKurq9zc3Ir1%2BZmZmUpISCjyMVdXV3l4eGj37t1ycHDQihUrHvtc33//vRo0aFBg7I9//KM%2B//xzSdKlS5fUp0%2Bfhx6/cOFCsbJKFKcooapVjU5gXomJiZo/f52CgoJUtWrx/tFbg9J8nurUKT3nSQ39jE5gNomJiVo3f76CgoKK/QJqNUwmoxOYTd552r699J0ng/wefz3mz1%2Bn8PDwAmOhoaEaOXJksT7/9OnTGjhwYJGPLViwQF26dCl2lvT0dDk6OhYYK1eunO7evVusx4uD4hTIJykpSeHh4fL19eU/agvGebJ8nCPrwHmyDkFBQfL19S0w5urqWuzP9/b21sWLF82SxdHRUXfu3CkwlpmZqfLly%2Bc9npmZ%2BdDjzs7Oxf4aFKcAAAAWzM3NzWLePDRo0EAHDx4sMHbp0iXVr19fklS/fn19//33Dz3eoUOHYn8NFkQBAACgWLp27aqbN29q5cqVys7O1pEjRxQZGZl3nWlgYKAiIyN15MgRZWdna%2BXKlUpOTlbXrl2L/TUoTgEAAPBIPXr00OLFiyVJzs7OWr58ubZv3y5vb29NnDhREydOVOvWrSVJbdq00eTJk/Xuu%2B/Ky8tLX3zxhZYuXapKlSoV%2B%2BvZmEyl6MpuoIQSExO1bt260rmIoxThPFk%2BzpF14DzBElGcAgAAwGIwrQ8AAACLQXEKAAAAi0FxCgAAAItBcQoAAACLQXEKAAAAi0FxCgAAAItBcQoAAACLQXEKAAAAi0FxCgAAAItBcQoAAACLQXEKwCqcOHFCubm5RscAAPzObEwmk8noEICRUlJStGXLFl27dk2jRo3S8ePH1alTJ6NjoRBvb2/t2bNHjo6ORkdBIdevX//VY6pXr/4EkuBxOE%2BwFrZGBwCM9O233%2Brll19W3bp1dfHiRQ0cOFCjRo3S5MmT1adPH6PjIZ%2BaNWvqzJkz8vLyMjoKCvH19ZWNjU2BMZPJVGDs/PnzTzoWCuE8wVpQnOKpNn36dI0fP169e/dWq1atVLNmTS1YsEDTp0%2BnOLUwFStW1Msvv6waNWrIzc2twAvqqlWrDEyGXbt2SZI2b96sr7/%2BWm%2B88YZq1aql%2BPh4zZ49W82aNTM4ISTOE6wH0/p4qnl5eenw4cMqW7asvLy8dOzYMUmSp6envv76a4PTIb/w8PBHPhYaGvoEk%2BBRfHx8tGXLFlWsWDFv7M6dO3rxxRd18OBBA5MhP84TLB2dUzzVKleurB9%2B%2BEH169fPG/vhhx9UpUoVA1OhKBSgli89Pf2hRWt3795Vdna2QYlQFM4TLB2r9fFU69%2B/v1555RVFREQoJydHW7du1ahRoxQUFGR0NBQhIiJC/v7%2B8vb21vXr1xUWFqb09HSjY%2BGBzp07a/jw4Tp8%2BLCuXLmi/fv3a8SIEfLz8zM6GvLhPMHSMa2Pp97q1av12Wef6dq1a6pataqCgoI0ePBglSnDezdLsnLlSq1Zs0ZDhgzRBx98oF27dmnYsGGqX7%2B%2B3n//faPjQfc7cv/7v/%2Br7du3KysrSw4ODurVq5cmTpwoe3t7o%2BPhAc4TLB3FKQCr0L17dy1cuFD16tXLuz44MTFRf/nLX7hOzsJkZWXpp59%2BkrOzs%2Bzs7IyOg0fgPMFScc0pnmpvvfVWkeN2dnaqXLmyOnbsyApWC3Hr1i0999xzku5vfyNJLi4uysnJMTIWCrl8%2BbLWrFmjGzduaMqUKfriiy/0t7/9zehYKITzBEvGvCWeanZ2doqMjFRGRoaqVKmirKwsRUVFKSEhQT/88INefvllbd261eiYkOTh4aF169ZJUt42Ulu3bi2wmA3GOnjwoPr27atbt27p0KFDyszM1IIFC/Txxx8bHQ35cJ5g8UzAU2zo0KGmnTt3Fhjbs2eP6ZVXXjGZTCbTkSNHTH5%2BfkZEQyFnz541tWzZ0hQUFGRq3LixaejQoaaWLVuaTp06ZXQ0PNC7d2/Tnj17TCaTydSyZUuTyWQyxcTEmHx9fY2MhUI4T7B0dE7xVDt9%2BrR8fX0LjL3wwgs6ceKEpPu3zLx27ZoR0VBI48aNFRUVpS5duqhv375q2bKlNm/erKZNmxodDQ/8%2BOOP6tChg6T/dLf/53/%2BR7dv3zYyFgrhPMHSUZziqVa5cmXt37%2B/wNjhw4dVqVIlSVJcXFyBjaphrCpVqmjo0KGaNGmSPDw8dPPmTaMjIZ/q1avrm2%2B%2BKTB25swZubu7G5QIReE8wdKVfffdd981OgRgFGdnZ73%2B%2Buu6fPmyzp07p88//1zz58/XuHHjZG9vr%2BDgYPXv318tW7Y0OupTLzo6WsHBwRoyZIgWLVqkKVOmaOPGjXJxcVHjxo2NjgdJTk5OeuONN5SWlqaTJ0%2BqbNmymj59ukaMGCEPDw%2Bj4%2BEBzhMsHVtJ4al36tQp/etf/9KNGzdUvXp19evXTw0bNtTVq1d16dIldenSxeiIkNS3b1/17dtXgYGBateunWbMmCEXFxe99tpr2rlzp9Hx8MDevXu1evVqXbt2TdWqVVO/fv3UvXt3o2OhEM4TLBnFKZ5qsbGxWrBggRISEvJu55edna1///vfOnLkiMHpkJ%2B3t7eOHj2qc%2BfOacCAATp%2B/LhsbW3VvHlznTx50uh4kLRt2zb9%2Bc9/fmh83bp13HXNgnCeYOnY5xRPtQkTJshkMsnZ2VkpKSlq1KiRNm3apMGDBxsdDYU4OjoqOTlZ0dHR8vT0lK2trS5cuCBnZ2ejoz3VMjIydOvWLUnS22%2B/rWbNmil/z%2BPOnTuaMWMGRY/BOE%2BwJhSneKqdPXtWe/bs0fXr1zV37lxNnDhRHTp00JIlSxQaGmp0POTTp08fBQQEKDU1VfPmzdPZs2c1dOhQhYSEGB3tqZaWlqYePXooMzNTkuTr6yuTySQbG5u837k0xnj5z5PJZOI8waIxrY%2BnWtu2bXXo0CGlp6fLz89Pu3fvliS1adNGhw8fNjgdCjty5IjKlSunZs2aKT4%2BXmfOnFG3bt2MjvXUS05OVkZGhvz9/RUVFVXgMQcHB1WpUsWgZMiP8wRrQecUT7VatWpp79698vHxUW5uruLi4mRvb88tMS1U69at8/7s7u7O1jcWwsXFRZL09ddfq0wZdii0VL%2BcJ29vb1WsWFEVKlQwOBFQNIpTPNWGDRumsLAwRUVFKSgoSC%2B99JLKli2rzp07Gx0NhXh4eORtGF7Y%2BfPnn3Aa5Dds2DB9/PHHGjRo0CPP0apVq55wKjzKqVOnZG9vb3QM4JEoTvFU8/X11Y4dO%2BTi4qLhw4erTp06SktLU0BAgNHRUEjh4iYlJUX/93//p169ehmUCL/w9PSUJHl5eT2yOIXl8PPzU1hYmPz9/eXq6lrgnLVq1crAZMB9XHMKwGolJSVp8ODB%2BuKLL4yOgiKkpaXJ3t6eLp2FedRG%2BzY2NsxCwCLQOQVgtZycnJSQkGB0DDxw%2BfJlzZkzRwsWLNDOnTv12muvqXz58lq4cGFedxXGu3DhgtERgMeiOAVgFTZt2lTg4%2BzsbO3atUuNGjUyKBEKmzZtmtzc3GQymTRnzhyFhYWpfPnymjFjhtavX290POSTlZWlvXv36tq1awoKCtKPP/7IrUthMZjWB2AVfH19C3xctmxZ1atXT2PHjtUf//hHg1Ihv/bt22v37t1KSEhQ9%2B7ddfToUZUvX16enp765ptvjI6HB2JjYxUSEqLs7GylpqZqw4YN8vPzU3h4uDp16mR0PIDOKQDrEB0d/avHREVFyc/P7wmkQVFycnJkMpl08OBBNW7cWBUqVFBKSoocHByMjoZ8pk6dqt69e%2BvVV1%2BVl5eXnnvuOb3//vuaN28exSksAhvSASg1Jk2aZHSEp1rbtm01cuRILVy4UH5%2BfoqLi9OIESPUsWNHo6Mhn1OnTmno0KGysbHJW6nfq1cvxcXFGZwMuI/iFECpwVVKxpoyZYqaNGmiAQMGaODAgUpPT1fjxo31zjvvGB0N%2BTz77LO6efNmgbGkpCRVrFjRoERAQUzrAyg12GPTWOXLl9fIkSPzPvbw8NDEiRMNTISi%2BPv7KzQ0VGPGjFFubq5iYmI0a9Ys9ejRw%2BhogCSKUwBACf1yh6jg4GDuEGUFhg8frszMTIWGhiojI0MDBw5UYGCgQkNDjY4GSKI4BQCU0C97mHp7exucBMU1btw4jRs3TikpKXJ2dmbWARaFraQAlBotWrRgyyIDnT17Vk2aNDE6Bn6Ft7e3evXqpcDAQDVo0MDoOMBDWBAFoNTgvbaxBgwYoF69eunTTz9Vamqq0XHwCB988IGSkpLUt29f9e3bV%2BvWrVN6errRsYA8dE4BWIWjR4/Ky8vrsdOPoaGhCg8Pf4KpkN%2BdO3cUGRmpTZs26eLFi%2BrSpYsCAwPVpk0bo6OhCKmpqYqKitKWLVv03XffqXv37po%2BfbrRsQCKUwDWoV27dsrNzZWvr6%2B6deumtm3bys7OzuhYeITLly9ry5Yt2rx5s%2Bzs7LRz506jI6EIV69eVVRUlCIiImQymbR7926jIwEsiAJgHQ4cOKCTJ09q9%2B7dmjlzphITE%2BXj46Pu3burW7duRsdDPnfv3lVMTIzOnDmj27dvP3TrWRgrLS1N27Zt06ZNmxQTEyMfHx9NnjxZL7zwgtHRAEl0TgFYoeTkZK1Zs0bLli1TZmamzp8/b3QkSDp06JA2btyor776SjVq1FBgYKACAgLY3N3CNG3aVNWqVVOfPn3Uu3dvValSxehIQAEUpwCswv79%2B3Xo0CEdOnRIly9fVpMmTdS2bVu1b99eLVq0MDoeJDVv3lw9evRQYGCgmjVrZnQcPMKRI0fUunVro2MAj0RxCsAqeHh4yNHRUS%2B99JL%2B/ve/q3LlykZHQiHp6ekqX778Y4/5ZcN%2BGCsmJkb//ve/H9rhIiAgwKBEwH9QnAKwCkePHtXBgwd14MABxcXFqVWrVmrXrp3at2%2Bv2rVrGx0PxcRetMabM2eOli5dKldXV9na/mfpiY2NjXbt2mVgMuA%2BilMAVic5OVlRUVFavHixfvrpJ645tSIUp8bz8fHRe%2B%2B9Jx8fH6OjAEVitT4Aq3H69Gnt27dP%2B/bt08WLF9WqVSt17drV6FiAVbl79646dOhgdAzgkShOAVgFb29v5eTkqH379ho0aJA6duyoChUqGB0LsDodO3ZUZGSkevbsaXQUoEgUpwCswsyZM9W2bVvZ29sbHQWwaj///LPGjx%2BvxYsXP7SN1KpVqwxKBfwHxSkAq9CxY0cdPHhQn376qRISErRkyRItX75cY8aMKbCoA8DjNWjQQA0aNDA6BvBI/I8OwCpERkZq2rRp6tevn44dOyZJio6Olo2Njd58802D06G4WINrvNDQ0Lw/Jycnq2LFirzBg0UpY3QAACiOjz/%2BWIsWLdJrr72mMmXKyNXVVUuWLFFUVJTR0ZDPvXv38v68d%2B9excTEFHh85syZTzoSCsnOzta0adPUvHlztW/fXp6ennrnnXeUlZVldDRAEsUpACtx48YNNW3aVNL9/RglqXbt2rp7966RsZBPdHR03v3ZFy5cqJEjRyo4OFgRERF5x3Tr1s2oeHhg4cKFOnr0qObOnauoqCjNnTtXp0%2Bf1ty5c42OBkiiOAVgJerUqfPQBuGHDh1iA34LsmjRIo0ePVq5ubn69NNPNX/%2BfK1evVpLly41OhryiYyMVHh4uHx8fFSvXj116tRJ4eHhioyMNDoaIIlrTgFYiddee03Dhw9X586dlZmZqXfffVeRkZGaM2eO0dHwQGxsrPr166dz584pIyND7dq1k62trW7evGl0NORz%2B/Ztubu7Fxhzd3dXZmamQYmAguicArAKbdu21dq1a%2BXk5KTWrVsrNzdXK1as4C43FsTR0VHJycmKjo6Wp6enbG1tdeHCBTk7OxsdDfk0bNhQa9euLTC2du1aVvDDYnD7UgBWISEhQYsWLdKVK1d07969vOtOJfZmtBTz589XRESEUlNTNW/ePLm4uGjo0KEKCQnRsGHDjI6HB06cOKGQkBB5eHioZs2aio2N1aVLl7Rs2TK1aNHC6HgAxSkA6xASEqKbN2%2BqU6dOsrOzK/BY/q1xYKyjR4/KwcFBzZo1U3x8vM6cOcMiKAu0bt06nT59Wra2tqpWrZpcXV3Vt29fo2MBkihOAViJVq1a6csvv1TlypWNjoJfce7cOV29elUdO3bUnTt35OLiYnQk5DNv3jxt3LhRK1asyFtoOG3aNP31r3/V0KFDjY4HcM0pAOvw7LPPcutSC5ecnKyXXnpJ/fr107hx4xQXF6cuXbro5MmTRkdDPp9//rlWrVqlOnXqSJI6d%2B6sFStWaPXq1cYGAx6gOAVgFYYPH6633npLMTExun79eoFfsAzTpk1TgwYNdPz4cdna2qpevXoaNmyYPvjgA6OjIZ%2B0tLQiV%2BuzZzAsBdP6AKyCh4dH3p9/WQxlMplkY2Oj8%2BfPGxUL%2BbRr105fffWVHB0d5eXlpWPHjik7O1tt27bV8ePHjY6HB4KDg9WmTRsNHz48b2zJkiU6dOiQ/vnPfxqYDLiPfU4BWIXCG/DD8tjZ2SkzM1OOjo76pe%2BRnp6u8uXLG5wM%2BY0fP14hISGKiIhQtWrVdOPGDeXk5OiTTz4xOhogieIU8SR%2BIwAABytJREFUgJX4wx/%2BYHQE/ApfX1%2B98cYbmjhxomxsbJScnKz333%2BfvWgtTOPGjbVjxw7t3r1biYmJcnd3V8eOHfXss88aHQ2QxLQ%2BAMBM0tPT9dZbb2nHjh2S7l9%2B4ePjo1mzZlH4ACg2ilMAgFmlpKTo6tWrqlatmtzc3IyOA8DKUJwCAMxi06ZNRY7b2dmpcuXKatasmRwdHZ9wKgDWhmtOAQBmsW7dOp06dUouLi76wx/%2BoPj4eCUlJalatWrKyMiQjY2Nli9frkaNGhkdFYAFo3MKADCLd999V05OTho9erTKlLm/jXZ4eLhu376tCRMmaPny5dqzZ49WrVplcFIAloziFABgFu3bt9fu3btlZ2eXN5adna1OnTrpwIEDysnJUevWrXXixAkDUwKwdNwhCgBgNnFxcQU%2BvnbtmnJyciRJmZmZBQpXACgK15wCAMwiMDBQw4YN0yuvvKLq1avr%2BvXrWrZsmXr37q3k5GS9%2Beab7HkK4FdRnAIAzCIsLEzPPPOMPvnkE8XHx6t69eoKCgrSoEGDdPbsWdWtW1ejR482OiYAC8c1pwAAALAYdE4BAGaRlZWlyMhIJSQkKDc3V9L9BVHfffedFi1aZHA6ANaC4hQAYBZvv/229u/fL2dnZ2VnZ%2BuZZ57R999/r4CAAKOjAbAiFKcAALPYv3%2B/1qxZo5SUFK1Zs0Yffvihli9frpiYGKOjAbAibCUFADCL3Nxc1a1bV3Xr1tX58%2BclSQMGDGBfUwC/CcUpAMAsqlWrpri4OFWuXFnJycm6e/euTCaT0tPTjY4GwIowrQ8AMAt/f3/1799fn3/%2BuTp27KhXX31VDg4OatKkidHRAFgRtpICAJjNtm3b5OPjo9zcXM2aNUtpaWkaPXq0atasaXQ0AFaC4hQAYFbXr19XUlKS3N3d5ebmZnQcAFaGaX0AgFkkJibq9ddfz1sAZWNjow4dOmjWrFlycnIyOB0Aa8GCKACAWUyaNElOTk7avn27YmJiFBUVJUmaOnWqwckAWBOm9QEAZuHp6am9e/eqQoUKeWOpqanq0qWLjh07ZmAyANaEzikAwCycnJyUmppaYCwrK0uVKlUyKBEAa0TnFABgFsuWLdOmTZs0evRo1a5dWwkJCQoPD1fjxo3VvXv3vONatWplYEoAlo7iFABgFh4eHr96jI2NTd7dowCgKKzWBwCYxYULF371GG5lCuDX0DkFADwxLVq00DfffGN0DAAWjAVRAIAnhn4IgF9DcQoAeGJsbGyMjgDAwlGcAgAAwGJQnAIAAMBiUJwCAADAYlCcAgAAwGJQnAIAnpg6deoYHQGAhWOfUwBAiWzatOlXjwkICHgCSQCUBhSnAIAS8fX1fezjNjY22rVr1xNKA8DaUZwCAADAYtgaHQAAUHrExcUpISEh705Q2dnZ%2Bu677zR48GBjgwGwGnROAQBmsWTJEv3jH//IuwuUyWSSjY2NGjVqpA0bNhicDoC1oHMKADCLzz77TPPmzZO9vb2io6P1%2Buuva8qUKXJ3dzc6GgArwlZSAACzSE1NVbdu3eTh4aGzZ8%2BqUqVKmjBhgrZu3Wp0NABWhOIUAGAWbm5uSktLU9WqVXX16lWZTCZVrlxZt2/fNjoaACvCtD4AwCxatWqlsLAwzZ07V3/60580Z84cOTg4qGrVqkZHA2BF6JwCAMxi/Pjxql27tnJycjRhwgTt2rVLERERmjBhgtHRAFgRVusDAMzi9OnTatq06UPj%2B/btU4cOHQxIBMAa0TkFAJjFyy%2B//NBYWlqaRo0aZUAaANaKa04BAP%2B1H3/8UT169NC9e/dkMpnUqFGjh45p0aKFAckAWCum9QEAJXL%2B/HmlpqZq2LBhWrp0ad7m%2B5Lk4OCgBg0ayNHR0eCUAKwFxSkAwCzi4uJUs2ZNSVJycrIqVqwoW1sm6AD8NhSnAACzyM7O1qxZs7R%2B/XplZmbK3t5ePXv21DvvvCN7e3uj4wGwEiyIAgCYxcKFC3X06FHNnTtXUVFRmjt3rk6fPq25c%2BcaHQ2AFaFzCgAwiy5dumjFihV5U/uSFBsbqwEDBmj//v0GJgNgTeicAgDM4vbt23J3dy8w5u7urszMTIMSAbBGFKcAALNo2LCh1q5dW2Bs7dq1atCggUGJAFgjpvUBAGZx4sQJhYSEyMPDQzVr1lRsbKwuXbqkZcuWsdcpgGKjcwoAMIvt27dr8%2BbNat%2B%2BvcqXL6%2BuXbsqKirqoW4qADwOG9ABAP5rCQkJOnz4sCRp/fr1atKkiWrVqqVatWpJkqKjo7Vz504jIwKwMkzrAwD%2Ba1lZWerfv79SUlIUHx//0IIoBwcHBQYGasiQIQYlBGBtKE4BAGYxZMgQLVu2zOgYAKwcxSkAAAAsBguiAAAAYDEoTgEAAGAxKE4BAABgMShOAQAAYDEoTgEAAGAxKE4BAABgMShOAQAAYDH%2BP7n6Y5igFq9PAAAAAElFTkSuQmCC\" class=\"center-img\">\n",
       "</div>\n",
       "    <div class=\"row headerrow highlight\">\n",
       "        <h1>Sample</h1>\n",
       "    </div>\n",
       "    <div class=\"row variablerow\">\n",
       "    <div class=\"col-md-12\" style=\"overflow:scroll; width: 100%%; overflow-y: hidden;\">\n",
       "        <table border=\"1\" class=\"dataframe sample\">\n",
       "  <thead>\n",
       "    <tr style=\"text-align: right;\">\n",
       "      <th></th>\n",
       "      <th>country</th>\n",
       "      <th>age</th>\n",
       "      <th>new_user</th>\n",
       "      <th>source</th>\n",
       "      <th>total_pages_visited</th>\n",
       "      <th>converted</th>\n",
       "    </tr>\n",
       "  </thead>\n",
       "  <tbody>\n",
       "    <tr>\n",
       "      <th>0</th>\n",
       "      <td>UK</td>\n",
       "      <td>25</td>\n",
       "      <td>1</td>\n",
       "      <td>Ads</td>\n",
       "      <td>1</td>\n",
       "      <td>0</td>\n",
       "    </tr>\n",
       "    <tr>\n",
       "      <th>1</th>\n",
       "      <td>US</td>\n",
       "      <td>23</td>\n",
       "      <td>1</td>\n",
       "      <td>Seo</td>\n",
       "      <td>5</td>\n",
       "      <td>0</td>\n",
       "    </tr>\n",
       "    <tr>\n",
       "      <th>2</th>\n",
       "      <td>US</td>\n",
       "      <td>28</td>\n",
       "      <td>1</td>\n",
       "      <td>Seo</td>\n",
       "      <td>4</td>\n",
       "      <td>0</td>\n",
       "    </tr>\n",
       "    <tr>\n",
       "      <th>3</th>\n",
       "      <td>China</td>\n",
       "      <td>39</td>\n",
       "      <td>1</td>\n",
       "      <td>Seo</td>\n",
       "      <td>5</td>\n",
       "      <td>0</td>\n",
       "    </tr>\n",
       "    <tr>\n",
       "      <th>4</th>\n",
       "      <td>US</td>\n",
       "      <td>30</td>\n",
       "      <td>1</td>\n",
       "      <td>Seo</td>\n",
       "      <td>6</td>\n",
       "      <td>0</td>\n",
       "    </tr>\n",
       "  </tbody>\n",
       "</table>\n",
       "    </div>\n",
       "</div>\n",
       "</div>"
      ],
      "text/plain": [
       "<pandas_profiling.ProfileReport at 0x10b6d7128>"
      ]
     },
     "execution_count": 2,
     "metadata": {},
     "output_type": "execute_result"
    }
   ],
   "source": [
    "# Overview for the dataset and variables\n",
    "pandas_profiling.ProfileReport(data)"
   ]
  },
  {
   "cell_type": "code",
   "execution_count": 3,
   "metadata": {
    "scrolled": true
   },
   "outputs": [
    {
     "data": {
      "text/html": [
       "<div>\n",
       "<style scoped>\n",
       "    .dataframe tbody tr th:only-of-type {\n",
       "        vertical-align: middle;\n",
       "    }\n",
       "\n",
       "    .dataframe tbody tr th {\n",
       "        vertical-align: top;\n",
       "    }\n",
       "\n",
       "    .dataframe thead th {\n",
       "        text-align: right;\n",
       "    }\n",
       "</style>\n",
       "<table border=\"1\" class=\"dataframe\">\n",
       "  <thead>\n",
       "    <tr style=\"text-align: right;\">\n",
       "      <th></th>\n",
       "      <th>country</th>\n",
       "      <th>age</th>\n",
       "      <th>new_user</th>\n",
       "      <th>source</th>\n",
       "      <th>total_pages_visited</th>\n",
       "      <th>converted</th>\n",
       "    </tr>\n",
       "  </thead>\n",
       "  <tbody>\n",
       "    <tr>\n",
       "      <th>304733</th>\n",
       "      <td>UK</td>\n",
       "      <td>34</td>\n",
       "      <td>0</td>\n",
       "      <td>Ads</td>\n",
       "      <td>11</td>\n",
       "      <td>0</td>\n",
       "    </tr>\n",
       "    <tr>\n",
       "      <th>247899</th>\n",
       "      <td>US</td>\n",
       "      <td>42</td>\n",
       "      <td>1</td>\n",
       "      <td>Ads</td>\n",
       "      <td>4</td>\n",
       "      <td>0</td>\n",
       "    </tr>\n",
       "    <tr>\n",
       "      <th>160038</th>\n",
       "      <td>US</td>\n",
       "      <td>48</td>\n",
       "      <td>1</td>\n",
       "      <td>Seo</td>\n",
       "      <td>6</td>\n",
       "      <td>0</td>\n",
       "    </tr>\n",
       "    <tr>\n",
       "      <th>66196</th>\n",
       "      <td>US</td>\n",
       "      <td>36</td>\n",
       "      <td>0</td>\n",
       "      <td>Seo</td>\n",
       "      <td>21</td>\n",
       "      <td>1</td>\n",
       "    </tr>\n",
       "    <tr>\n",
       "      <th>15143</th>\n",
       "      <td>China</td>\n",
       "      <td>35</td>\n",
       "      <td>1</td>\n",
       "      <td>Direct</td>\n",
       "      <td>8</td>\n",
       "      <td>0</td>\n",
       "    </tr>\n",
       "  </tbody>\n",
       "</table>\n",
       "</div>"
      ],
      "text/plain": [
       "       country  age  new_user  source  total_pages_visited  converted\n",
       "304733      UK   34         0     Ads                   11          0\n",
       "247899      US   42         1     Ads                    4          0\n",
       "160038      US   48         1     Seo                    6          0\n",
       "66196       US   36         0     Seo                   21          1\n",
       "15143    China   35         1  Direct                    8          0"
      ]
     },
     "execution_count": 3,
     "metadata": {},
     "output_type": "execute_result"
    }
   ],
   "source": [
    "# Look at a sample of 5 rows of the dataset\n",
    "data.sample(5)"
   ]
  },
  {
   "cell_type": "markdown",
   "metadata": {},
   "source": [
    "#### Data Dictionary:\n",
    "* country : user country based on the IP address \n",
    "* age : user age. Self-reported at sign-in step \n",
    "* new_user : whether the user created the account during this session or had already an account and simply came back to the site \n",
    "* source : marketing channel source\n",
    "    * Ads: came to the site by clicking on an advertisement\n",
    "    * Seo: came to the site by clicking on search results\n",
    "    * Direct: came to the site by directly typing the URL on the browser \n",
    "* total_pages_visited: number of total pages visited during the session. This is a proxy for time spent on site and engagement during the session.\n",
    "* converted: this is our label. 1 means they converted within the session, 0 means they left without buying anything. The company goal is to increase conversion rate: # conversions / total sessions."
   ]
  },
  {
   "cell_type": "code",
   "execution_count": 4,
   "metadata": {},
   "outputs": [
    {
     "name": "stdout",
     "output_type": "stream",
     "text": [
      "<class 'pandas.core.frame.DataFrame'>\n",
      "RangeIndex: 316200 entries, 0 to 316199\n",
      "Data columns (total 6 columns):\n",
      "country                316200 non-null object\n",
      "age                    316200 non-null int64\n",
      "new_user               316200 non-null int64\n",
      "source                 316200 non-null object\n",
      "total_pages_visited    316200 non-null int64\n",
      "converted              316200 non-null int64\n",
      "dtypes: int64(4), object(2)\n",
      "memory usage: 14.5+ MB\n"
     ]
    }
   ],
   "source": [
    "# Look at the information for the dataset\n",
    "data.info()"
   ]
  },
  {
   "cell_type": "code",
   "execution_count": 5,
   "metadata": {},
   "outputs": [
    {
     "data": {
      "text/plain": [
       "country                0\n",
       "age                    0\n",
       "new_user               0\n",
       "source                 0\n",
       "total_pages_visited    0\n",
       "converted              0\n",
       "dtype: int64"
      ]
     },
     "execution_count": 5,
     "metadata": {},
     "output_type": "execute_result"
    }
   ],
   "source": [
    "# Check missing values in the dataset\n",
    "data.isnull().sum()"
   ]
  },
  {
   "cell_type": "code",
   "execution_count": 6,
   "metadata": {},
   "outputs": [
    {
     "data": {
      "text/plain": [
       "299903"
      ]
     },
     "execution_count": 6,
     "metadata": {},
     "output_type": "execute_result"
    }
   ],
   "source": [
    "# Check duplicates in the dataset\n",
    "data.duplicated().sum()"
   ]
  },
  {
   "cell_type": "markdown",
   "metadata": {},
   "source": [
    "#### Summary from Data Understanding:\n",
    "* No missing values, and many duplicates\n",
    "* total_pages_viewed is highly correlated with the conversion rate\n",
    "* The target variable (converted) is highly imbalanced"
   ]
  },
  {
   "cell_type": "markdown",
   "metadata": {},
   "source": [
    "## 3. Exploratory Data Analysis:\n",
    "* Univariate visualization and summary statistics for each field in the raw dataset\n",
    "* Bivariate visualization and summary statistics for assessing the relationship between each variable in the dataset and the target variable\n",
    "* Multivariate visualizations to understand interactions between different fields in the data\n",
    "* Feature Engineering: use domain knowledge to create additional relevant features from the existing raw features in the data, and to increase the predictive power of the learning algorithm"
   ]
  },
  {
   "cell_type": "code",
   "execution_count": 7,
   "metadata": {},
   "outputs": [],
   "source": [
    "# Import python modules for visualization\n",
    "import seaborn\n",
    "import matplotlib.pyplot as plt\n",
    "%matplotlib inline\n",
    "seaborn.set_style('whitegrid')"
   ]
  },
  {
   "cell_type": "markdown",
   "metadata": {},
   "source": [
    "### 3.1 Univariate Analysis"
   ]
  },
  {
   "cell_type": "markdown",
   "metadata": {},
   "source": [
    "#### 3.1.1 Numerical variables"
   ]
  },
  {
   "cell_type": "code",
   "execution_count": 8,
   "metadata": {},
   "outputs": [
    {
     "name": "stdout",
     "output_type": "stream",
     "text": [
      "                 age       new_user  total_pages_visited      converted\n",
      "count  316200.000000  316200.000000        316200.000000  316200.000000\n",
      "mean       30.569858       0.685465             4.872966       0.032258\n",
      "std         8.271802       0.464331             3.341104       0.176685\n",
      "min        17.000000       0.000000             1.000000       0.000000\n",
      "25%        24.000000       0.000000             2.000000       0.000000\n",
      "50%        30.000000       1.000000             4.000000       0.000000\n",
      "75%        36.000000       1.000000             7.000000       0.000000\n",
      "max       123.000000       1.000000            29.000000       1.000000\n"
     ]
    }
   ],
   "source": [
    "# Summary for numerical variables\n",
    "print(data.describe(include=['int64']))"
   ]
  },
  {
   "cell_type": "code",
   "execution_count": 9,
   "metadata": {},
   "outputs": [
    {
     "data": {
      "image/png": "[encoded data removed]",
      "text/plain": [
       "<Figure size 864x576 with 4 Axes>"
      ]
     },
     "metadata": {},
     "output_type": "display_data"
    }
   ],
   "source": [
    "fig, axarr = plt.subplots(2, 2, figsize=(12, 8))\n",
    "\n",
    "data.age.plot.box(ax=axarr[0][0], fontsize=12)\n",
    "axarr[0][0].set_title(\"Age\", fontsize=15)\n",
    "\n",
    "data.new_user.value_counts().plot.bar(ax=axarr[1][0], fontsize=12)\n",
    "axarr[1][0].set_title(\"New user\", fontsize=15)\n",
    "\n",
    "data.total_pages_visited.plot.hist(ax=axarr[1][1], fontsize=12)\n",
    "axarr[1][1].set_title(\"Total pages visited\", fontsize=15)\n",
    "\n",
    "data.converted.value_counts().plot.bar(ax=axarr[0][1], fontsize=12)\n",
    "axarr[0][1].set_title(\"Target var: converted\", fontsize=15)\n",
    "\n",
    "plt.subplots_adjust(hspace=.3)\n",
    "\n",
    "seaborn.despine()"
   ]
  },
  {
   "cell_type": "markdown",
   "metadata": {},
   "source": [
    "From the above, we can see: most of the users are younger than 40, and there are some outliers on age (>100) that need to be corrected."
   ]
  },
  {
   "cell_type": "markdown",
   "metadata": {},
   "source": [
    "#### 3.1.2 Categorical variables"
   ]
  },
  {
   "cell_type": "code",
   "execution_count": 10,
   "metadata": {},
   "outputs": [
    {
     "name": "stdout",
     "output_type": "stream",
     "text": [
      "       country  source\n",
      "count   316200  316200\n",
      "unique       4       3\n",
      "top         US     Seo\n",
      "freq    178092  155040\n"
     ]
    }
   ],
   "source": [
    "# Summary for categorical variables\n",
    "print(data.describe(include=['object']))"
   ]
  },
  {
   "cell_type": "code",
   "execution_count": 11,
   "metadata": {},
   "outputs": [
    {
     "data": {
      "text/plain": [
       "Text(0.5, 1.0, 'Source')"
      ]
     },
     "execution_count": 11,
     "metadata": {},
     "output_type": "execute_result"
    },
    {
     "data": {
      "image/png": "[encoded data removed]",
      "text/plain": [
       "<Figure size 720x360 with 2 Axes>"
      ]
     },
     "metadata": {},
     "output_type": "display_data"
    }
   ],
   "source": [
    "fig, axarr = plt.subplots(1, 2, figsize=(10, 5))\n",
    "\n",
    "data.country.value_counts().plot.bar(ax=axarr[0], fontsize=12)\n",
    "axarr[0].set_title(\"Country\", fontsize=15)\n",
    "\n",
    "data.source.value_counts().plot.bar(ax=axarr[1], fontsize=12)\n",
    "axarr[1].set_title(\"Source\", fontsize=15)"
   ]
  },
  {
   "cell_type": "markdown",
   "metadata": {},
   "source": [
    "### 3.2 Feature Engineering"
   ]
  },
  {
   "cell_type": "markdown",
   "metadata": {},
   "source": [
    "#### 3.2.1 age outlier"
   ]
  },
  {
   "cell_type": "code",
   "execution_count": 12,
   "metadata": {},
   "outputs": [
    {
     "name": "stdout",
     "output_type": "stream",
     "text": [
      "[123, 111, 79, 77, 73, 72, 70, 69, 68, 67, 66, 65, 64, 63, 62, 61, 60, 59, 58, 57, 56, 55, 54, 53, 52, 51, 50, 49, 48, 47, 46, 45, 44, 43, 42, 41, 40, 39, 38, 37, 36, 35, 34, 33, 32, 31, 30, 29, 28, 27, 26, 25, 24, 23, 22, 21, 20, 19, 18, 17]\n"
     ]
    }
   ],
   "source": [
    "print(sorted(data['age'].unique(), reverse=True))"
   ]
  },
  {
   "cell_type": "code",
   "execution_count": 13,
   "metadata": {
    "scrolled": true
   },
   "outputs": [
    {
     "data": {
      "text/html": [
       "<div>\n",
       "<style scoped>\n",
       "    .dataframe tbody tr th:only-of-type {\n",
       "        vertical-align: middle;\n",
       "    }\n",
       "\n",
       "    .dataframe tbody tr th {\n",
       "        vertical-align: top;\n",
       "    }\n",
       "\n",
       "    .dataframe thead th {\n",
       "        text-align: right;\n",
       "    }\n",
       "</style>\n",
       "<table border=\"1\" class=\"dataframe\">\n",
       "  <thead>\n",
       "    <tr style=\"text-align: right;\">\n",
       "      <th></th>\n",
       "      <th>country</th>\n",
       "      <th>age</th>\n",
       "      <th>new_user</th>\n",
       "      <th>source</th>\n",
       "      <th>total_pages_visited</th>\n",
       "      <th>converted</th>\n",
       "    </tr>\n",
       "  </thead>\n",
       "  <tbody>\n",
       "    <tr>\n",
       "      <th>90928</th>\n",
       "      <td>Germany</td>\n",
       "      <td>123</td>\n",
       "      <td>0</td>\n",
       "      <td>Seo</td>\n",
       "      <td>15</td>\n",
       "      <td>1</td>\n",
       "    </tr>\n",
       "    <tr>\n",
       "      <th>295581</th>\n",
       "      <td>UK</td>\n",
       "      <td>111</td>\n",
       "      <td>0</td>\n",
       "      <td>Ads</td>\n",
       "      <td>10</td>\n",
       "      <td>1</td>\n",
       "    </tr>\n",
       "  </tbody>\n",
       "</table>\n",
       "</div>"
      ],
      "text/plain": [
       "        country  age  new_user source  total_pages_visited  converted\n",
       "90928   Germany  123         0    Seo                   15          1\n",
       "295581       UK  111         0    Ads                   10          1"
      ]
     },
     "execution_count": 13,
     "metadata": {},
     "output_type": "execute_result"
    }
   ],
   "source": [
    "age_outlier = data[data.age>100]\n",
    "age_outlier"
   ]
  },
  {
   "cell_type": "markdown",
   "metadata": {},
   "source": [
    "Since there're just 2 rows with the age outliers, we can just drop them."
   ]
  },
  {
   "cell_type": "code",
   "execution_count": 14,
   "metadata": {},
   "outputs": [
    {
     "name": "stdout",
     "output_type": "stream",
     "text": [
      "<class 'pandas.core.frame.DataFrame'>\n",
      "Int64Index: 316198 entries, 0 to 316199\n",
      "Data columns (total 6 columns):\n",
      "country                316198 non-null object\n",
      "age                    316198 non-null int64\n",
      "new_user               316198 non-null int64\n",
      "source                 316198 non-null object\n",
      "total_pages_visited    316198 non-null int64\n",
      "converted              316198 non-null int64\n",
      "dtypes: int64(4), object(2)\n",
      "memory usage: 16.9+ MB\n"
     ]
    }
   ],
   "source": [
    "# drop the rows with age outliers\n",
    "data1 = data.drop(age_outlier.index, axis=0)\n",
    "data1.info()"
   ]
  },
  {
   "cell_type": "markdown",
   "metadata": {},
   "source": [
    "### 3.3 Bivariate and Multivariate Analysis"
   ]
  },
  {
   "cell_type": "markdown",
   "metadata": {},
   "source": [
    "#### 3.3.1 Bivariate Analysis using pairplot and correlation/heatmap"
   ]
  },
  {
   "cell_type": "code",
   "execution_count": 15,
   "metadata": {},
   "outputs": [
    {
     "name": "stderr",
     "output_type": "stream",
     "text": [
      "/Users/cloris1022/anaconda3/lib/python3.7/site-packages/statsmodels/nonparametric/kde.py:488: RuntimeWarning: invalid value encountered in true_divide\n",
      "  binned = fast_linbin(X, a, b, gridsize) / (delta * nobs)\n",
      "/Users/cloris1022/anaconda3/lib/python3.7/site-packages/statsmodels/nonparametric/kdetools.py:34: RuntimeWarning: invalid value encountered in double_scalars\n",
      "  FAC1 = 2*(np.pi*bw/RANGE)**2\n"
     ]
    },
    {
     "data": {
      "text/plain": [
       "<seaborn.axisgrid.PairGrid at 0x11ba2a940>"
      ]
     },
     "execution_count": 15,
     "metadata": {},
     "output_type": "execute_result"
    },
    {
     "data": {
      "image/png": "[encoded data removed]",
      "text/plain": [
       "<Figure size 769.125x720 with 20 Axes>"
      ]
     },
     "metadata": {},
     "output_type": "display_data"
    }
   ],
   "source": [
    "# Bivariate relationship using pair plot\n",
    "seaborn.pairplot(data1,hue='converted')"
   ]
  },
  {
   "cell_type": "code",
   "execution_count": 16,
   "metadata": {},
   "outputs": [
    {
     "data": {
      "text/html": [
       "<div>\n",
       "<style scoped>\n",
       "    .dataframe tbody tr th:only-of-type {\n",
       "        vertical-align: middle;\n",
       "    }\n",
       "\n",
       "    .dataframe tbody tr th {\n",
       "        vertical-align: top;\n",
       "    }\n",
       "\n",
       "    .dataframe thead th {\n",
       "        text-align: right;\n",
       "    }\n",
       "</style>\n",
       "<table border=\"1\" class=\"dataframe\">\n",
       "  <thead>\n",
       "    <tr style=\"text-align: right;\">\n",
       "      <th></th>\n",
       "      <th>age</th>\n",
       "      <th>new_user</th>\n",
       "      <th>total_pages_visited</th>\n",
       "      <th>converted</th>\n",
       "    </tr>\n",
       "  </thead>\n",
       "  <tbody>\n",
       "    <tr>\n",
       "      <th>age</th>\n",
       "      <td>1.000000</td>\n",
       "      <td>0.012445</td>\n",
       "      <td>-0.046093</td>\n",
       "      <td>-0.089199</td>\n",
       "    </tr>\n",
       "    <tr>\n",
       "      <th>new_user</th>\n",
       "      <td>0.012445</td>\n",
       "      <td>1.000000</td>\n",
       "      <td>-0.082522</td>\n",
       "      <td>-0.152338</td>\n",
       "    </tr>\n",
       "    <tr>\n",
       "      <th>total_pages_visited</th>\n",
       "      <td>-0.046093</td>\n",
       "      <td>-0.082522</td>\n",
       "      <td>1.000000</td>\n",
       "      <td>0.528975</td>\n",
       "    </tr>\n",
       "    <tr>\n",
       "      <th>converted</th>\n",
       "      <td>-0.089199</td>\n",
       "      <td>-0.152338</td>\n",
       "      <td>0.528975</td>\n",
       "      <td>1.000000</td>\n",
       "    </tr>\n",
       "  </tbody>\n",
       "</table>\n",
       "</div>"
      ],
      "text/plain": [
       "                          age  new_user  total_pages_visited  converted\n",
       "age                  1.000000  0.012445            -0.046093  -0.089199\n",
       "new_user             0.012445  1.000000            -0.082522  -0.152338\n",
       "total_pages_visited -0.046093 -0.082522             1.000000   0.528975\n",
       "converted           -0.089199 -0.152338             0.528975   1.000000"
      ]
     },
     "execution_count": 16,
     "metadata": {},
     "output_type": "execute_result"
    }
   ],
   "source": [
    "# Correlation matrix\n",
    "data1.corr()"
   ]
  },
  {
   "cell_type": "code",
   "execution_count": 17,
   "metadata": {},
   "outputs": [
    {
     "data": {
      "text/plain": [
       "<matplotlib.axes._subplots.AxesSubplot at 0x11cb6a390>"
      ]
     },
     "execution_count": 17,
     "metadata": {},
     "output_type": "execute_result"
    },
    {
     "data": {
      "image/png": "[encoded data removed]",
      "text/plain": [
       "<Figure size 432x288 with 2 Axes>"
      ]
     },
     "metadata": {},
     "output_type": "display_data"
    }
   ],
   "source": [
    "# Heatmap for correlation\n",
    "seaborn.heatmap(data1.corr(),cmap='RdYlGn')"
   ]
  },
  {
   "cell_type": "markdown",
   "metadata": {},
   "source": [
    "The conversion rate has high correlation with the total_pages_viewed."
   ]
  },
  {
   "cell_type": "markdown",
   "metadata": {},
   "source": [
    "#### 3.3.2 Bivariate relationship with the target variable"
   ]
  },
  {
   "cell_type": "code",
   "execution_count": 18,
   "metadata": {},
   "outputs": [
    {
     "data": {
      "image/png": "[encoded data removed]",
      "text/plain": [
       "<Figure size 432x288 with 1 Axes>"
      ]
     },
     "metadata": {},
     "output_type": "display_data"
    }
   ],
   "source": [
    "# country vs converted\n",
    "data1.groupby(['country'])['converted'].mean().plot.bar()\n",
    "plt.show()"
   ]
  },
  {
   "cell_type": "markdown",
   "metadata": {},
   "source": [
    "German users have the highest conversion rate, and Chinese users have the lowest conversion rate."
   ]
  },
  {
   "cell_type": "code",
   "execution_count": 19,
   "metadata": {},
   "outputs": [
    {
     "data": {
      "image/png": "[encoded data removed]",
      "text/plain": [
       "<Figure size 432x288 with 1 Axes>"
      ]
     },
     "metadata": {},
     "output_type": "display_data"
    }
   ],
   "source": [
    "# age vs converted\n",
    "data1.groupby(['age'])['converted'].mean().plot.line()\n",
    "plt.show()"
   ]
  },
  {
   "cell_type": "markdown",
   "metadata": {},
   "source": [
    "Younger users have much higher conversion rate than the elder users."
   ]
  },
  {
   "cell_type": "code",
   "execution_count": 20,
   "metadata": {},
   "outputs": [
    {
     "data": {
      "image/png": "[encoded data removed]",
      "text/plain": [
       "<Figure size 432x288 with 1 Axes>"
      ]
     },
     "metadata": {},
     "output_type": "display_data"
    }
   ],
   "source": [
    "# source vs converted\n",
    "data1.groupby(['source'])['converted'].mean().plot.bar()\n",
    "plt.show()"
   ]
  },
  {
   "cell_type": "code",
   "execution_count": 21,
   "metadata": {},
   "outputs": [
    {
     "data": {
      "image/png": "[encoded data removed]",
      "text/plain": [
       "<Figure size 432x288 with 1 Axes>"
      ]
     },
     "metadata": {},
     "output_type": "display_data"
    }
   ],
   "source": [
    "# new_user vs converted\n",
    "data1.groupby(['new_user'])['converted'].mean().plot.bar()\n",
    "plt.show()"
   ]
  },
  {
   "cell_type": "code",
   "execution_count": 22,
   "metadata": {},
   "outputs": [
    {
     "data": {
      "image/png": "[encoded data removed]",
      "text/plain": [
       "<Figure size 432x288 with 1 Axes>"
      ]
     },
     "metadata": {},
     "output_type": "display_data"
    }
   ],
   "source": [
    "# total pages visited vs converted\n",
    "data1.groupby(['total_pages_visited'])['converted'].mean().plot.line()\n",
    "plt.show()"
   ]
  },
  {
   "cell_type": "markdown",
   "metadata": {},
   "source": [
    "The more pages users spent time on visiting, the higher the conversion rate."
   ]
  },
  {
   "cell_type": "markdown",
   "metadata": {},
   "source": [
    "#### 3.3.3 Multivariate relationship among variables"
   ]
  },
  {
   "cell_type": "code",
   "execution_count": 23,
   "metadata": {},
   "outputs": [
    {
     "data": {
      "text/plain": [
       "<seaborn.axisgrid.FacetGrid at 0x11de699b0>"
      ]
     },
     "execution_count": 23,
     "metadata": {},
     "output_type": "execute_result"
    },
    {
     "data": {
      "image/png": "[encoded data removed]",
      "text/plain": [
       "<Figure size 409.125x360 with 1 Axes>"
      ]
     },
     "metadata": {},
     "output_type": "display_data"
    }
   ],
   "source": [
    "seaborn.catplot(x='new_user', y='age', hue='converted', kind='violin', data=data1)"
   ]
  },
  {
   "cell_type": "markdown",
   "metadata": {},
   "source": [
    "Younger users convert more than elder users."
   ]
  },
  {
   "cell_type": "code",
   "execution_count": 24,
   "metadata": {},
   "outputs": [
    {
     "data": {
      "text/plain": [
       "<seaborn.axisgrid.FacetGrid at 0x1a20fac710>"
      ]
     },
     "execution_count": 24,
     "metadata": {},
     "output_type": "execute_result"
    },
    {
     "data": {
      "image/png": "[encoded data removed]",
      "text/plain": [
       "<Figure size 409.125x360 with 1 Axes>"
      ]
     },
     "metadata": {},
     "output_type": "display_data"
    }
   ],
   "source": [
    "seaborn.catplot(x='new_user', y='total_pages_visited', hue='converted', kind='violin', data=data1)"
   ]
  },
  {
   "cell_type": "markdown",
   "metadata": {},
   "source": [
    "Users who visit more pages are more likely to convert."
   ]
  },
  {
   "cell_type": "markdown",
   "metadata": {},
   "source": [
    "## 4. Data Preparation:\n",
    "* Data Cleaning: \n",
    "    * Check duplicates\n",
    "    * Fill in missing values if any\n",
    "    * Get dummies for categorical variables\n",
    "* Feature Selection / Dimensionality Reduction: to understand the fields in the data that account for the most variance between observations and allow for the processing of a reduced volume of data"
   ]
  },
  {
   "cell_type": "markdown",
   "metadata": {},
   "source": [
    "### 4.1 Data Cleaning"
   ]
  },
  {
   "cell_type": "code",
   "execution_count": 25,
   "metadata": {},
   "outputs": [
    {
     "data": {
      "text/html": [
       "<div>\n",
       "<style scoped>\n",
       "    .dataframe tbody tr th:only-of-type {\n",
       "        vertical-align: middle;\n",
       "    }\n",
       "\n",
       "    .dataframe tbody tr th {\n",
       "        vertical-align: top;\n",
       "    }\n",
       "\n",
       "    .dataframe thead th {\n",
       "        text-align: right;\n",
       "    }\n",
       "</style>\n",
       "<table border=\"1\" class=\"dataframe\">\n",
       "  <thead>\n",
       "    <tr style=\"text-align: right;\">\n",
       "      <th></th>\n",
       "      <th>age</th>\n",
       "      <th>new_user</th>\n",
       "      <th>total_pages_visited</th>\n",
       "      <th>converted</th>\n",
       "      <th>country_Germany</th>\n",
       "      <th>country_UK</th>\n",
       "      <th>country_US</th>\n",
       "      <th>source_Direct</th>\n",
       "      <th>source_Seo</th>\n",
       "    </tr>\n",
       "  </thead>\n",
       "  <tbody>\n",
       "    <tr>\n",
       "      <th>0</th>\n",
       "      <td>25</td>\n",
       "      <td>1</td>\n",
       "      <td>1</td>\n",
       "      <td>0</td>\n",
       "      <td>0</td>\n",
       "      <td>1</td>\n",
       "      <td>0</td>\n",
       "      <td>0</td>\n",
       "      <td>0</td>\n",
       "    </tr>\n",
       "    <tr>\n",
       "      <th>1</th>\n",
       "      <td>23</td>\n",
       "      <td>1</td>\n",
       "      <td>5</td>\n",
       "      <td>0</td>\n",
       "      <td>0</td>\n",
       "      <td>0</td>\n",
       "      <td>1</td>\n",
       "      <td>0</td>\n",
       "      <td>1</td>\n",
       "    </tr>\n",
       "    <tr>\n",
       "      <th>2</th>\n",
       "      <td>28</td>\n",
       "      <td>1</td>\n",
       "      <td>4</td>\n",
       "      <td>0</td>\n",
       "      <td>0</td>\n",
       "      <td>0</td>\n",
       "      <td>1</td>\n",
       "      <td>0</td>\n",
       "      <td>1</td>\n",
       "    </tr>\n",
       "    <tr>\n",
       "      <th>3</th>\n",
       "      <td>39</td>\n",
       "      <td>1</td>\n",
       "      <td>5</td>\n",
       "      <td>0</td>\n",
       "      <td>0</td>\n",
       "      <td>0</td>\n",
       "      <td>0</td>\n",
       "      <td>0</td>\n",
       "      <td>1</td>\n",
       "    </tr>\n",
       "    <tr>\n",
       "      <th>4</th>\n",
       "      <td>30</td>\n",
       "      <td>1</td>\n",
       "      <td>6</td>\n",
       "      <td>0</td>\n",
       "      <td>0</td>\n",
       "      <td>0</td>\n",
       "      <td>1</td>\n",
       "      <td>0</td>\n",
       "      <td>1</td>\n",
       "    </tr>\n",
       "  </tbody>\n",
       "</table>\n",
       "</div>"
      ],
      "text/plain": [
       "   age  new_user  total_pages_visited  converted  country_Germany  country_UK  \\\n",
       "0   25         1                    1          0                0           1   \n",
       "1   23         1                    5          0                0           0   \n",
       "2   28         1                    4          0                0           0   \n",
       "3   39         1                    5          0                0           0   \n",
       "4   30         1                    6          0                0           0   \n",
       "\n",
       "   country_US  source_Direct  source_Seo  \n",
       "0           0              0           0  \n",
       "1           1              0           1  \n",
       "2           1              0           1  \n",
       "3           0              0           1  \n",
       "4           1              0           1  "
      ]
     },
     "execution_count": 25,
     "metadata": {},
     "output_type": "execute_result"
    }
   ],
   "source": [
    "# Get dummies for the categorical variables\n",
    "data2 = pd.get_dummies(data1, drop_first = True)\n",
    "data2.head()"
   ]
  },
  {
   "cell_type": "markdown",
   "metadata": {},
   "source": [
    "### 4.2 Feature Selection"
   ]
  },
  {
   "cell_type": "code",
   "execution_count": 26,
   "metadata": {},
   "outputs": [
    {
     "data": {
      "text/plain": [
       "((316198, 8), (316198,))"
      ]
     },
     "execution_count": 26,
     "metadata": {},
     "output_type": "execute_result"
    }
   ],
   "source": [
    "# Define training data and target variable - converted\n",
    "train_data = data2.drop(columns = ['converted'],axis=1)\n",
    "target = data2['converted']\n",
    "train_data.shape, target.shape"
   ]
  },
  {
   "cell_type": "code",
   "execution_count": 27,
   "metadata": {},
   "outputs": [
    {
     "data": {
      "text/plain": [
       "RandomForestClassifier(bootstrap=True, class_weight=None, criterion='gini',\n",
       "            max_depth=None, max_features='auto', max_leaf_nodes=None,\n",
       "            min_impurity_decrease=0.0, min_impurity_split=None,\n",
       "            min_samples_leaf=1, min_samples_split=2,\n",
       "            min_weight_fraction_leaf=0.0, n_estimators=100, n_jobs=None,\n",
       "            oob_score=False, random_state=25, verbose=0, warm_start=False)"
      ]
     },
     "execution_count": 27,
     "metadata": {},
     "output_type": "execute_result"
    }
   ],
   "source": [
    "# Use random forest classifier for feature selection\n",
    "from sklearn.ensemble import RandomForestClassifier\n",
    "rfc = RandomForestClassifier(random_state=25, n_estimators=100)\n",
    "rfc.fit(train_data, target)"
   ]
  },
  {
   "cell_type": "code",
   "execution_count": 28,
   "metadata": {
    "scrolled": true
   },
   "outputs": [
    {
     "data": {
      "image/png": "[encoded data removed]",
      "text/plain": [
       "<Figure size 432x288 with 1 Axes>"
      ]
     },
     "metadata": {},
     "output_type": "display_data"
    }
   ],
   "source": [
    "# Look at the top most important features\n",
    "features = train_data.columns\n",
    "importances = rfc.feature_importances_\n",
    "indices = np.argsort(importances)[-9:]  # top 10 features\n",
    "plt.title('Feature Importances')\n",
    "plt.barh(range(len(indices)), importances[indices], color='b', align='center')\n",
    "plt.yticks(range(len(indices)), [features[i] for i in indices])\n",
    "plt.xlabel('Relative Importance')\n",
    "plt.show()"
   ]
  },
  {
   "cell_type": "markdown",
   "metadata": {},
   "source": [
    "## 5. Predictive Modeling\n",
    "* Train-Test split\n",
    "* For imbalanced data: Re-sampling the data in order to mitigate the effect caused by class imbalance. \n",
    "    * The two most common techniques are over-sampling and under-sampling.\n",
    "* Model selection based on training data\n",
    "* Model evaluation and Testing"
   ]
  },
  {
   "cell_type": "markdown",
   "metadata": {},
   "source": [
    "### 5.1 Split training and testing sets"
   ]
  },
  {
   "cell_type": "code",
   "execution_count": 29,
   "metadata": {},
   "outputs": [
    {
     "data": {
      "text/plain": [
       "((252958, 8), (63240, 8), (252958,), (63240,))"
      ]
     },
     "execution_count": 29,
     "metadata": {},
     "output_type": "execute_result"
    }
   ],
   "source": [
    "from sklearn.model_selection import train_test_split\n",
    "X_train, X_test, y_train, y_test = train_test_split(train_data, target, test_size=0.2, random_state=25)\n",
    "X_train.shape, X_test.shape, y_train.shape, y_test.shape"
   ]
  },
  {
   "cell_type": "markdown",
   "metadata": {},
   "source": [
    "### 5.2 Re-sampling for Imbalanced data\n",
    "* Over-sampling increases the number of minority class members in the training set, is preferred and employed more frequently than Under-sampling.\n",
    "* The most common over-sampling technique is known as SMOTE (Synthetic Minority Over-sampling Technique), but this method can generate noisy samples by interpolating new points between marginal outliers and inliers.\n",
    "* In this regard, Tomek’s link and edited nearest-neighbours (ENN) are the two cleaning methods that have been added to the pipeline after applying SMOTE over-sampling to obtain a cleaner space."
   ]
  },
  {
   "cell_type": "code",
   "execution_count": 30,
   "metadata": {},
   "outputs": [],
   "source": [
    "# Import modules for imbalanced techniques\n",
    "from collections import Counter\n",
    "from imblearn.combine import SMOTEENN"
   ]
  },
  {
   "cell_type": "code",
   "execution_count": 31,
   "metadata": {},
   "outputs": [
    {
     "name": "stdout",
     "output_type": "stream",
     "text": [
      "[(0, 221285), (1, 215834)]\n"
     ]
    }
   ],
   "source": [
    "# Resample the training data using Smote_ENN technique\n",
    "smote_enn = SMOTEENN(random_state=0)\n",
    "X_train_bl, y_train_bl = smote_enn.fit_resample(X_train, y_train)\n",
    "print(sorted(Counter(y_train_bl).items()))"
   ]
  },
  {
   "cell_type": "markdown",
   "metadata": {},
   "source": [
    "Now the training data is more balanced."
   ]
  },
  {
   "cell_type": "markdown",
   "metadata": {},
   "source": [
    "### 5.3 Train model and Algorithm selection"
   ]
  },
  {
   "cell_type": "markdown",
   "metadata": {},
   "source": [
    "From the data, a Random Forest Classifier and many other algorithms should fit, but let's prove by model selection:"
   ]
  },
  {
   "cell_type": "code",
   "execution_count": 32,
   "metadata": {},
   "outputs": [],
   "source": [
    "# Import the Classification modules\n",
    "from sklearn.ensemble import RandomForestClassifier\n",
    "from sklearn.ensemble import ExtraTreesClassifier\n",
    "from sklearn.ensemble import GradientBoostingClassifier\n",
    "from xgboost.sklearn import XGBClassifier\n",
    "from sklearn.neighbors import KNeighborsClassifier\n",
    "from sklearn.linear_model import LogisticRegression\n",
    "from sklearn.svm import SVC\n",
    "from sklearn.naive_bayes import GaussianNB\n",
    "from sklearn.naive_bayes import BernoulliNB"
   ]
  },
  {
   "cell_type": "code",
   "execution_count": 33,
   "metadata": {},
   "outputs": [],
   "source": [
    "# Name the models to be used:\n",
    "algorithms = [RandomForestClassifier(n_estimators=100), ExtraTreesClassifier(n_estimators=100), \n",
    "              GradientBoostingClassifier(n_estimators=100), XGBClassifier(n_estimators=100), \n",
    "              KNeighborsClassifier(), LogisticRegression(solver='lbfgs'), \n",
    "              GaussianNB(), BernoulliNB()]\n",
    "names = ['RFC', 'ETC', 'GBC', 'XGB', 'KNN', 'LoR', 'GNB', 'BNB']"
   ]
  },
  {
   "cell_type": "code",
   "execution_count": 34,
   "metadata": {},
   "outputs": [],
   "source": [
    "# Use K-fold cross validation:\n",
    "from sklearn.model_selection import KFold\n",
    "from sklearn.model_selection import cross_val_score\n",
    "kfold = KFold(n_splits=5)"
   ]
  },
  {
   "cell_type": "code",
   "execution_count": 35,
   "metadata": {},
   "outputs": [
    {
     "name": "stdout",
     "output_type": "stream",
     "text": [
      "RFC Mean: 0.9997529280483413 ; Std Dev: 0.00020761425208061255\n",
      "ETC Mean: 0.9998124084134428 ; Std Dev: 0.0001513344319135129\n",
      "GBC Mean: 0.9791063779139657 ; Std Dev: 0.0031099377405870107\n",
      "XGB Mean: 0.9787632215649081 ; Std Dev: 0.003069814177390911\n",
      "KNN Mean: 0.9986822834129591 ; Std Dev: 0.0011178733740734759\n"
     ]
    },
    {
     "name": "stderr",
     "output_type": "stream",
     "text": [
      "/Users/cloris1022/anaconda3/lib/python3.7/site-packages/sklearn/linear_model/logistic.py:758: ConvergenceWarning: lbfgs failed to converge. Increase the number of iterations.\n",
      "  \"of iterations.\", ConvergenceWarning)\n",
      "/Users/cloris1022/anaconda3/lib/python3.7/site-packages/sklearn/linear_model/logistic.py:758: ConvergenceWarning: lbfgs failed to converge. Increase the number of iterations.\n",
      "  \"of iterations.\", ConvergenceWarning)\n",
      "/Users/cloris1022/anaconda3/lib/python3.7/site-packages/sklearn/linear_model/logistic.py:758: ConvergenceWarning: lbfgs failed to converge. Increase the number of iterations.\n",
      "  \"of iterations.\", ConvergenceWarning)\n",
      "/Users/cloris1022/anaconda3/lib/python3.7/site-packages/sklearn/linear_model/logistic.py:758: ConvergenceWarning: lbfgs failed to converge. Increase the number of iterations.\n",
      "  \"of iterations.\", ConvergenceWarning)\n",
      "/Users/cloris1022/anaconda3/lib/python3.7/site-packages/sklearn/linear_model/logistic.py:758: ConvergenceWarning: lbfgs failed to converge. Increase the number of iterations.\n",
      "  \"of iterations.\", ConvergenceWarning)\n"
     ]
    },
    {
     "name": "stdout",
     "output_type": "stream",
     "text": [
      "LoR Mean: 0.9781615500734979 ; Std Dev: 0.0030196030816761438\n",
      "GNB Mean: 0.9721700615261362 ; Std Dev: 0.006652271293752177\n",
      "BNB Mean: 0.7622067072338864 ; Std Dev: 0.02961410816540006\n"
     ]
    },
    {
     "data": {
      "image/png": "[encoded data removed]",
      "text/plain": [
       "<Figure size 432x288 with 1 Axes>"
      ]
     },
     "metadata": {},
     "output_type": "display_data"
    }
   ],
   "source": [
    "for model, name in zip(algorithms, names):\n",
    "    cv_results = cross_val_score(model, X_train_bl, y_train_bl, scoring='accuracy', cv=kfold)\n",
    "    print(name, \"Mean:\", cv_results.mean(), \"; Std Dev:\", cv_results.std())\n",
    "    plt.bar(name, cv_results.mean())"
   ]
  },
  {
   "cell_type": "markdown",
   "metadata": {},
   "source": [
    "From the above, RFC and ETC algorithms perform better."
   ]
  },
  {
   "cell_type": "markdown",
   "metadata": {},
   "source": [
    "### 5.4 Model/Parameter Tuning"
   ]
  },
  {
   "cell_type": "code",
   "execution_count": 36,
   "metadata": {},
   "outputs": [
    {
     "data": {
      "text/plain": [
       "{'bootstrap': True,\n",
       " 'class_weight': None,\n",
       " 'criterion': 'gini',\n",
       " 'max_depth': None,\n",
       " 'max_features': 'auto',\n",
       " 'max_leaf_nodes': None,\n",
       " 'min_impurity_decrease': 0.0,\n",
       " 'min_impurity_split': None,\n",
       " 'min_samples_leaf': 1,\n",
       " 'min_samples_split': 2,\n",
       " 'min_weight_fraction_leaf': 0.0,\n",
       " 'n_estimators': 'warn',\n",
       " 'n_jobs': None,\n",
       " 'oob_score': False,\n",
       " 'random_state': None,\n",
       " 'verbose': 0,\n",
       " 'warm_start': False}"
      ]
     },
     "execution_count": 36,
     "metadata": {},
     "output_type": "execute_result"
    }
   ],
   "source": [
    "RandomForestClassifier().get_params()"
   ]
  },
  {
   "cell_type": "markdown",
   "metadata": {},
   "source": [
    "#### 5.4.1 Randomized Search Cross Validation"
   ]
  },
  {
   "cell_type": "code",
   "execution_count": 38,
   "metadata": {},
   "outputs": [
    {
     "name": "stdout",
     "output_type": "stream",
     "text": [
      "{'n_estimators': [100, 325, 550, 775, 1000], 'max_features': ['auto', 'sqrt'], 'max_depth': [10, 32, 55, 77, 100, None], 'min_samples_split': [2, 5, 10], 'min_samples_leaf': [1, 2, 4], 'bootstrap': [True, False]}\n"
     ]
    }
   ],
   "source": [
    "from sklearn.model_selection import RandomizedSearchCV\n",
    "# Number of trees in random forest\n",
    "n_estimators = [int(x) for x in np.linspace(start = 100, stop = 1000, num = 5)]\n",
    "# Number of features to consider at every split\n",
    "max_features = ['auto', 'sqrt']\n",
    "# Maximum number of levels in tree\n",
    "max_depth = [int(x) for x in np.linspace(10, 100, num = 5)]\n",
    "max_depth.append(None)\n",
    "# Minimum number of samples required to split a node\n",
    "min_samples_split = [2, 5, 10]\n",
    "# Minimum number of samples required at each leaf node\n",
    "min_samples_leaf = [1, 2, 4]\n",
    "# Method of selecting samples for training each tree\n",
    "bootstrap = [True, False]\n",
    "# Create the random grid\n",
    "random_grid = {'n_estimators': n_estimators,\n",
    "               'max_features': max_features,\n",
    "               'max_depth': max_depth,\n",
    "               'min_samples_split': min_samples_split,\n",
    "               'min_samples_leaf': min_samples_leaf,\n",
    "               'bootstrap': bootstrap}\n",
    "print(random_grid)"
   ]
  },
  {
   "cell_type": "code",
   "execution_count": 39,
   "metadata": {},
   "outputs": [
    {
     "name": "stdout",
     "output_type": "stream",
     "text": [
      "Fitting 3 folds for each of 10 candidates, totalling 30 fits\n"
     ]
    },
    {
     "name": "stderr",
     "output_type": "stream",
     "text": [
      "[Parallel(n_jobs=-1)]: Using backend LokyBackend with 4 concurrent workers.\n",
      "[Parallel(n_jobs=-1)]: Done  30 out of  30 | elapsed: 68.3min finished\n"
     ]
    },
    {
     "data": {
      "text/plain": [
       "RandomizedSearchCV(cv=3, error_score='raise-deprecating',\n",
       "          estimator=RandomForestClassifier(bootstrap=True, class_weight=None, criterion='gini',\n",
       "            max_depth=None, max_features='auto', max_leaf_nodes=None,\n",
       "            min_impurity_decrease=0.0, min_impurity_split=None,\n",
       "            min_samples_leaf=1, min_samples_split=2,\n",
       "            min_weight_fraction_leaf=0.0, n_estimators='warn', n_jobs=None,\n",
       "            oob_score=False, random_state=None, verbose=0,\n",
       "            warm_start=False),\n",
       "          fit_params=None, iid='warn', n_iter=10, n_jobs=-1,\n",
       "          param_distributions={'n_estimators': [100, 325, 550, 775, 1000], 'max_features': ['auto', 'sqrt'], 'max_depth': [10, 32, 55, 77, 100, None], 'min_samples_split': [2, 5, 10], 'min_samples_leaf': [1, 2, 4], 'bootstrap': [True, False]},\n",
       "          pre_dispatch='2*n_jobs', random_state=25, refit=True,\n",
       "          return_train_score='warn', scoring='accuracy', verbose=2)"
      ]
     },
     "execution_count": 39,
     "metadata": {},
     "output_type": "execute_result"
    }
   ],
   "source": [
    "# Use the random grid to search for best hyperparameters\n",
    "# First create the base model to tune\n",
    "rf = RandomForestClassifier()\n",
    "# Random search of parameters, using 3 fold cross validation, \n",
    "# search across 10 different combinations, and use all available cores\n",
    "rf_random = RandomizedSearchCV(estimator = rf, param_distributions = random_grid, n_iter = 10, scoring='accuracy', \n",
    "                               cv = 3, verbose=2, random_state=25, n_jobs = -1)\n",
    "# Fit the random search model\n",
    "rf_random.fit(X_train_bl, y_train_bl)"
   ]
  },
  {
   "cell_type": "code",
   "execution_count": 40,
   "metadata": {},
   "outputs": [
    {
     "data": {
      "text/plain": [
       "{'n_estimators': 775,\n",
       " 'min_samples_split': 2,\n",
       " 'min_samples_leaf': 1,\n",
       " 'max_features': 'sqrt',\n",
       " 'max_depth': 77,\n",
       " 'bootstrap': True}"
      ]
     },
     "execution_count": 40,
     "metadata": {},
     "output_type": "execute_result"
    }
   ],
   "source": [
    "# View the best parameters from fitting the random search\n",
    "rf_random.best_params_"
   ]
  },
  {
   "cell_type": "markdown",
   "metadata": {},
   "source": [
    "#### 5.4.2 Grid Search Cross Validation"
   ]
  },
  {
   "cell_type": "code",
   "execution_count": 41,
   "metadata": {},
   "outputs": [
    {
     "name": "stdout",
     "output_type": "stream",
     "text": [
      "Fitting 3 folds for each of 36 candidates, totalling 108 fits\n"
     ]
    },
    {
     "name": "stderr",
     "output_type": "stream",
     "text": [
      "[Parallel(n_jobs=-1)]: Using backend LokyBackend with 4 concurrent workers.\n",
      "[Parallel(n_jobs=-1)]: Done  33 tasks      | elapsed: 96.5min\n",
      "[Parallel(n_jobs=-1)]: Done 108 out of 108 | elapsed: 207.9min finished\n"
     ]
    },
    {
     "data": {
      "text/plain": [
       "GridSearchCV(cv=3, error_score='raise-deprecating',\n",
       "       estimator=RandomForestClassifier(bootstrap=True, class_weight=None, criterion='gini',\n",
       "            max_depth=None, max_features='auto', max_leaf_nodes=None,\n",
       "            min_impurity_decrease=0.0, min_impurity_split=None,\n",
       "            min_samples_leaf=1, min_samples_split=2,\n",
       "            min_weight_fraction_leaf=0.0, n_estimators='warn', n_jobs=None,\n",
       "            oob_score=False, random_state=None, verbose=0,\n",
       "            warm_start=False),\n",
       "       fit_params=None, iid='warn', n_jobs=-1,\n",
       "       param_grid={'n_estimators': [700, 800, 900], 'min_samples_split': [2, 3], 'min_samples_leaf': [1, 2], 'max_features': ['sqrt'], 'max_depth': [70, 80, 90], 'bootstrap': [True]},\n",
       "       pre_dispatch='2*n_jobs', refit=True, return_train_score='warn',\n",
       "       scoring='accuracy', verbose=2)"
      ]
     },
     "execution_count": 41,
     "metadata": {},
     "output_type": "execute_result"
    }
   ],
   "source": [
    "from sklearn.model_selection import GridSearchCV\n",
    "# Create the parameter grid based on the results of random search.\n",
    "param_grid = {\n",
    "    'n_estimators': [700, 800, 900],\n",
    "    'min_samples_split': [2, 3],\n",
    "    'min_samples_leaf': [1, 2],\n",
    "    'max_features': ['sqrt'],\n",
    "    'max_depth': [70, 80, 90],\n",
    "    'bootstrap': [True]\n",
    "}\n",
    "# Create a based model\n",
    "rf = RandomForestClassifier()\n",
    "# Instantiate the grid search model\n",
    "grid_search = GridSearchCV(estimator = rf, param_grid = param_grid, scoring='accuracy', \n",
    "                           cv = 3, n_jobs = -1, verbose = 2)\n",
    "# Fit the grid search to the data\n",
    "grid_search.fit(X_train_bl, y_train_bl)"
   ]
  },
  {
   "cell_type": "code",
   "execution_count": 42,
   "metadata": {},
   "outputs": [
    {
     "data": {
      "text/plain": [
       "{'bootstrap': True,\n",
       " 'max_depth': 80,\n",
       " 'max_features': 'sqrt',\n",
       " 'min_samples_leaf': 1,\n",
       " 'min_samples_split': 2,\n",
       " 'n_estimators': 900}"
      ]
     },
     "execution_count": 42,
     "metadata": {},
     "output_type": "execute_result"
    }
   ],
   "source": [
    "# View the best parameters from fitting the grid search\n",
    "grid_search.best_params_"
   ]
  },
  {
   "cell_type": "markdown",
   "metadata": {},
   "source": [
    "## 6. Testing and Evaluation"
   ]
  },
  {
   "cell_type": "markdown",
   "metadata": {},
   "source": [
    "### 6.1 Evaluation from Model Tuning"
   ]
  },
  {
   "cell_type": "code",
   "execution_count": 43,
   "metadata": {},
   "outputs": [],
   "source": [
    "from sklearn.metrics import accuracy_score, f1_score, confusion_matrix, classification_report \n",
    "from imblearn.metrics import geometric_mean_score, classification_report_imbalanced"
   ]
  },
  {
   "cell_type": "code",
   "execution_count": 44,
   "metadata": {},
   "outputs": [
    {
     "data": {
      "text/plain": [
       "array([0, 0, 0, ..., 0, 0, 0])"
      ]
     },
     "execution_count": 44,
     "metadata": {},
     "output_type": "execute_result"
    }
   ],
   "source": [
    "# Base model\n",
    "base_model = RandomForestClassifier(n_estimators = 10, random_state = 25)\n",
    "base_model.fit(X_train_bl, y_train_bl)\n",
    "# Apply the algorithm on the test data\n",
    "y_pred_base = base_model.predict(X_test)\n",
    "y_pred_base"
   ]
  },
  {
   "cell_type": "code",
   "execution_count": 45,
   "metadata": {},
   "outputs": [
    {
     "data": {
      "text/plain": [
       "array([0, 0, 0, ..., 0, 0, 0])"
      ]
     },
     "execution_count": 45,
     "metadata": {},
     "output_type": "execute_result"
    }
   ],
   "source": [
    "# Model from randomized search\n",
    "best_random = rf_random.best_estimator_\n",
    "best_random.fit(X_train_bl, y_train_bl)\n",
    "# Apply the algorithm on the test data\n",
    "y_pred_rand = best_random.predict(X_test)\n",
    "y_pred_rand"
   ]
  },
  {
   "cell_type": "code",
   "execution_count": 46,
   "metadata": {},
   "outputs": [
    {
     "data": {
      "text/plain": [
       "array([0, 0, 0, ..., 0, 0, 0])"
      ]
     },
     "execution_count": 46,
     "metadata": {},
     "output_type": "execute_result"
    }
   ],
   "source": [
    "# Model from randomized search\n",
    "best_grid = grid_search.best_estimator_\n",
    "best_grid.fit(X_train_bl, y_train_bl)\n",
    "# Apply the algorithm on the test data\n",
    "y_pred_grid = best_grid.predict(X_test)\n",
    "y_pred_grid"
   ]
  },
  {
   "cell_type": "markdown",
   "metadata": {},
   "source": [
    "### 6.2 View metrics for model performance"
   ]
  },
  {
   "cell_type": "code",
   "execution_count": 47,
   "metadata": {},
   "outputs": [
    {
     "name": "stdout",
     "output_type": "stream",
     "text": [
      "Base model\n",
      "Accuracy score:  0.9549335863377609\n",
      "F1 score:  0.5523091423185674\n",
      "Geometric mean score:  0.9088431068016057\n",
      "Confusion Matrix: \n",
      "[[58632  2569]\n",
      " [  281  1758]]\n",
      "Classification report: \n",
      "                   pre       rec       spe        f1       geo       iba       sup\n",
      "\n",
      "          0       1.00      0.96      0.86      0.98      0.91      0.83     61201\n",
      "          1       0.41      0.86      0.96      0.55      0.91      0.82      2039\n",
      "\n",
      "avg / total       0.98      0.95      0.87      0.96      0.91      0.83     63240\n",
      "\n"
     ]
    }
   ],
   "source": [
    "# Base model\n",
    "print('Base model')\n",
    "print('Accuracy score: ', accuracy_score(y_test, y_pred_base))\n",
    "print('F1 score: ', f1_score(y_test, y_pred_base))\n",
    "print('Geometric mean score: ', geometric_mean_score(y_test, y_pred_base))\n",
    "print('Confusion Matrix: ')\n",
    "print(confusion_matrix(y_test, y_pred_base)) \n",
    "print('Classification report: ')\n",
    "print(classification_report_imbalanced(y_test, y_pred_base))"
   ]
  },
  {
   "cell_type": "code",
   "execution_count": 48,
   "metadata": {},
   "outputs": [
    {
     "name": "stdout",
     "output_type": "stream",
     "text": [
      "Model from randomized search\n",
      "Accuracy score:  0.9539531941808982\n",
      "F1 score:  0.5472636815920398\n",
      "Geometric mean score:  0.9088634921574742\n",
      "Confusion Matrix: \n",
      "[[58568  2633]\n",
      " [  279  1760]]\n",
      "Classification report: \n",
      "                   pre       rec       spe        f1       geo       iba       sup\n",
      "\n",
      "          0       1.00      0.96      0.86      0.98      0.91      0.83     61201\n",
      "          1       0.40      0.86      0.96      0.55      0.91      0.82      2039\n",
      "\n",
      "avg / total       0.98      0.95      0.87      0.96      0.91      0.83     63240\n",
      "\n"
     ]
    }
   ],
   "source": [
    "# Model from randomized search\n",
    "print('Model from randomized search')\n",
    "print('Accuracy score: ', accuracy_score(y_test, y_pred_rand))\n",
    "print('F1 score: ', f1_score(y_test, y_pred_rand))\n",
    "print('Geometric mean score: ', geometric_mean_score(y_test, y_pred_rand))\n",
    "print('Confusion Matrix: ')\n",
    "print(confusion_matrix(y_test, y_pred_rand)) \n",
    "print('Classification report: ')\n",
    "print(classification_report_imbalanced(y_test, y_pred_rand))"
   ]
  },
  {
   "cell_type": "code",
   "execution_count": 49,
   "metadata": {},
   "outputs": [
    {
     "name": "stdout",
     "output_type": "stream",
     "text": [
      "Model from grid search\n",
      "Accuracy score:  0.9536369386464263\n",
      "F1 score:  0.5457080880074372\n",
      "Geometric mean score:  0.9089586545072417\n",
      "Confusion Matrix: \n",
      "[[58547  2654]\n",
      " [  278  1761]]\n",
      "Classification report: \n",
      "                   pre       rec       spe        f1       geo       iba       sup\n",
      "\n",
      "          0       1.00      0.96      0.86      0.98      0.91      0.83     61201\n",
      "          1       0.40      0.86      0.96      0.55      0.91      0.82      2039\n",
      "\n",
      "avg / total       0.98      0.95      0.87      0.96      0.91      0.83     63240\n",
      "\n"
     ]
    }
   ],
   "source": [
    "# Model from grid search\n",
    "print('Model from grid search')\n",
    "print('Accuracy score: ', accuracy_score(y_test, y_pred_grid))\n",
    "print('F1 score: ', f1_score(y_test, y_pred_grid))\n",
    "print('Geometric mean score: ', geometric_mean_score(y_test, y_pred_grid))\n",
    "print('Confusion Matrix: ')\n",
    "print(confusion_matrix(y_test, y_pred_grid)) \n",
    "print('Classification report: ')\n",
    "print(classification_report_imbalanced(y_test, y_pred_grid))"
   ]
  },
  {
   "cell_type": "markdown",
   "metadata": {},
   "source": [
    "From the above metrics, I will choose the base model, for its (1) higher scores, (2) lower false positives and false negatives."
   ]
  },
  {
   "cell_type": "markdown",
   "metadata": {},
   "source": [
    "### 6.3 View Partial Dependence Plot\n",
    "* Partial dependence plots show how each variable or predictor affects the model's predictions."
   ]
  },
  {
   "cell_type": "code",
   "execution_count": 50,
   "metadata": {},
   "outputs": [],
   "source": [
    "from pdpbox import pdp, info_plots"
   ]
  },
  {
   "cell_type": "code",
   "execution_count": 54,
   "metadata": {},
   "outputs": [],
   "source": [
    "# Convert the array to pandas Dataframe\n",
    "X_train_pdp = pd.DataFrame({'age':X_train_bl[:,0],'new_user':X_train_bl[:,1], 'total_pages_visited':X_train_bl[:,2], \n",
    "                            'country_Germany':X_train_bl[:,3], 'country_UK':X_train_bl[:,4], 'country_US':X_train_bl[:,5], \n",
    "                            'source_Direct':X_train_bl[:,6], 'source_Seo':X_train_bl[:,7]})"
   ]
  },
  {
   "cell_type": "code",
   "execution_count": 55,
   "metadata": {},
   "outputs": [
    {
     "data": {
      "image/png": "[encoded data removed]",
      "text/plain": [
       "<Figure size 432x288 with 1 Axes>"
      ]
     },
     "metadata": {},
     "output_type": "display_data"
    }
   ],
   "source": [
    "# Country\n",
    "pdp_iso = pdp.pdp_isolate(model=base_model, \n",
    "                          dataset=X_train_pdp,      \n",
    "                          model_features=list(X_train_pdp), \n",
    "                          feature=['country_Germany', 'country_UK', 'country_US'])\n",
    "pdp_dataset = pd.Series(pdp_iso.pdp, index=pdp_iso.display_columns)\n",
    "pdp_dataset.sort_values(ascending=False).plot(kind='bar', title='Country')\n",
    "plt.show()"
   ]
  },
  {
   "cell_type": "code",
   "execution_count": 56,
   "metadata": {},
   "outputs": [
    {
     "data": {
      "image/png": "[encoded data removed]",
      "text/plain": [
       "<Figure size 432x288 with 1 Axes>"
      ]
     },
     "metadata": {},
     "output_type": "display_data"
    }
   ],
   "source": [
    "# Source\n",
    "pdp_iso = pdp.pdp_isolate(model=base_model, \n",
    "                          dataset=X_train_pdp,      \n",
    "                          model_features=list(X_train_pdp), \n",
    "                          feature=['source_Direct', 'source_Seo'])\n",
    "pdp_dataset = pd.Series(pdp_iso.pdp, index=pdp_iso.display_columns)\n",
    "pdp_dataset.sort_values(ascending=False).plot(kind='bar', title='Source')\n",
    "plt.show()"
   ]
  },
  {
   "cell_type": "code",
   "execution_count": 57,
   "metadata": {},
   "outputs": [
    {
     "data": {
      "image/png": "[encoded data removed]",
      "text/plain": [
       "<Figure size 432x288 with 1 Axes>"
      ]
     },
     "metadata": {},
     "output_type": "display_data"
    }
   ],
   "source": [
    "# New user\n",
    "pdp_iso = pdp.pdp_isolate(model=base_model, \n",
    "                          dataset=X_train_pdp,      \n",
    "                          model_features=list(X_train_pdp), \n",
    "                          feature='new_user')\n",
    "pdp_dataset = pd.Series(pdp_iso.pdp, index=pdp_iso.display_columns)\n",
    "pdp_dataset.sort_values(ascending=False).plot(kind='bar', title='New user')\n",
    "plt.show()"
   ]
  },
  {
   "cell_type": "code",
   "execution_count": 58,
   "metadata": {},
   "outputs": [
    {
     "data": {
      "image/png": "[encoded data removed]",
      "text/plain": [
       "<Figure size 432x288 with 1 Axes>"
      ]
     },
     "metadata": {},
     "output_type": "display_data"
    }
   ],
   "source": [
    "# Age\n",
    "pdp_iso = pdp.pdp_isolate(model=base_model, \n",
    "                          dataset=X_train_pdp,      \n",
    "                          model_features=list(X_train_pdp), \n",
    "                          feature='age')\n",
    "pdp_dataset = pd.Series(pdp_iso.pdp, index=pdp_iso.feature_grids)\n",
    "pdp_dataset.plot(title='Age')\n",
    "plt.show()"
   ]
  },
  {
   "cell_type": "code",
   "execution_count": 59,
   "metadata": {},
   "outputs": [
    {
     "data": {
      "image/png": "[encoded data removed]",
      "text/plain": [
       "<Figure size 432x288 with 1 Axes>"
      ]
     },
     "metadata": {},
     "output_type": "display_data"
    }
   ],
   "source": [
    "# Total pages visited\n",
    "pdp_iso = pdp.pdp_isolate(model=base_model, \n",
    "                          dataset=X_train_pdp,      \n",
    "                          model_features=list(X_train_pdp), \n",
    "                          feature='total_pages_visited')\n",
    "pdp_dataset = pd.Series(pdp_iso.pdp, index=pdp_iso.feature_grids)\n",
    "pdp_dataset.plot(title='Total pages visited')\n",
    "plt.show()"
   ]
  },
  {
   "cell_type": "markdown",
   "metadata": {},
   "source": [
    "## 7. Deployment"
   ]
  },
  {
   "cell_type": "markdown",
   "metadata": {},
   "source": [
    "### 7.1 Convertion rate prediction"
   ]
  },
  {
   "cell_type": "code",
   "execution_count": 60,
   "metadata": {},
   "outputs": [
    {
     "data": {
      "text/plain": [
       "array([[1., 0.],\n",
       "       [1., 0.],\n",
       "       [1., 0.],\n",
       "       ...,\n",
       "       [1., 0.],\n",
       "       [1., 0.],\n",
       "       [1., 0.]])"
      ]
     },
     "execution_count": 60,
     "metadata": {},
     "output_type": "execute_result"
    }
   ],
   "source": [
    "# Prediction probability\n",
    "y_pred_proba = best_grid.predict_proba(X_test)\n",
    "y_pred_proba"
   ]
  },
  {
   "cell_type": "code",
   "execution_count": 61,
   "metadata": {},
   "outputs": [
    {
     "data": {
      "text/html": [
       "<div>\n",
       "<style scoped>\n",
       "    .dataframe tbody tr th:only-of-type {\n",
       "        vertical-align: middle;\n",
       "    }\n",
       "\n",
       "    .dataframe tbody tr th {\n",
       "        vertical-align: top;\n",
       "    }\n",
       "\n",
       "    .dataframe thead th {\n",
       "        text-align: right;\n",
       "    }\n",
       "</style>\n",
       "<table border=\"1\" class=\"dataframe\">\n",
       "  <thead>\n",
       "    <tr style=\"text-align: right;\">\n",
       "      <th></th>\n",
       "      <th>Actual conversion</th>\n",
       "      <th>Predicted conversion</th>\n",
       "      <th>prediction_probability_0</th>\n",
       "      <th>prediction_probability_1</th>\n",
       "      <th>new_user</th>\n",
       "      <th>age</th>\n",
       "      <th>country_US</th>\n",
       "      <th>country_UK</th>\n",
       "      <th>country_Germany</th>\n",
       "    </tr>\n",
       "  </thead>\n",
       "  <tbody>\n",
       "    <tr>\n",
       "      <th>219275</th>\n",
       "      <td>0</td>\n",
       "      <td>0</td>\n",
       "      <td>1.000000</td>\n",
       "      <td>0.000000</td>\n",
       "      <td>1</td>\n",
       "      <td>55</td>\n",
       "      <td>1</td>\n",
       "      <td>0</td>\n",
       "      <td>0</td>\n",
       "    </tr>\n",
       "    <tr>\n",
       "      <th>146574</th>\n",
       "      <td>0</td>\n",
       "      <td>0</td>\n",
       "      <td>1.000000</td>\n",
       "      <td>0.000000</td>\n",
       "      <td>1</td>\n",
       "      <td>41</td>\n",
       "      <td>1</td>\n",
       "      <td>0</td>\n",
       "      <td>0</td>\n",
       "    </tr>\n",
       "    <tr>\n",
       "      <th>230824</th>\n",
       "      <td>0</td>\n",
       "      <td>0</td>\n",
       "      <td>1.000000</td>\n",
       "      <td>0.000000</td>\n",
       "      <td>0</td>\n",
       "      <td>23</td>\n",
       "      <td>1</td>\n",
       "      <td>0</td>\n",
       "      <td>0</td>\n",
       "    </tr>\n",
       "    <tr>\n",
       "      <th>37530</th>\n",
       "      <td>0</td>\n",
       "      <td>0</td>\n",
       "      <td>0.993333</td>\n",
       "      <td>0.006667</td>\n",
       "      <td>0</td>\n",
       "      <td>29</td>\n",
       "      <td>0</td>\n",
       "      <td>0</td>\n",
       "      <td>1</td>\n",
       "    </tr>\n",
       "    <tr>\n",
       "      <th>167273</th>\n",
       "      <td>0</td>\n",
       "      <td>0</td>\n",
       "      <td>1.000000</td>\n",
       "      <td>0.000000</td>\n",
       "      <td>1</td>\n",
       "      <td>31</td>\n",
       "      <td>1</td>\n",
       "      <td>0</td>\n",
       "      <td>0</td>\n",
       "    </tr>\n",
       "    <tr>\n",
       "      <th>170654</th>\n",
       "      <td>0</td>\n",
       "      <td>0</td>\n",
       "      <td>1.000000</td>\n",
       "      <td>0.000000</td>\n",
       "      <td>1</td>\n",
       "      <td>34</td>\n",
       "      <td>0</td>\n",
       "      <td>0</td>\n",
       "      <td>0</td>\n",
       "    </tr>\n",
       "    <tr>\n",
       "      <th>28306</th>\n",
       "      <td>0</td>\n",
       "      <td>0</td>\n",
       "      <td>1.000000</td>\n",
       "      <td>0.000000</td>\n",
       "      <td>1</td>\n",
       "      <td>21</td>\n",
       "      <td>0</td>\n",
       "      <td>0</td>\n",
       "      <td>0</td>\n",
       "    </tr>\n",
       "    <tr>\n",
       "      <th>12740</th>\n",
       "      <td>0</td>\n",
       "      <td>0</td>\n",
       "      <td>1.000000</td>\n",
       "      <td>0.000000</td>\n",
       "      <td>1</td>\n",
       "      <td>31</td>\n",
       "      <td>1</td>\n",
       "      <td>0</td>\n",
       "      <td>0</td>\n",
       "    </tr>\n",
       "    <tr>\n",
       "      <th>108164</th>\n",
       "      <td>0</td>\n",
       "      <td>0</td>\n",
       "      <td>1.000000</td>\n",
       "      <td>0.000000</td>\n",
       "      <td>0</td>\n",
       "      <td>29</td>\n",
       "      <td>1</td>\n",
       "      <td>0</td>\n",
       "      <td>0</td>\n",
       "    </tr>\n",
       "    <tr>\n",
       "      <th>226735</th>\n",
       "      <td>0</td>\n",
       "      <td>0</td>\n",
       "      <td>1.000000</td>\n",
       "      <td>0.000000</td>\n",
       "      <td>1</td>\n",
       "      <td>46</td>\n",
       "      <td>0</td>\n",
       "      <td>0</td>\n",
       "      <td>0</td>\n",
       "    </tr>\n",
       "    <tr>\n",
       "      <th>209614</th>\n",
       "      <td>0</td>\n",
       "      <td>0</td>\n",
       "      <td>1.000000</td>\n",
       "      <td>0.000000</td>\n",
       "      <td>1</td>\n",
       "      <td>31</td>\n",
       "      <td>1</td>\n",
       "      <td>0</td>\n",
       "      <td>0</td>\n",
       "    </tr>\n",
       "    <tr>\n",
       "      <th>156304</th>\n",
       "      <td>0</td>\n",
       "      <td>0</td>\n",
       "      <td>1.000000</td>\n",
       "      <td>0.000000</td>\n",
       "      <td>1</td>\n",
       "      <td>30</td>\n",
       "      <td>1</td>\n",
       "      <td>0</td>\n",
       "      <td>0</td>\n",
       "    </tr>\n",
       "    <tr>\n",
       "      <th>91460</th>\n",
       "      <td>0</td>\n",
       "      <td>0</td>\n",
       "      <td>1.000000</td>\n",
       "      <td>0.000000</td>\n",
       "      <td>1</td>\n",
       "      <td>24</td>\n",
       "      <td>0</td>\n",
       "      <td>0</td>\n",
       "      <td>0</td>\n",
       "    </tr>\n",
       "    <tr>\n",
       "      <th>168391</th>\n",
       "      <td>0</td>\n",
       "      <td>0</td>\n",
       "      <td>1.000000</td>\n",
       "      <td>0.000000</td>\n",
       "      <td>1</td>\n",
       "      <td>22</td>\n",
       "      <td>0</td>\n",
       "      <td>0</td>\n",
       "      <td>0</td>\n",
       "    </tr>\n",
       "    <tr>\n",
       "      <th>32127</th>\n",
       "      <td>0</td>\n",
       "      <td>0</td>\n",
       "      <td>1.000000</td>\n",
       "      <td>0.000000</td>\n",
       "      <td>0</td>\n",
       "      <td>37</td>\n",
       "      <td>0</td>\n",
       "      <td>1</td>\n",
       "      <td>0</td>\n",
       "    </tr>\n",
       "    <tr>\n",
       "      <th>77435</th>\n",
       "      <td>0</td>\n",
       "      <td>1</td>\n",
       "      <td>0.000000</td>\n",
       "      <td>1.000000</td>\n",
       "      <td>0</td>\n",
       "      <td>34</td>\n",
       "      <td>0</td>\n",
       "      <td>0</td>\n",
       "      <td>0</td>\n",
       "    </tr>\n",
       "    <tr>\n",
       "      <th>51320</th>\n",
       "      <td>0</td>\n",
       "      <td>0</td>\n",
       "      <td>1.000000</td>\n",
       "      <td>0.000000</td>\n",
       "      <td>0</td>\n",
       "      <td>22</td>\n",
       "      <td>1</td>\n",
       "      <td>0</td>\n",
       "      <td>0</td>\n",
       "    </tr>\n",
       "    <tr>\n",
       "      <th>126289</th>\n",
       "      <td>0</td>\n",
       "      <td>0</td>\n",
       "      <td>1.000000</td>\n",
       "      <td>0.000000</td>\n",
       "      <td>1</td>\n",
       "      <td>21</td>\n",
       "      <td>1</td>\n",
       "      <td>0</td>\n",
       "      <td>0</td>\n",
       "    </tr>\n",
       "    <tr>\n",
       "      <th>116843</th>\n",
       "      <td>0</td>\n",
       "      <td>0</td>\n",
       "      <td>0.964444</td>\n",
       "      <td>0.035556</td>\n",
       "      <td>0</td>\n",
       "      <td>35</td>\n",
       "      <td>1</td>\n",
       "      <td>0</td>\n",
       "      <td>0</td>\n",
       "    </tr>\n",
       "    <tr>\n",
       "      <th>239147</th>\n",
       "      <td>0</td>\n",
       "      <td>0</td>\n",
       "      <td>1.000000</td>\n",
       "      <td>0.000000</td>\n",
       "      <td>1</td>\n",
       "      <td>26</td>\n",
       "      <td>0</td>\n",
       "      <td>0</td>\n",
       "      <td>0</td>\n",
       "    </tr>\n",
       "  </tbody>\n",
       "</table>\n",
       "</div>"
      ],
      "text/plain": [
       "        Actual conversion  Predicted conversion  prediction_probability_0  \\\n",
       "219275                  0                     0                  1.000000   \n",
       "146574                  0                     0                  1.000000   \n",
       "230824                  0                     0                  1.000000   \n",
       "37530                   0                     0                  0.993333   \n",
       "167273                  0                     0                  1.000000   \n",
       "170654                  0                     0                  1.000000   \n",
       "28306                   0                     0                  1.000000   \n",
       "12740                   0                     0                  1.000000   \n",
       "108164                  0                     0                  1.000000   \n",
       "226735                  0                     0                  1.000000   \n",
       "209614                  0                     0                  1.000000   \n",
       "156304                  0                     0                  1.000000   \n",
       "91460                   0                     0                  1.000000   \n",
       "168391                  0                     0                  1.000000   \n",
       "32127                   0                     0                  1.000000   \n",
       "77435                   0                     1                  0.000000   \n",
       "51320                   0                     0                  1.000000   \n",
       "126289                  0                     0                  1.000000   \n",
       "116843                  0                     0                  0.964444   \n",
       "239147                  0                     0                  1.000000   \n",
       "\n",
       "        prediction_probability_1  new_user  age  country_US  country_UK  \\\n",
       "219275                  0.000000         1   55           1           0   \n",
       "146574                  0.000000         1   41           1           0   \n",
       "230824                  0.000000         0   23           1           0   \n",
       "37530                   0.006667         0   29           0           0   \n",
       "167273                  0.000000         1   31           1           0   \n",
       "170654                  0.000000         1   34           0           0   \n",
       "28306                   0.000000         1   21           0           0   \n",
       "12740                   0.000000         1   31           1           0   \n",
       "108164                  0.000000         0   29           1           0   \n",
       "226735                  0.000000         1   46           0           0   \n",
       "209614                  0.000000         1   31           1           0   \n",
       "156304                  0.000000         1   30           1           0   \n",
       "91460                   0.000000         1   24           0           0   \n",
       "168391                  0.000000         1   22           0           0   \n",
       "32127                   0.000000         0   37           0           1   \n",
       "77435                   1.000000         0   34           0           0   \n",
       "51320                   0.000000         0   22           1           0   \n",
       "126289                  0.000000         1   21           1           0   \n",
       "116843                  0.035556         0   35           1           0   \n",
       "239147                  0.000000         1   26           0           0   \n",
       "\n",
       "        country_Germany  \n",
       "219275                0  \n",
       "146574                0  \n",
       "230824                0  \n",
       "37530                 1  \n",
       "167273                0  \n",
       "170654                0  \n",
       "28306                 0  \n",
       "12740                 0  \n",
       "108164                0  \n",
       "226735                0  \n",
       "209614                0  \n",
       "156304                0  \n",
       "91460                 0  \n",
       "168391                0  \n",
       "32127                 0  \n",
       "77435                 0  \n",
       "51320                 0  \n",
       "126289                0  \n",
       "116843                0  \n",
       "239147                0  "
      ]
     },
     "execution_count": 61,
     "metadata": {},
     "output_type": "execute_result"
    }
   ],
   "source": [
    "results = pd.DataFrame({\n",
    "    'Actual conversion': y_test,\n",
    "    'Predicted conversion': y_pred_grid,\n",
    "    'prediction_probability_0': y_pred_proba[:,0],\n",
    "    'prediction_probability_1': y_pred_proba[:,1],\n",
    "    'new_user': X_test.new_user,\n",
    "    'age': X_test.age,\n",
    "    'country_US': X_test.country_US,\n",
    "    'country_UK': X_test.country_UK,\n",
    "    'country_Germany': X_test.country_Germany\n",
    "    }, columns=['Actual conversion', 'Predicted conversion', 'prediction_probability_0',\n",
    "               'prediction_probability_1', 'new_user', 'age', 'country_US', 'country_UK', 'country_Germany'])\n",
    "\n",
    "results.head(20)"
   ]
  },
  {
   "cell_type": "markdown",
   "metadata": {},
   "source": [
    "### 7.2 Recommendations for the product and marketing team to improve conversion rate"
   ]
  },
  {
   "cell_type": "markdown",
   "metadata": {},
   "source": [
    "1. Enhance marketing to young people as they have higher conversion rate.\n",
    "2. Target more on German and UK customers.\n",
    "3. Return users convert more than new users, use targeted emails to attract conversion.\n",
    "4. Improve website setting or design for those low converted customers, e.g. older customers and those visited website in China."
   ]
  }
 ],
 "metadata": {
  "kernelspec": {
   "display_name": "Python 3",
   "language": "python",
   "name": "python3"
  },
  "language_info": {
   "codemirror_mode": {
    "name": "ipython",
    "version": 3
   },
   "file_extension": ".py",
   "mimetype": "text/x-python",
   "name": "python",
   "nbconvert_exporter": "python",
   "pygments_lexer": "ipython3",
   "version": "3.7.3"
  }
 },
 "nbformat": 4,
 "nbformat_minor": 2
}
